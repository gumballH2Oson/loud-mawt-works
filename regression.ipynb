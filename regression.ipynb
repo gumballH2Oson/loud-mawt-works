{
  "nbformat": 4,
  "nbformat_minor": 0,
  "metadata": {
    "colab": {
      "provenance": [],
      "authorship_tag": "ABX9TyNp0u9Cqal02NgUjQs9NZL9",
      "include_colab_link": true
    },
    "kernelspec": {
      "name": "python3",
      "display_name": "Python 3"
    },
    "language_info": {
      "name": "python"
    }
  },
  "cells": [
    {
      "cell_type": "markdown",
      "metadata": {
        "id": "view-in-github",
        "colab_type": "text"
      },
      "source": [
        "<a href=\"https://colab.research.google.com/github/gumballH2Oson/loud-mawt-works/blob/main/regression.ipynb\" target=\"_parent\"><img src=\"https://colab.research.google.com/assets/colab-badge.svg\" alt=\"Open In Colab\"/></a>"
      ]
    },
    {
      "cell_type": "markdown",
      "source": [
        "## INRODUCTION TO REGRESSION WITH NUREAL NETWORKS"
      ],
      "metadata": {
        "id": "LVevka9Yovkv"
      }
    },
    {
      "cell_type": "code",
      "source": [
        "import tensorflow as tf\n"
      ],
      "metadata": {
        "id": "e6Hiw6LFo1yB"
      },
      "execution_count": null,
      "outputs": []
    },
    {
      "cell_type": "code",
      "source": [
        "##Create data to view and fit\n",
        "\n",
        "import numpy as np\n",
        "import matplotlib.pyplot as plt\n",
        "\n",
        "# Create features\n",
        "X = np.array([-7.0, -4.0, -1.0, 2.0, 5.0, 8.0, 11.0, 14.0])\n",
        "\n",
        "# Create labels\n",
        "y = np.array([3.0, 6.0, 9.0, 12.0, 15.0, 18.0, 21.0, 24.0])\n",
        "\n",
        "#Visualize\n",
        "plt.scatter(X,y);"
      ],
      "metadata": {
        "colab": {
          "base_uri": "https://localhost:8080/",
          "height": 435
        },
        "id": "CemTQDUupAzT",
        "outputId": "795e7210-9d67-4588-de88-3da746b66102"
      },
      "execution_count": null,
      "outputs": [
        {
          "output_type": "display_data",
          "data": {
            "text/plain": [
              "<Figure size 640x480 with 1 Axes>"
            ],
            "image/png": "[encoded data removed]"
          },
          "metadata": {}
        }
      ]
    },
    {
      "cell_type": "markdown",
      "source": [
        "## Input and output shape"
      ],
      "metadata": {
        "id": "_nMt9ltOq8EN"
      }
    },
    {
      "cell_type": "code",
      "source": [
        "#create a demo tensor for our housing price preduiction\n",
        "\n",
        "house_info= tf.constant(['beadroom', 'bathroom', 'garage'])\n",
        "house_price= tf.constant([939700])\n",
        "house_info, house_price"
      ],
      "metadata": {
        "id": "ovzQRA_qqBa2",
        "colab": {
          "base_uri": "https://localhost:8080/"
        },
        "outputId": "e935d852-4b5f-4893-bffe-7ce2d212ff2c"
      },
      "execution_count": null,
      "outputs": [
        {
          "output_type": "execute_result",
          "data": {
            "text/plain": [
              "(<tf.Tensor: shape=(3,), dtype=string, numpy=array([b'beadroom', b'bathroom', b'garage'], dtype=object)>,\n",
              " <tf.Tensor: shape=(1,), dtype=int32, numpy=array([939700], dtype=int32)>)"
            ]
          },
          "metadata": {},
          "execution_count": 3
        }
      ]
    },
    {
      "cell_type": "code",
      "source": [
        "input_shape = X.shape\n",
        "output_shape= y.shape\n",
        "input_shape, output_shape"
      ],
      "metadata": {
        "colab": {
          "base_uri": "https://localhost:8080/"
        },
        "id": "OwQLNDfaf72Q",
        "outputId": "1e0e5463-73a1-40d2-d9a9-dd3f2260a4ce"
      },
      "execution_count": null,
      "outputs": [
        {
          "output_type": "execute_result",
          "data": {
            "text/plain": [
              "((8,), (8,))"
            ]
          },
          "metadata": {},
          "execution_count": 4
        }
      ]
    },
    {
      "cell_type": "code",
      "source": [
        "#turn our numpy arrays to tensors\n",
        "\n",
        "X= tf.cast(tf.constant(X), dtype=tf.float32)\n",
        "y= tf.cast(tf.constant(y), dtype=tf.float32)\n",
        "\n",
        "X,y"
      ],
      "metadata": {
        "colab": {
          "base_uri": "https://localhost:8080/"
        },
        "id": "XKjUlqFlggvD",
        "outputId": "559376fd-5466-4e18-87da-7a44caa66ddf"
      },
      "execution_count": null,
      "outputs": [
        {
          "output_type": "execute_result",
          "data": {
            "text/plain": [
              "(<tf.Tensor: shape=(8,), dtype=float32, numpy=array([-7., -4., -1.,  2.,  5.,  8., 11., 14.], dtype=float32)>,\n",
              " <tf.Tensor: shape=(8,), dtype=float32, numpy=array([ 3.,  6.,  9., 12., 15., 18., 21., 24.], dtype=float32)>)"
            ]
          },
          "metadata": {},
          "execution_count": 5
        }
      ]
    },
    {
      "cell_type": "code",
      "source": [
        "\n",
        "# Set random seed\n",
        "tf.random.set_seed(42)\n",
        "\n",
        "# Create a model using the Sequential API\n",
        "model = tf.keras.Sequential([\n",
        "  tf.keras.layers.Dense(1)\n",
        "])\n",
        "\n",
        "# Compile the model\n",
        "model.compile(loss=tf.keras.losses.mae, # mae is short for mean absolute error\n",
        "              optimizer=tf.keras.optimizers.SGD(), # SGD is short for stochastic gradient descent\n",
        "              metrics=[\"mae\"])\n",
        "\n",
        "# Fit the model\n",
        "# model.fit(X, y, epochs=5) # this will break with TensorFlow 2.7.0+\n",
        "model.fit(tf.expand_dims(X, axis=-1), y, epochs=5)"
      ],
      "metadata": {
        "colab": {
          "base_uri": "https://localhost:8080/"
        },
        "id": "CgiIVsf1peoZ",
        "outputId": "7d4609ea-ba0b-433b-868c-026a92e24b80"
      },
      "execution_count": null,
      "outputs": [
        {
          "output_type": "stream",
          "name": "stdout",
          "text": [
            "Epoch 1/5\n",
            "1/1 [==============================] - 1s 607ms/step - loss: 17.6379 - mae: 17.6379\n",
            "Epoch 2/5\n",
            "1/1 [==============================] - 0s 12ms/step - loss: 17.3566 - mae: 17.3566\n",
            "Epoch 3/5\n",
            "1/1 [==============================] - 0s 14ms/step - loss: 17.0754 - mae: 17.0754\n",
            "Epoch 4/5\n",
            "1/1 [==============================] - 0s 13ms/step - loss: 16.7941 - mae: 16.7941\n",
            "Epoch 5/5\n",
            "1/1 [==============================] - 0s 12ms/step - loss: 16.5129 - mae: 16.5129\n"
          ]
        },
        {
          "output_type": "execute_result",
          "data": {
            "text/plain": [
              "<keras.callbacks.History at 0x786d39e2e2f0>"
            ]
          },
          "metadata": {},
          "execution_count": 6
        }
      ]
    },
    {
      "cell_type": "code",
      "source": [],
      "metadata": {
        "id": "rK0UJT2Qk5fi"
      },
      "execution_count": null,
      "outputs": []
    },
    {
      "cell_type": "code",
      "source": [
        "#try and make a prediction\n",
        "y_pred = model.predict([17.0])\n",
        "y_pred"
      ],
      "metadata": {
        "colab": {
          "base_uri": "https://localhost:8080/"
        },
        "id": "2IF89IssnrAO",
        "outputId": "ba8f9d0e-ae23-4438-f7c3-e18f38be2b2a"
      },
      "execution_count": null,
      "outputs": [
        {
          "output_type": "stream",
          "name": "stdout",
          "text": [
            "1/1 [==============================] - 0s 118ms/step\n"
          ]
        },
        {
          "output_type": "execute_result",
          "data": {
            "text/plain": [
              "array([[-11.327375]], dtype=float32)"
            ]
          },
          "metadata": {},
          "execution_count": 7
        }
      ]
    },
    {
      "cell_type": "markdown",
      "source": [
        "## Imporving our model"
      ],
      "metadata": {
        "id": "j4p7PPf6pFCW"
      }
    },
    {
      "cell_type": "code",
      "source": [
        "\n",
        "# Set random seed\n",
        "tf.random.set_seed(42)\n",
        "\n",
        "# Create a model (same as above)\n",
        "model = tf.keras.Sequential([\n",
        "  tf.keras.layers.Dense(1)\n",
        "])\n",
        "\n",
        "# Compile model (same as above)\n",
        "model.compile(loss=tf.keras.losses.mae,\n",
        "              optimizer=tf.keras.optimizers.SGD(),\n",
        "              metrics=[\"mae\"])\n",
        "\n",
        "# Fit model (this time we'll train for longer)\n",
        "model.fit(tf.expand_dims(X, axis=-1), y, epochs=100) # train for 100 epochs not 10"
      ],
      "metadata": {
        "colab": {
          "base_uri": "https://localhost:8080/"
        },
        "id": "WuCMiucBnzVY",
        "outputId": "a5047b93-529c-47fe-d492-21016852fd43"
      },
      "execution_count": null,
      "outputs": [
        {
          "output_type": "stream",
          "name": "stdout",
          "text": [
            "Epoch 1/100\n",
            "1/1 [==============================] - 0s 382ms/step - loss: 19.3087 - mae: 19.3087\n",
            "Epoch 2/100\n",
            "1/1 [==============================] - 0s 16ms/step - loss: 19.0275 - mae: 19.0275\n",
            "Epoch 3/100\n",
            "1/1 [==============================] - 0s 12ms/step - loss: 18.7462 - mae: 18.7462\n",
            "Epoch 4/100\n",
            "1/1 [==============================] - 0s 12ms/step - loss: 18.4650 - mae: 18.4650\n",
            "Epoch 5/100\n",
            "1/1 [==============================] - 0s 13ms/step - loss: 18.1837 - mae: 18.1837\n",
            "Epoch 6/100\n",
            "1/1 [==============================] - 0s 14ms/step - loss: 17.9025 - mae: 17.9025\n",
            "Epoch 7/100\n",
            "1/1 [==============================] - 0s 12ms/step - loss: 17.6212 - mae: 17.6212\n",
            "Epoch 8/100\n",
            "1/1 [==============================] - 0s 11ms/step - loss: 17.3400 - mae: 17.3400\n",
            "Epoch 9/100\n",
            "1/1 [==============================] - 0s 11ms/step - loss: 17.0587 - mae: 17.0587\n",
            "Epoch 10/100\n",
            "1/1 [==============================] - 0s 11ms/step - loss: 16.7775 - mae: 16.7775\n",
            "Epoch 11/100\n",
            "1/1 [==============================] - 0s 10ms/step - loss: 16.4962 - mae: 16.4962\n",
            "Epoch 12/100\n",
            "1/1 [==============================] - 0s 11ms/step - loss: 16.2150 - mae: 16.2150\n",
            "Epoch 13/100\n",
            "1/1 [==============================] - 0s 13ms/step - loss: 15.9337 - mae: 15.9337\n",
            "Epoch 14/100\n",
            "1/1 [==============================] - 0s 11ms/step - loss: 15.6525 - mae: 15.6525\n",
            "Epoch 15/100\n",
            "1/1 [==============================] - 0s 15ms/step - loss: 15.3712 - mae: 15.3712\n",
            "Epoch 16/100\n",
            "1/1 [==============================] - 0s 11ms/step - loss: 15.0900 - mae: 15.0900\n",
            "Epoch 17/100\n",
            "1/1 [==============================] - 0s 11ms/step - loss: 14.8125 - mae: 14.8125\n",
            "Epoch 18/100\n",
            "1/1 [==============================] - 0s 12ms/step - loss: 14.6800 - mae: 14.6800\n",
            "Epoch 19/100\n",
            "1/1 [==============================] - 0s 12ms/step - loss: 14.5475 - mae: 14.5475\n",
            "Epoch 20/100\n",
            "1/1 [==============================] - 0s 13ms/step - loss: 14.4150 - mae: 14.4150\n",
            "Epoch 21/100\n",
            "1/1 [==============================] - 0s 9ms/step - loss: 14.2825 - mae: 14.2825\n",
            "Epoch 22/100\n",
            "1/1 [==============================] - 0s 10ms/step - loss: 14.1500 - mae: 14.1500\n",
            "Epoch 23/100\n",
            "1/1 [==============================] - 0s 11ms/step - loss: 14.0175 - mae: 14.0175\n",
            "Epoch 24/100\n",
            "1/1 [==============================] - 0s 10ms/step - loss: 13.8850 - mae: 13.8850\n",
            "Epoch 25/100\n",
            "1/1 [==============================] - 0s 10ms/step - loss: 13.7525 - mae: 13.7525\n",
            "Epoch 26/100\n",
            "1/1 [==============================] - 0s 11ms/step - loss: 13.6200 - mae: 13.6200\n",
            "Epoch 27/100\n",
            "1/1 [==============================] - 0s 10ms/step - loss: 13.4875 - mae: 13.4875\n",
            "Epoch 28/100\n",
            "1/1 [==============================] - 0s 9ms/step - loss: 13.3550 - mae: 13.3550\n",
            "Epoch 29/100\n",
            "1/1 [==============================] - 0s 10ms/step - loss: 13.2225 - mae: 13.2225\n",
            "Epoch 30/100\n",
            "1/1 [==============================] - 0s 10ms/step - loss: 13.0900 - mae: 13.0900\n",
            "Epoch 31/100\n",
            "1/1 [==============================] - 0s 10ms/step - loss: 12.9575 - mae: 12.9575\n",
            "Epoch 32/100\n",
            "1/1 [==============================] - 0s 14ms/step - loss: 12.8250 - mae: 12.8250\n",
            "Epoch 33/100\n",
            "1/1 [==============================] - 0s 11ms/step - loss: 12.6925 - mae: 12.6925\n",
            "Epoch 34/100\n",
            "1/1 [==============================] - 0s 10ms/step - loss: 12.5600 - mae: 12.5600\n",
            "Epoch 35/100\n",
            "1/1 [==============================] - 0s 13ms/step - loss: 12.4275 - mae: 12.4275\n",
            "Epoch 36/100\n",
            "1/1 [==============================] - 0s 17ms/step - loss: 12.2950 - mae: 12.2950\n",
            "Epoch 37/100\n",
            "1/1 [==============================] - 0s 12ms/step - loss: 12.1625 - mae: 12.1625\n",
            "Epoch 38/100\n",
            "1/1 [==============================] - 0s 10ms/step - loss: 12.0300 - mae: 12.0300\n",
            "Epoch 39/100\n",
            "1/1 [==============================] - 0s 10ms/step - loss: 11.8975 - mae: 11.8975\n",
            "Epoch 40/100\n",
            "1/1 [==============================] - 0s 9ms/step - loss: 11.7650 - mae: 11.7650\n",
            "Epoch 41/100\n",
            "1/1 [==============================] - 0s 9ms/step - loss: 11.6325 - mae: 11.6325\n",
            "Epoch 42/100\n",
            "1/1 [==============================] - 0s 10ms/step - loss: 11.5000 - mae: 11.5000\n",
            "Epoch 43/100\n",
            "1/1 [==============================] - 0s 11ms/step - loss: 11.3675 - mae: 11.3675\n",
            "Epoch 44/100\n",
            "1/1 [==============================] - 0s 10ms/step - loss: 11.2350 - mae: 11.2350\n",
            "Epoch 45/100\n",
            "1/1 [==============================] - 0s 12ms/step - loss: 11.1025 - mae: 11.1025\n",
            "Epoch 46/100\n",
            "1/1 [==============================] - 0s 10ms/step - loss: 10.9700 - mae: 10.9700\n",
            "Epoch 47/100\n",
            "1/1 [==============================] - 0s 10ms/step - loss: 10.8375 - mae: 10.8375\n",
            "Epoch 48/100\n",
            "1/1 [==============================] - 0s 12ms/step - loss: 10.7050 - mae: 10.7050\n",
            "Epoch 49/100\n",
            "1/1 [==============================] - 0s 10ms/step - loss: 10.5725 - mae: 10.5725\n",
            "Epoch 50/100\n",
            "1/1 [==============================] - 0s 10ms/step - loss: 10.4400 - mae: 10.4400\n",
            "Epoch 51/100\n",
            "1/1 [==============================] - 0s 11ms/step - loss: 10.3075 - mae: 10.3075\n",
            "Epoch 52/100\n",
            "1/1 [==============================] - 0s 11ms/step - loss: 10.1750 - mae: 10.1750\n",
            "Epoch 53/100\n",
            "1/1 [==============================] - 0s 10ms/step - loss: 10.0425 - mae: 10.0425\n",
            "Epoch 54/100\n",
            "1/1 [==============================] - 0s 13ms/step - loss: 9.9100 - mae: 9.9100\n",
            "Epoch 55/100\n",
            "1/1 [==============================] - 0s 10ms/step - loss: 9.7775 - mae: 9.7775\n",
            "Epoch 56/100\n",
            "1/1 [==============================] - 0s 10ms/step - loss: 9.6450 - mae: 9.6450\n",
            "Epoch 57/100\n",
            "1/1 [==============================] - 0s 11ms/step - loss: 9.5125 - mae: 9.5125\n",
            "Epoch 58/100\n",
            "1/1 [==============================] - 0s 11ms/step - loss: 9.3800 - mae: 9.3800\n",
            "Epoch 59/100\n",
            "1/1 [==============================] - 0s 11ms/step - loss: 9.2475 - mae: 9.2475\n",
            "Epoch 60/100\n",
            "1/1 [==============================] - 0s 11ms/step - loss: 9.1150 - mae: 9.1150\n",
            "Epoch 61/100\n",
            "1/1 [==============================] - 0s 10ms/step - loss: 8.9825 - mae: 8.9825\n",
            "Epoch 62/100\n",
            "1/1 [==============================] - 0s 10ms/step - loss: 8.8500 - mae: 8.8500\n",
            "Epoch 63/100\n",
            "1/1 [==============================] - 0s 10ms/step - loss: 8.7175 - mae: 8.7175\n",
            "Epoch 64/100\n",
            "1/1 [==============================] - 0s 10ms/step - loss: 8.5850 - mae: 8.5850\n",
            "Epoch 65/100\n",
            "1/1 [==============================] - 0s 24ms/step - loss: 8.4525 - mae: 8.4525\n",
            "Epoch 66/100\n",
            "1/1 [==============================] - 0s 16ms/step - loss: 8.3200 - mae: 8.3200\n",
            "Epoch 67/100\n",
            "1/1 [==============================] - 0s 10ms/step - loss: 8.1875 - mae: 8.1875\n",
            "Epoch 68/100\n",
            "1/1 [==============================] - 0s 10ms/step - loss: 8.0550 - mae: 8.0550\n",
            "Epoch 69/100\n",
            "1/1 [==============================] - 0s 9ms/step - loss: 7.9225 - mae: 7.9225\n",
            "Epoch 70/100\n",
            "1/1 [==============================] - 0s 10ms/step - loss: 7.7900 - mae: 7.7900\n",
            "Epoch 71/100\n",
            "1/1 [==============================] - 0s 10ms/step - loss: 7.6575 - mae: 7.6575\n",
            "Epoch 72/100\n",
            "1/1 [==============================] - 0s 10ms/step - loss: 7.5250 - mae: 7.5250\n",
            "Epoch 73/100\n",
            "1/1 [==============================] - 0s 11ms/step - loss: 7.3925 - mae: 7.3925\n",
            "Epoch 74/100\n",
            "1/1 [==============================] - 0s 10ms/step - loss: 7.2600 - mae: 7.2600\n",
            "Epoch 75/100\n",
            "1/1 [==============================] - 0s 10ms/step - loss: 7.1275 - mae: 7.1275\n",
            "Epoch 76/100\n",
            "1/1 [==============================] - 0s 10ms/step - loss: 6.9950 - mae: 6.9950\n",
            "Epoch 77/100\n",
            "1/1 [==============================] - 0s 10ms/step - loss: 6.9600 - mae: 6.9600\n",
            "Epoch 78/100\n",
            "1/1 [==============================] - 0s 9ms/step - loss: 6.9544 - mae: 6.9544\n",
            "Epoch 79/100\n",
            "1/1 [==============================] - 0s 9ms/step - loss: 6.9488 - mae: 6.9488\n",
            "Epoch 80/100\n",
            "1/1 [==============================] - 0s 9ms/step - loss: 6.9431 - mae: 6.9431\n",
            "Epoch 81/100\n",
            "1/1 [==============================] - 0s 10ms/step - loss: 6.9375 - mae: 6.9375\n",
            "Epoch 82/100\n",
            "1/1 [==============================] - 0s 10ms/step - loss: 6.9319 - mae: 6.9319\n",
            "Epoch 83/100\n",
            "1/1 [==============================] - 0s 10ms/step - loss: 6.9263 - mae: 6.9263\n",
            "Epoch 84/100\n",
            "1/1 [==============================] - 0s 9ms/step - loss: 6.9206 - mae: 6.9206\n",
            "Epoch 85/100\n",
            "1/1 [==============================] - 0s 10ms/step - loss: 6.9150 - mae: 6.9150\n",
            "Epoch 86/100\n",
            "1/1 [==============================] - 0s 9ms/step - loss: 6.9094 - mae: 6.9094\n",
            "Epoch 87/100\n",
            "1/1 [==============================] - 0s 10ms/step - loss: 6.9038 - mae: 6.9038\n",
            "Epoch 88/100\n",
            "1/1 [==============================] - 0s 10ms/step - loss: 6.8981 - mae: 6.8981\n",
            "Epoch 89/100\n",
            "1/1 [==============================] - 0s 10ms/step - loss: 6.8925 - mae: 6.8925\n",
            "Epoch 90/100\n",
            "1/1 [==============================] - 0s 10ms/step - loss: 6.8869 - mae: 6.8869\n",
            "Epoch 91/100\n",
            "1/1 [==============================] - 0s 10ms/step - loss: 6.8812 - mae: 6.8812\n",
            "Epoch 92/100\n",
            "1/1 [==============================] - 0s 10ms/step - loss: 6.8756 - mae: 6.8756\n",
            "Epoch 93/100\n",
            "1/1 [==============================] - 0s 10ms/step - loss: 6.8700 - mae: 6.8700\n",
            "Epoch 94/100\n",
            "1/1 [==============================] - 0s 15ms/step - loss: 6.8644 - mae: 6.8644\n",
            "Epoch 95/100\n",
            "1/1 [==============================] - 0s 10ms/step - loss: 6.8588 - mae: 6.8588\n",
            "Epoch 96/100\n",
            "1/1 [==============================] - 0s 18ms/step - loss: 6.8531 - mae: 6.8531\n",
            "Epoch 97/100\n",
            "1/1 [==============================] - 0s 14ms/step - loss: 6.8475 - mae: 6.8475\n",
            "Epoch 98/100\n",
            "1/1 [==============================] - 0s 31ms/step - loss: 6.8419 - mae: 6.8419\n",
            "Epoch 99/100\n",
            "1/1 [==============================] - 0s 30ms/step - loss: 6.8363 - mae: 6.8363\n",
            "Epoch 100/100\n",
            "1/1 [==============================] - 0s 30ms/step - loss: 6.8306 - mae: 6.8306\n"
          ]
        },
        {
          "output_type": "execute_result",
          "data": {
            "text/plain": [
              "<keras.callbacks.History at 0x786d39d869e0>"
            ]
          },
          "metadata": {},
          "execution_count": 8
        }
      ]
    },
    {
      "cell_type": "code",
      "source": [
        "#try and make a prediction\n",
        "y_pred = model.predict([17.0])\n",
        "y_pred"
      ],
      "metadata": {
        "colab": {
          "base_uri": "https://localhost:8080/"
        },
        "id": "-tLJR3l5s_ZJ",
        "outputId": "c042dc1a-8371-4142-8623-a4205827909d"
      },
      "execution_count": null,
      "outputs": [
        {
          "output_type": "stream",
          "name": "stdout",
          "text": [
            "1/1 [==============================] - 0s 145ms/step\n"
          ]
        },
        {
          "output_type": "execute_result",
          "data": {
            "text/plain": [
              "array([[29.64229]], dtype=float32)"
            ]
          },
          "metadata": {},
          "execution_count": 9
        }
      ]
    },
    {
      "cell_type": "code",
      "source": [
        "\n",
        "# Set random seed\n",
        "tf.random.set_seed(42)\n",
        "\n",
        "# Create a model (same as above)\n",
        "model = tf.keras.Sequential([\n",
        "    tf.keras.layers.Dense(100, activation='relu'),\n",
        "  tf.keras.layers.Dense(1)\n",
        "])\n",
        "\n",
        "# Compile model (same as above)\n",
        "model.compile(loss=tf.keras.losses.mae,\n",
        "              optimizer=tf.keras.optimizers.SGD(),\n",
        "              metrics=[\"mae\"])\n",
        "\n",
        "# Fit model (this time we'll train for longer)\n",
        "model.fit(tf.expand_dims(X, axis=-1), y, epochs=100) # train for 100 epochs not 10"
      ],
      "metadata": {
        "colab": {
          "base_uri": "https://localhost:8080/"
        },
        "id": "a_GoepqOvHNw",
        "outputId": "b6a2f978-02c0-4144-9cf8-4e7b78282cf7"
      },
      "execution_count": null,
      "outputs": [
        {
          "output_type": "stream",
          "name": "stdout",
          "text": [
            "Epoch 1/100\n",
            "1/1 [==============================] - 1s 914ms/step - loss: 13.0404 - mae: 13.0404\n",
            "Epoch 2/100\n",
            "1/1 [==============================] - 0s 23ms/step - loss: 12.5630 - mae: 12.5630\n",
            "Epoch 3/100\n",
            "1/1 [==============================] - 0s 25ms/step - loss: 12.0792 - mae: 12.0792\n",
            "Epoch 4/100\n",
            "1/1 [==============================] - 0s 21ms/step - loss: 11.5854 - mae: 11.5854\n",
            "Epoch 5/100\n",
            "1/1 [==============================] - 0s 19ms/step - loss: 11.0822 - mae: 11.0822\n",
            "Epoch 6/100\n",
            "1/1 [==============================] - 0s 24ms/step - loss: 10.5640 - mae: 10.5640\n",
            "Epoch 7/100\n",
            "1/1 [==============================] - 0s 18ms/step - loss: 10.0266 - mae: 10.0266\n",
            "Epoch 8/100\n",
            "1/1 [==============================] - 0s 15ms/step - loss: 9.4618 - mae: 9.4618\n",
            "Epoch 9/100\n",
            "1/1 [==============================] - 0s 15ms/step - loss: 8.8722 - mae: 8.8722\n",
            "Epoch 10/100\n",
            "1/1 [==============================] - 0s 19ms/step - loss: 8.2779 - mae: 8.2779\n",
            "Epoch 11/100\n",
            "1/1 [==============================] - 0s 28ms/step - loss: 7.6801 - mae: 7.6801\n",
            "Epoch 12/100\n",
            "1/1 [==============================] - 0s 14ms/step - loss: 7.0337 - mae: 7.0337\n",
            "Epoch 13/100\n",
            "1/1 [==============================] - 0s 24ms/step - loss: 6.3382 - mae: 6.3382\n",
            "Epoch 14/100\n",
            "1/1 [==============================] - 0s 15ms/step - loss: 5.5895 - mae: 5.5895\n",
            "Epoch 15/100\n",
            "1/1 [==============================] - 0s 15ms/step - loss: 4.7636 - mae: 4.7636\n",
            "Epoch 16/100\n",
            "1/1 [==============================] - 0s 23ms/step - loss: 4.0958 - mae: 4.0958\n",
            "Epoch 17/100\n",
            "1/1 [==============================] - 0s 18ms/step - loss: 4.0020 - mae: 4.0020\n",
            "Epoch 18/100\n",
            "1/1 [==============================] - 0s 16ms/step - loss: 3.9056 - mae: 3.9056\n",
            "Epoch 19/100\n",
            "1/1 [==============================] - 0s 25ms/step - loss: 3.9670 - mae: 3.9670\n",
            "Epoch 20/100\n",
            "1/1 [==============================] - 0s 20ms/step - loss: 3.9006 - mae: 3.9006\n",
            "Epoch 21/100\n",
            "1/1 [==============================] - 0s 13ms/step - loss: 3.9506 - mae: 3.9506\n",
            "Epoch 22/100\n",
            "1/1 [==============================] - 0s 18ms/step - loss: 3.9163 - mae: 3.9163\n",
            "Epoch 23/100\n",
            "1/1 [==============================] - 0s 17ms/step - loss: 3.9355 - mae: 3.9355\n",
            "Epoch 24/100\n",
            "1/1 [==============================] - 0s 12ms/step - loss: 3.9230 - mae: 3.9230\n",
            "Epoch 25/100\n",
            "1/1 [==============================] - 0s 16ms/step - loss: 3.9094 - mae: 3.9094\n",
            "Epoch 26/100\n",
            "1/1 [==============================] - 0s 20ms/step - loss: 3.9287 - mae: 3.9287\n",
            "Epoch 27/100\n",
            "1/1 [==============================] - 0s 17ms/step - loss: 3.8832 - mae: 3.8832\n",
            "Epoch 28/100\n",
            "1/1 [==============================] - 0s 48ms/step - loss: 3.9345 - mae: 3.9345\n",
            "Epoch 29/100\n",
            "1/1 [==============================] - 0s 33ms/step - loss: 3.8686 - mae: 3.8686\n",
            "Epoch 30/100\n",
            "1/1 [==============================] - 0s 22ms/step - loss: 3.9385 - mae: 3.9385\n",
            "Epoch 31/100\n",
            "1/1 [==============================] - 0s 36ms/step - loss: 3.8856 - mae: 3.8856\n",
            "Epoch 32/100\n",
            "1/1 [==============================] - 0s 23ms/step - loss: 3.9123 - mae: 3.9123\n",
            "Epoch 33/100\n",
            "1/1 [==============================] - 0s 11ms/step - loss: 3.8914 - mae: 3.8914\n",
            "Epoch 34/100\n",
            "1/1 [==============================] - 0s 12ms/step - loss: 3.8860 - mae: 3.8860\n",
            "Epoch 35/100\n",
            "1/1 [==============================] - 0s 18ms/step - loss: 3.8973 - mae: 3.8973\n",
            "Epoch 36/100\n",
            "1/1 [==============================] - 0s 14ms/step - loss: 3.8595 - mae: 3.8595\n",
            "Epoch 37/100\n",
            "1/1 [==============================] - 0s 22ms/step - loss: 3.9037 - mae: 3.9037\n",
            "Epoch 38/100\n",
            "1/1 [==============================] - 0s 15ms/step - loss: 3.8491 - mae: 3.8491\n",
            "Epoch 39/100\n",
            "1/1 [==============================] - 0s 20ms/step - loss: 3.9143 - mae: 3.9143\n",
            "Epoch 40/100\n",
            "1/1 [==============================] - 0s 23ms/step - loss: 3.8550 - mae: 3.8550\n",
            "Epoch 41/100\n",
            "1/1 [==============================] - 0s 22ms/step - loss: 3.8879 - mae: 3.8879\n",
            "Epoch 42/100\n",
            "1/1 [==============================] - 0s 20ms/step - loss: 3.8609 - mae: 3.8609\n",
            "Epoch 43/100\n",
            "1/1 [==============================] - 0s 24ms/step - loss: 3.8613 - mae: 3.8613\n",
            "Epoch 44/100\n",
            "1/1 [==============================] - 0s 23ms/step - loss: 3.8670 - mae: 3.8670\n",
            "Epoch 45/100\n",
            "1/1 [==============================] - 0s 21ms/step - loss: 3.8357 - mae: 3.8357\n",
            "Epoch 46/100\n",
            "1/1 [==============================] - 0s 23ms/step - loss: 3.8846 - mae: 3.8846\n",
            "Epoch 47/100\n",
            "1/1 [==============================] - 0s 17ms/step - loss: 3.8194 - mae: 3.8194\n",
            "Epoch 48/100\n",
            "1/1 [==============================] - 0s 21ms/step - loss: 3.8889 - mae: 3.8889\n",
            "Epoch 49/100\n",
            "1/1 [==============================] - 0s 19ms/step - loss: 3.8254 - mae: 3.8254\n",
            "Epoch 50/100\n",
            "1/1 [==============================] - 0s 23ms/step - loss: 3.8622 - mae: 3.8622\n",
            "Epoch 51/100\n",
            "1/1 [==============================] - 0s 18ms/step - loss: 3.8316 - mae: 3.8316\n",
            "Epoch 52/100\n",
            "1/1 [==============================] - 0s 17ms/step - loss: 3.8354 - mae: 3.8354\n",
            "Epoch 53/100\n",
            "1/1 [==============================] - 0s 19ms/step - loss: 3.8389 - mae: 3.8389\n",
            "Epoch 54/100\n",
            "1/1 [==============================] - 0s 19ms/step - loss: 3.8191 - mae: 3.8191\n",
            "Epoch 55/100\n",
            "1/1 [==============================] - 0s 19ms/step - loss: 3.8556 - mae: 3.8556\n",
            "Epoch 56/100\n",
            "1/1 [==============================] - 0s 19ms/step - loss: 3.7919 - mae: 3.7919\n",
            "Epoch 57/100\n",
            "1/1 [==============================] - 0s 18ms/step - loss: 3.8621 - mae: 3.8621\n",
            "Epoch 58/100\n",
            "1/1 [==============================] - 0s 21ms/step - loss: 3.7970 - mae: 3.7970\n",
            "Epoch 59/100\n",
            "1/1 [==============================] - 0s 26ms/step - loss: 3.8353 - mae: 3.8353\n",
            "Epoch 60/100\n",
            "1/1 [==============================] - 0s 15ms/step - loss: 3.8034 - mae: 3.8034\n",
            "Epoch 61/100\n",
            "1/1 [==============================] - 0s 17ms/step - loss: 3.8097 - mae: 3.8097\n",
            "Epoch 62/100\n",
            "1/1 [==============================] - 0s 15ms/step - loss: 3.8212 - mae: 3.8212\n",
            "Epoch 63/100\n",
            "1/1 [==============================] - 0s 14ms/step - loss: 3.7916 - mae: 3.7916\n",
            "Epoch 64/100\n",
            "1/1 [==============================] - 0s 14ms/step - loss: 3.8277 - mae: 3.8277\n",
            "Epoch 65/100\n",
            "1/1 [==============================] - 0s 19ms/step - loss: 3.7640 - mae: 3.7640\n",
            "Epoch 66/100\n",
            "1/1 [==============================] - 0s 29ms/step - loss: 3.8344 - mae: 3.8344\n",
            "Epoch 67/100\n",
            "1/1 [==============================] - 0s 21ms/step - loss: 3.7696 - mae: 3.7696\n",
            "Epoch 68/100\n",
            "1/1 [==============================] - 0s 20ms/step - loss: 3.8071 - mae: 3.8071\n",
            "Epoch 69/100\n",
            "1/1 [==============================] - 0s 17ms/step - loss: 3.7774 - mae: 3.7774\n",
            "Epoch 70/100\n",
            "1/1 [==============================] - 0s 26ms/step - loss: 3.7903 - mae: 3.7903\n",
            "Epoch 71/100\n",
            "1/1 [==============================] - 0s 17ms/step - loss: 3.7942 - mae: 3.7942\n",
            "Epoch 72/100\n",
            "1/1 [==============================] - 0s 24ms/step - loss: 3.7627 - mae: 3.7627\n",
            "Epoch 73/100\n",
            "1/1 [==============================] - 0s 24ms/step - loss: 3.8009 - mae: 3.8009\n",
            "Epoch 74/100\n",
            "1/1 [==============================] - 0s 19ms/step - loss: 3.7367 - mae: 3.7367\n",
            "Epoch 75/100\n",
            "1/1 [==============================] - 0s 15ms/step - loss: 3.8051 - mae: 3.8051\n",
            "Epoch 76/100\n",
            "1/1 [==============================] - 0s 36ms/step - loss: 3.7433 - mae: 3.7433\n",
            "Epoch 77/100\n",
            "1/1 [==============================] - 0s 11ms/step - loss: 3.7790 - mae: 3.7790\n",
            "Epoch 78/100\n",
            "1/1 [==============================] - 0s 14ms/step - loss: 3.7614 - mae: 3.7614\n",
            "Epoch 79/100\n",
            "1/1 [==============================] - 0s 19ms/step - loss: 3.7604 - mae: 3.7604\n",
            "Epoch 80/100\n",
            "1/1 [==============================] - 0s 24ms/step - loss: 3.7682 - mae: 3.7682\n",
            "Epoch 81/100\n",
            "1/1 [==============================] - 0s 22ms/step - loss: 3.7325 - mae: 3.7325\n",
            "Epoch 82/100\n",
            "1/1 [==============================] - 0s 22ms/step - loss: 3.7752 - mae: 3.7752\n",
            "Epoch 83/100\n",
            "1/1 [==============================] - 0s 19ms/step - loss: 3.7112 - mae: 3.7112\n",
            "Epoch 84/100\n",
            "1/1 [==============================] - 0s 20ms/step - loss: 3.7745 - mae: 3.7745\n",
            "Epoch 85/100\n",
            "1/1 [==============================] - 0s 25ms/step - loss: 3.7191 - mae: 3.7191\n",
            "Epoch 86/100\n",
            "1/1 [==============================] - 0s 20ms/step - loss: 3.7573 - mae: 3.7573\n",
            "Epoch 87/100\n",
            "1/1 [==============================] - 0s 16ms/step - loss: 3.7363 - mae: 3.7363\n",
            "Epoch 88/100\n",
            "1/1 [==============================] - 0s 18ms/step - loss: 3.7292 - mae: 3.7292\n",
            "Epoch 89/100\n",
            "1/1 [==============================] - 0s 19ms/step - loss: 3.7433 - mae: 3.7433\n",
            "Epoch 90/100\n",
            "1/1 [==============================] - 0s 17ms/step - loss: 3.7010 - mae: 3.7010\n",
            "Epoch 91/100\n",
            "1/1 [==============================] - 0s 16ms/step - loss: 3.7505 - mae: 3.7505\n",
            "Epoch 92/100\n",
            "1/1 [==============================] - 0s 17ms/step - loss: 3.6868 - mae: 3.6868\n",
            "Epoch 93/100\n",
            "1/1 [==============================] - 0s 19ms/step - loss: 3.7437 - mae: 3.7437\n",
            "Epoch 94/100\n",
            "1/1 [==============================] - 0s 28ms/step - loss: 3.7051 - mae: 3.7051\n",
            "Epoch 95/100\n",
            "1/1 [==============================] - 0s 30ms/step - loss: 3.7251 - mae: 3.7251\n",
            "Epoch 96/100\n",
            "1/1 [==============================] - 0s 26ms/step - loss: 3.7122 - mae: 3.7122\n",
            "Epoch 97/100\n",
            "1/1 [==============================] - 0s 25ms/step - loss: 3.6967 - mae: 3.6967\n",
            "Epoch 98/100\n",
            "1/1 [==============================] - 0s 32ms/step - loss: 3.7194 - mae: 3.7194\n",
            "Epoch 99/100\n",
            "1/1 [==============================] - 0s 12ms/step - loss: 3.6681 - mae: 3.6681\n",
            "Epoch 100/100\n",
            "1/1 [==============================] - 0s 21ms/step - loss: 3.7268 - mae: 3.7268\n"
          ]
        },
        {
          "output_type": "execute_result",
          "data": {
            "text/plain": [
              "<keras.callbacks.History at 0x786d3a679150>"
            ]
          },
          "metadata": {},
          "execution_count": 10
        }
      ]
    },
    {
      "cell_type": "code",
      "source": [
        "#try and make a prediction\n",
        "y_pred = model.predict([17.0])\n",
        "y_pred"
      ],
      "metadata": {
        "colab": {
          "base_uri": "https://localhost:8080/"
        },
        "id": "2YDy6esDXqTt",
        "outputId": "e2c87bd6-ec3f-475b-c5eb-7b9bc5567cc9"
      },
      "execution_count": null,
      "outputs": [
        {
          "output_type": "stream",
          "name": "stdout",
          "text": [
            "1/1 [==============================] - 0s 350ms/step\n"
          ]
        },
        {
          "output_type": "execute_result",
          "data": {
            "text/plain": [
              "array([[32.07922]], dtype=float32)"
            ]
          },
          "metadata": {},
          "execution_count": 11
        }
      ]
    },
    {
      "cell_type": "markdown",
      "source": [
        "## EVALUATING OUR MODEL"
      ],
      "metadata": {
        "id": "_BoNwLvIdmYB"
      }
    },
    {
      "cell_type": "code",
      "source": [
        "\n",
        "\n",
        "# Make a bigger dataset\n",
        "X = np.arange(-100, 100, 4)\n",
        "X"
      ],
      "metadata": {
        "colab": {
          "base_uri": "https://localhost:8080/"
        },
        "id": "rYmo4EmnXvcH",
        "outputId": "0e619e67-4b11-4c01-c2be-3e7777838940"
      },
      "execution_count": null,
      "outputs": [
        {
          "output_type": "execute_result",
          "data": {
            "text/plain": [
              "array([-100,  -96,  -92,  -88,  -84,  -80,  -76,  -72,  -68,  -64,  -60,\n",
              "        -56,  -52,  -48,  -44,  -40,  -36,  -32,  -28,  -24,  -20,  -16,\n",
              "        -12,   -8,   -4,    0,    4,    8,   12,   16,   20,   24,   28,\n",
              "         32,   36,   40,   44,   48,   52,   56,   60,   64,   68,   72,\n",
              "         76,   80,   84,   88,   92,   96])"
            ]
          },
          "metadata": {},
          "execution_count": 12
        }
      ]
    },
    {
      "cell_type": "code",
      "source": [
        "#Make labels\n",
        "\n",
        "y= X + 10\n",
        "y"
      ],
      "metadata": {
        "colab": {
          "base_uri": "https://localhost:8080/"
        },
        "id": "jw_UmUJKdvxz",
        "outputId": "1d15511b-92d9-4bdc-d49d-6ed7b0764581"
      },
      "execution_count": null,
      "outputs": [
        {
          "output_type": "execute_result",
          "data": {
            "text/plain": [
              "array([-90, -86, -82, -78, -74, -70, -66, -62, -58, -54, -50, -46, -42,\n",
              "       -38, -34, -30, -26, -22, -18, -14, -10,  -6,  -2,   2,   6,  10,\n",
              "        14,  18,  22,  26,  30,  34,  38,  42,  46,  50,  54,  58,  62,\n",
              "        66,  70,  74,  78,  82,  86,  90,  94,  98, 102, 106])"
            ]
          },
          "metadata": {},
          "execution_count": 13
        }
      ]
    },
    {
      "cell_type": "code",
      "source": [
        "len(X) ,  len(y)"
      ],
      "metadata": {
        "colab": {
          "base_uri": "https://localhost:8080/"
        },
        "id": "cMM8AGkXy811",
        "outputId": "a46868b5-37ba-4250-d088-dc4bab589ed2"
      },
      "execution_count": null,
      "outputs": [
        {
          "output_type": "execute_result",
          "data": {
            "text/plain": [
              "(50, 50)"
            ]
          },
          "metadata": {},
          "execution_count": 14
        }
      ]
    },
    {
      "cell_type": "code",
      "source": [
        "#visualize the data\n",
        "import matplotlib.pyplot as plt\n",
        "\n",
        "plt.scatter(X,y)"
      ],
      "metadata": {
        "colab": {
          "base_uri": "https://localhost:8080/",
          "height": 447
        },
        "id": "eYsOxrc6eT0z",
        "outputId": "2aa1c1cd-bc99-4804-9816-025d49ef1f84"
      },
      "execution_count": null,
      "outputs": [
        {
          "output_type": "execute_result",
          "data": {
            "text/plain": [
              "<matplotlib.collections.PathCollection at 0x786d3a572f50>"
            ]
          },
          "metadata": {},
          "execution_count": 15
        },
        {
          "output_type": "display_data",
          "data": {
            "text/plain": [
              "<Figure size 640x480 with 1 Axes>"
            ],
            "image/png": "[encoded data removed]"
          },
          "metadata": {}
        }
      ]
    },
    {
      "cell_type": "markdown",
      "source": [
        "### The 3 sets\n",
        "\n",
        "* Training set - the model learns from this data, which is typically 70-80% of\n",
        "the total data available (like the course materials you study during the semester).\n",
        "\n",
        "* Validation set - the model gets tuned on this data, which is typically 10-15% of the total data available (like the practice exam you take before the final exam).\n",
        "\n",
        "* Test set - the model gets evaluated on this data to test what it has learned, it's typically 10-15% of the total data available (like the final exam you take at the end of the semester)."
      ],
      "metadata": {
        "id": "3EoJWyRhfWlf"
      }
    },
    {
      "cell_type": "code",
      "source": [
        "#check sample length\n",
        "len(X)"
      ],
      "metadata": {
        "colab": {
          "base_uri": "https://localhost:8080/"
        },
        "id": "TKY4dVhUe91P",
        "outputId": "a89a008b-69ef-4628-f1de-3edc392c1087"
      },
      "execution_count": null,
      "outputs": [
        {
          "output_type": "execute_result",
          "data": {
            "text/plain": [
              "50"
            ]
          },
          "metadata": {},
          "execution_count": 16
        }
      ]
    },
    {
      "cell_type": "code",
      "source": [
        "\n",
        "# Split data into train and test sets\n",
        "X_train = X[:40] # first 40 examples (80% of data)\n",
        "y_train = y[:40]\n",
        "\n",
        "X_test = X[40:] # last 10 examples (20% of data)\n",
        "y_test = y[40:]\n",
        "\n",
        "len(X_train), len(X_test)\n"
      ],
      "metadata": {
        "colab": {
          "base_uri": "https://localhost:8080/"
        },
        "id": "C2sBWt43f871",
        "outputId": "ceae0db5-93b9-4412-9e46-db4f6a408b34"
      },
      "execution_count": null,
      "outputs": [
        {
          "output_type": "execute_result",
          "data": {
            "text/plain": [
              "(40, 10)"
            ]
          },
          "metadata": {},
          "execution_count": 17
        }
      ]
    },
    {
      "cell_type": "markdown",
      "source": [
        "### visualizing our data"
      ],
      "metadata": {
        "id": "2geDMa5fgpBW"
      }
    },
    {
      "cell_type": "code",
      "source": [
        "plt.figure(figsize=(10,7))\n",
        "\n",
        "plt.scatter(X_train, y_train, c='b', label='Training data')\n",
        "\n",
        "plt.scatter(X_test, y_test, c='g', label='Testing data')\n",
        "\n",
        "plt.legend();"
      ],
      "metadata": {
        "colab": {
          "base_uri": "https://localhost:8080/",
          "height": 599
        },
        "id": "iUK9Bll-geOR",
        "outputId": "db8de0b3-b7c8-48bd-f256-a16ad0629ff3"
      },
      "execution_count": null,
      "outputs": [
        {
          "output_type": "display_data",
          "data": {
            "text/plain": [
              "<Figure size 1000x700 with 1 Axes>"
            ],
            "image/png": "[encoded data removed]"
          },
          "metadata": {}
        }
      ]
    },
    {
      "cell_type": "code",
      "source": [
        "#creae our model\n",
        "\n",
        "model = tf.keras.Sequential([\n",
        "    tf.keras.layers.Dense(1)\n",
        "])\n",
        "\n",
        "model.compile (loss=tf.keras.losses.mae,\n",
        "              optimizer=tf.keras.optimizers.SGD(),\n",
        "              metrics=['mae'])\n",
        "\n",
        "#model.fit(X_train, y_train, epochs=100)\n",
        "\n"
      ],
      "metadata": {
        "id": "ORU2fbp6hNAq"
      },
      "execution_count": null,
      "outputs": []
    },
    {
      "cell_type": "code",
      "source": [
        "#create a model that defines input.shape arguments\n",
        "tf.random.set_seed(42)\n",
        "\n",
        "#1. create a model\n",
        "model = tf.keras.Sequential([\n",
        "    tf.keras.layers.Dense(1, input_shape=[1])\n",
        "])\n",
        "\n",
        "#2. compile mopdel\n",
        "\n",
        "model.compile(loss=tf.keras.losses.mae,\n",
        "              optimizer= tf.keras.optimizers.SGD(),\n",
        "              metrics=['mae'])\n",
        "\n",
        "model.summary()"
      ],
      "metadata": {
        "colab": {
          "base_uri": "https://localhost:8080/"
        },
        "id": "osXk1Mwhi0fb",
        "outputId": "e4526623-5c47-4bb5-aa49-559c7b400189"
      },
      "execution_count": null,
      "outputs": [
        {
          "output_type": "stream",
          "name": "stdout",
          "text": [
            "Model: \"sequential_4\"\n",
            "_________________________________________________________________\n",
            " Layer (type)                Output Shape              Param #   \n",
            "=================================================================\n",
            " dense_5 (Dense)             (None, 1)                 2         \n",
            "                                                                 \n",
            "=================================================================\n",
            "Total params: 2\n",
            "Trainable params: 2\n",
            "Non-trainable params: 0\n",
            "_________________________________________________________________\n"
          ]
        }
      ]
    },
    {
      "cell_type": "code",
      "source": [
        "#lets fit the data\n",
        "model.fit(X_train, y_train, epochs=100, verbose=0)"
      ],
      "metadata": {
        "colab": {
          "base_uri": "https://localhost:8080/"
        },
        "id": "db9Z2xfamh-R",
        "outputId": "c7c79d12-84c6-4682-a411-49bb70e492ed"
      },
      "execution_count": null,
      "outputs": [
        {
          "output_type": "execute_result",
          "data": {
            "text/plain": [
              "<keras.callbacks.History at 0x786d39f87d90>"
            ]
          },
          "metadata": {},
          "execution_count": 21
        }
      ]
    },
    {
      "cell_type": "code",
      "source": [
        "\n",
        "#get summary of our model\n",
        "\n",
        "model.summary()\n",
        "\n"
      ],
      "metadata": {
        "colab": {
          "base_uri": "https://localhost:8080/"
        },
        "id": "hwCJ3IXCrdNu",
        "outputId": "83948cd4-3b1e-48fb-eb5a-f1ed203274f2"
      },
      "execution_count": null,
      "outputs": [
        {
          "output_type": "stream",
          "name": "stdout",
          "text": [
            "Model: \"sequential_4\"\n",
            "_________________________________________________________________\n",
            " Layer (type)                Output Shape              Param #   \n",
            "=================================================================\n",
            " dense_5 (Dense)             (None, 1)                 2         \n",
            "                                                                 \n",
            "=================================================================\n",
            "Total params: 2\n",
            "Trainable params: 2\n",
            "Non-trainable params: 0\n",
            "_________________________________________________________________\n"
          ]
        }
      ]
    },
    {
      "cell_type": "code",
      "source": [
        "from tensorflow.keras.utils import plot_model\n",
        "\n",
        "plot_model(model=model, show_shapes=True)"
      ],
      "metadata": {
        "colab": {
          "base_uri": "https://localhost:8080/",
          "height": 201
        },
        "id": "fcAlTkZdrphd",
        "outputId": "21a7681c-eb82-4e7b-9936-deff2594aafa"
      },
      "execution_count": null,
      "outputs": [
        {
          "output_type": "execute_result",
          "data": {
            "image/png": "[encoded data removed]",
            "text/plain": [
              "<IPython.core.display.Image object>"
            ]
          },
          "metadata": {},
          "execution_count": 23
        }
      ]
    },
    {
      "cell_type": "markdown",
      "source": [
        "## Visualizing model predictions"
      ],
      "metadata": {
        "id": "75op-7mVtKPv"
      }
    },
    {
      "cell_type": "code",
      "source": [
        "y_preds= model.predict(X_test)\n"
      ],
      "metadata": {
        "colab": {
          "base_uri": "https://localhost:8080/"
        },
        "id": "eE3sKK1SsTgR",
        "outputId": "46293558-2f38-4823-f1a1-254d7aabce62"
      },
      "execution_count": null,
      "outputs": [
        {
          "output_type": "stream",
          "name": "stdout",
          "text": [
            "1/1 [==============================] - 0s 99ms/step\n"
          ]
        }
      ]
    },
    {
      "cell_type": "code",
      "source": [
        "y_preds"
      ],
      "metadata": {
        "colab": {
          "base_uri": "https://localhost:8080/"
        },
        "id": "3C3NkfjDvkmq",
        "outputId": "a21a416d-07d7-4677-9b69-0ddd9aa94224"
      },
      "execution_count": null,
      "outputs": [
        {
          "output_type": "execute_result",
          "data": {
            "text/plain": [
              "array([[44.50588 ],\n",
              "       [47.385353],\n",
              "       [50.264828],\n",
              "       [53.144302],\n",
              "       [56.023777],\n",
              "       [58.90325 ],\n",
              "       [61.78273 ],\n",
              "       [64.6622  ],\n",
              "       [67.54168 ],\n",
              "       [70.42116 ]], dtype=float32)"
            ]
          },
          "metadata": {},
          "execution_count": 25
        }
      ]
    },
    {
      "cell_type": "code",
      "source": [
        "\n",
        "def plot_predictions(train_data=X_train,\n",
        "                     train_labels=y_train,\n",
        "                     test_data=X_test,\n",
        "                     test_labels=y_test,\n",
        "                     predictions=y_preds):\n",
        "  \"\"\"\n",
        "  Plots training data, test data and compares predictions.\n",
        "  \"\"\"\n",
        "  plt.figure(figsize=(10, 7))\n",
        "  # Plot training data in blue\n",
        "  plt.scatter(train_data, train_labels, c=\"b\", label=\"Training data\")\n",
        "  # Plot test data in green\n",
        "  plt.scatter(test_data, test_labels, c=\"g\", label=\"Testing data\")\n",
        "  # Plot the predictions in red (predictions were made on the test data)\n",
        "  plt.scatter(test_data, predictions, c=\"r\", label=\"Predictions\")\n",
        "  # Show the legend\n",
        "  plt.legend();"
      ],
      "metadata": {
        "id": "rNI9sP1EtwI4"
      },
      "execution_count": null,
      "outputs": []
    },
    {
      "cell_type": "code",
      "source": [
        "plot_predictions(train_data=X_train,\n",
        "                 train_labels=y_train,\n",
        "                 test_data=X_test,\n",
        "                 test_labels=y_test,\n",
        "                 predictions=y_preds)"
      ],
      "metadata": {
        "colab": {
          "base_uri": "https://localhost:8080/",
          "height": 599
        },
        "id": "13a8D2cCu0C_",
        "outputId": "21e871b3-446d-4b74-8ca2-5bc130a5c166"
      },
      "execution_count": null,
      "outputs": [
        {
          "output_type": "display_data",
          "data": {
            "text/plain": [
              "<Figure size 1000x700 with 1 Axes>"
            ],
            "image/png": "[encoded data removed]"
          },
          "metadata": {}
        }
      ]
    },
    {
      "cell_type": "code",
      "source": [],
      "metadata": {
        "id": "4mkV_mXF1K6s"
      },
      "execution_count": null,
      "outputs": []
    },
    {
      "cell_type": "markdown",
      "source": [
        "## Evaluating our model preddictions with regression evaluation metrics"
      ],
      "metadata": {
        "id": "LVRvlaQr1MRt"
      }
    },
    {
      "cell_type": "code",
      "source": [
        "#evaluate the model on the tes\n",
        "\n",
        "model.evaluate(X_test, y_test)"
      ],
      "metadata": {
        "colab": {
          "base_uri": "https://localhost:8080/"
        },
        "id": "OvA_e_l-u8Rv",
        "outputId": "9042aa0b-902b-4212-c627-cae1c2d132c6"
      },
      "execution_count": null,
      "outputs": [
        {
          "output_type": "stream",
          "name": "stdout",
          "text": [
            "1/1 [==============================] - 0s 451ms/step - loss: 30.5365 - mae: 30.5365\n"
          ]
        },
        {
          "output_type": "execute_result",
          "data": {
            "text/plain": [
              "[30.536483764648438, 30.536483764648438]"
            ]
          },
          "metadata": {},
          "execution_count": 28
        }
      ]
    },
    {
      "cell_type": "code",
      "source": [
        "#calc mean absolute error\n",
        "\n",
        "mae=tf.metrics.mean_absolute_error(y_true=y_test,\n",
        "                                   y_pred=tf.constant(y_pred))\n",
        "\n",
        "mae"
      ],
      "metadata": {
        "colab": {
          "base_uri": "https://localhost:8080/"
        },
        "id": "Y2gbl7CV3-fx",
        "outputId": "08ee2095-3ca8-4076-b13f-89703a941c06"
      },
      "execution_count": null,
      "outputs": [
        {
          "output_type": "execute_result",
          "data": {
            "text/plain": [
              "<tf.Tensor: shape=(1,), dtype=float32, numpy=array([55.920776], dtype=float32)>"
            ]
          },
          "metadata": {},
          "execution_count": 29
        }
      ]
    },
    {
      "cell_type": "code",
      "source": [
        "\n",
        "# Calcuate the MAE\n",
        "mae = tf.metrics.mean_absolute_error(y_true=y_test,\n",
        "                                     y_pred=y_preds.squeeze()) # use squeeze() to make same shape\n",
        "mae"
      ],
      "metadata": {
        "colab": {
          "base_uri": "https://localhost:8080/"
        },
        "id": "Xcn3rs3b48ge",
        "outputId": "9b4c91c8-7486-4049-f655-42591d3d3298"
      },
      "execution_count": null,
      "outputs": [
        {
          "output_type": "execute_result",
          "data": {
            "text/plain": [
              "<tf.Tensor: shape=(), dtype=float32, numpy=30.536484>"
            ]
          },
          "metadata": {},
          "execution_count": 30
        }
      ]
    },
    {
      "cell_type": "code",
      "source": [
        "mae = tf.metrics.mean_squared_error(y_true=y_test,\n",
        "                                     y_pred=y_preds.squeeze()) # use squeeze() to make same shape\n",
        "mae"
      ],
      "metadata": {
        "colab": {
          "base_uri": "https://localhost:8080/"
        },
        "id": "8U1RQ5br5lKy",
        "outputId": "7fae0616-1f06-4c0a-efb5-8dcd4857348b"
      },
      "execution_count": null,
      "outputs": [
        {
          "output_type": "execute_result",
          "data": {
            "text/plain": [
              "<tf.Tensor: shape=(), dtype=float32, numpy=942.8353>"
            ]
          },
          "metadata": {},
          "execution_count": 31
        }
      ]
    },
    {
      "cell_type": "code",
      "source": [
        "#Make3 a  function to reuse MSE and MAE\n",
        "\n",
        "def mae(y_true, y_pred):\n",
        "  return tf.metrics.mean_absolute_error(y_true=y_true,\n",
        "                                        y_pred=y_pred)\n",
        "\n",
        "def mse(y_true, y_pred):\n",
        "  return tf.metrics.mean_squared_error(y_true=y_true,\n",
        "                                        y_pred=y_pred)"
      ],
      "metadata": {
        "id": "eqgYZF-f6Gn7"
      },
      "execution_count": null,
      "outputs": []
    },
    {
      "cell_type": "markdown",
      "source": [
        "## Modelling experiments"
      ],
      "metadata": {
        "id": "mdUERuBr2xO-"
      }
    },
    {
      "cell_type": "code",
      "source": [
        "\n",
        "\n",
        "# Set random seed\n",
        "tf.random.set_seed(42)\n",
        "\n",
        "# Replicate original model\n",
        "model_1 = tf.keras.Sequential([\n",
        "  tf.keras.layers.Dense(1)\n",
        "])\n",
        "\n",
        "# Compile the model\n",
        "model_1.compile(loss=tf.keras.losses.mae,\n",
        "                optimizer=tf.keras.optimizers.SGD(),\n",
        "                metrics=['mae'])\n",
        "\n",
        "# Fit the model\n",
        "model_1.fit(tf.expand_dims(X_train, axis=-1), y_train, epochs=100)"
      ],
      "metadata": {
        "colab": {
          "base_uri": "https://localhost:8080/"
        },
        "id": "wf9rHOo-tSB2",
        "outputId": "3a44f327-1935-4c63-92ae-220a18d5cb70"
      },
      "execution_count": null,
      "outputs": [
        {
          "output_type": "stream",
          "name": "stdout",
          "text": [
            "Epoch 1/100\n",
            "2/2 [==============================] - 1s 23ms/step - loss: 30.5644 - mae: 30.5644\n",
            "Epoch 2/100\n",
            "2/2 [==============================] - 0s 20ms/step - loss: 8.3384 - mae: 8.3384\n",
            "Epoch 3/100\n",
            "2/2 [==============================] - 0s 11ms/step - loss: 10.4613 - mae: 10.4613\n",
            "Epoch 4/100\n",
            "2/2 [==============================] - 0s 55ms/step - loss: 12.9372 - mae: 12.9372\n",
            "Epoch 5/100\n",
            "2/2 [==============================] - 0s 21ms/step - loss: 11.9801 - mae: 11.9801\n",
            "Epoch 6/100\n",
            "2/2 [==============================] - 0s 16ms/step - loss: 9.2691 - mae: 9.2691\n",
            "Epoch 7/100\n",
            "2/2 [==============================] - 0s 20ms/step - loss: 8.4362 - mae: 8.4362\n",
            "Epoch 8/100\n",
            "2/2 [==============================] - 0s 13ms/step - loss: 9.0370 - mae: 9.0370\n",
            "Epoch 9/100\n",
            "2/2 [==============================] - 0s 17ms/step - loss: 18.4076 - mae: 18.4076\n",
            "Epoch 10/100\n",
            "2/2 [==============================] - 0s 10ms/step - loss: 9.9259 - mae: 9.9259\n",
            "Epoch 11/100\n",
            "2/2 [==============================] - 0s 13ms/step - loss: 8.3273 - mae: 8.3273\n",
            "Epoch 12/100\n",
            "2/2 [==============================] - 0s 20ms/step - loss: 10.5140 - mae: 10.5140\n",
            "Epoch 13/100\n",
            "2/2 [==============================] - 0s 13ms/step - loss: 9.7407 - mae: 9.7407\n",
            "Epoch 14/100\n",
            "2/2 [==============================] - 0s 10ms/step - loss: 15.6431 - mae: 15.6431\n",
            "Epoch 15/100\n",
            "2/2 [==============================] - 0s 12ms/step - loss: 11.7002 - mae: 11.7002\n",
            "Epoch 16/100\n",
            "2/2 [==============================] - 0s 23ms/step - loss: 8.4570 - mae: 8.4570\n",
            "Epoch 17/100\n",
            "2/2 [==============================] - 0s 21ms/step - loss: 13.4397 - mae: 13.4397\n",
            "Epoch 18/100\n",
            "2/2 [==============================] - 0s 15ms/step - loss: 11.2180 - mae: 11.2180\n",
            "Epoch 19/100\n",
            "2/2 [==============================] - 0s 16ms/step - loss: 18.3160 - mae: 18.3160\n",
            "Epoch 20/100\n",
            "2/2 [==============================] - 0s 11ms/step - loss: 15.0214 - mae: 15.0214\n",
            "Epoch 21/100\n",
            "2/2 [==============================] - 0s 10ms/step - loss: 10.8900 - mae: 10.8900\n",
            "Epoch 22/100\n",
            "2/2 [==============================] - 0s 12ms/step - loss: 8.6460 - mae: 8.6460\n",
            "Epoch 23/100\n",
            "2/2 [==============================] - 0s 9ms/step - loss: 9.6816 - mae: 9.6816\n",
            "Epoch 24/100\n",
            "2/2 [==============================] - 0s 8ms/step - loss: 8.5823 - mae: 8.5823\n",
            "Epoch 25/100\n",
            "2/2 [==============================] - 0s 11ms/step - loss: 11.5807 - mae: 11.5807\n",
            "Epoch 26/100\n",
            "2/2 [==============================] - 0s 27ms/step - loss: 15.1576 - mae: 15.1576\n",
            "Epoch 27/100\n",
            "2/2 [==============================] - 0s 13ms/step - loss: 12.0464 - mae: 12.0464\n",
            "Epoch 28/100\n",
            "2/2 [==============================] - 0s 11ms/step - loss: 13.3374 - mae: 13.3374\n",
            "Epoch 29/100\n",
            "2/2 [==============================] - 0s 9ms/step - loss: 9.6011 - mae: 9.6011\n",
            "Epoch 30/100\n",
            "2/2 [==============================] - 0s 11ms/step - loss: 17.1155 - mae: 17.1155\n",
            "Epoch 31/100\n",
            "2/2 [==============================] - 0s 9ms/step - loss: 22.9416 - mae: 22.9416\n",
            "Epoch 32/100\n",
            "2/2 [==============================] - 0s 11ms/step - loss: 7.5531 - mae: 7.5531\n",
            "Epoch 33/100\n",
            "2/2 [==============================] - 0s 14ms/step - loss: 15.4476 - mae: 15.4476\n",
            "Epoch 34/100\n",
            "2/2 [==============================] - 0s 11ms/step - loss: 13.3777 - mae: 13.3777\n",
            "Epoch 35/100\n",
            "2/2 [==============================] - 0s 10ms/step - loss: 7.9775 - mae: 7.9775\n",
            "Epoch 36/100\n",
            "2/2 [==============================] - 0s 11ms/step - loss: 9.9784 - mae: 9.9784\n",
            "Epoch 37/100\n",
            "2/2 [==============================] - 0s 10ms/step - loss: 9.7301 - mae: 9.7301\n",
            "Epoch 38/100\n",
            "2/2 [==============================] - 0s 11ms/step - loss: 10.5911 - mae: 10.5911\n",
            "Epoch 39/100\n",
            "2/2 [==============================] - 0s 11ms/step - loss: 15.6896 - mae: 15.6896\n",
            "Epoch 40/100\n",
            "2/2 [==============================] - 0s 29ms/step - loss: 13.4390 - mae: 13.4390\n",
            "Epoch 41/100\n",
            "2/2 [==============================] - 0s 12ms/step - loss: 9.2986 - mae: 9.2986\n",
            "Epoch 42/100\n",
            "2/2 [==============================] - 0s 12ms/step - loss: 10.9921 - mae: 10.9921\n",
            "Epoch 43/100\n",
            "2/2 [==============================] - 0s 12ms/step - loss: 8.3338 - mae: 8.3338\n",
            "Epoch 44/100\n",
            "2/2 [==============================] - 0s 7ms/step - loss: 13.0259 - mae: 13.0259\n",
            "Epoch 45/100\n",
            "2/2 [==============================] - 0s 9ms/step - loss: 13.6995 - mae: 13.6995\n",
            "Epoch 46/100\n",
            "2/2 [==============================] - 0s 15ms/step - loss: 8.4037 - mae: 8.4037\n",
            "Epoch 47/100\n",
            "2/2 [==============================] - 0s 12ms/step - loss: 9.1826 - mae: 9.1826\n",
            "Epoch 48/100\n",
            "2/2 [==============================] - 0s 8ms/step - loss: 10.6914 - mae: 10.6914\n",
            "Epoch 49/100\n",
            "2/2 [==============================] - 0s 8ms/step - loss: 7.7937 - mae: 7.7937\n",
            "Epoch 50/100\n",
            "2/2 [==============================] - 0s 9ms/step - loss: 9.6071 - mae: 9.6071\n",
            "Epoch 51/100\n",
            "2/2 [==============================] - 0s 14ms/step - loss: 9.1756 - mae: 9.1756\n",
            "Epoch 52/100\n",
            "2/2 [==============================] - 0s 11ms/step - loss: 16.5016 - mae: 16.5016\n",
            "Epoch 53/100\n",
            "2/2 [==============================] - 0s 18ms/step - loss: 14.0719 - mae: 14.0719\n",
            "Epoch 54/100\n",
            "2/2 [==============================] - 0s 9ms/step - loss: 20.9733 - mae: 20.9733\n",
            "Epoch 55/100\n",
            "2/2 [==============================] - 0s 7ms/step - loss: 16.5223 - mae: 16.5223\n",
            "Epoch 56/100\n",
            "2/2 [==============================] - 0s 8ms/step - loss: 9.8468 - mae: 9.8468\n",
            "Epoch 57/100\n",
            "2/2 [==============================] - 0s 15ms/step - loss: 9.6742 - mae: 9.6742\n",
            "Epoch 58/100\n",
            "2/2 [==============================] - 0s 9ms/step - loss: 8.9899 - mae: 8.9899\n",
            "Epoch 59/100\n",
            "2/2 [==============================] - 0s 10ms/step - loss: 10.2063 - mae: 10.2063\n",
            "Epoch 60/100\n",
            "2/2 [==============================] - 0s 11ms/step - loss: 8.4105 - mae: 8.4105\n",
            "Epoch 61/100\n",
            "2/2 [==============================] - 0s 10ms/step - loss: 9.2423 - mae: 9.2423\n",
            "Epoch 62/100\n",
            "2/2 [==============================] - 0s 10ms/step - loss: 7.2796 - mae: 7.2796\n",
            "Epoch 63/100\n",
            "2/2 [==============================] - 0s 10ms/step - loss: 8.1847 - mae: 8.1847\n",
            "Epoch 64/100\n",
            "2/2 [==============================] - 0s 10ms/step - loss: 12.5494 - mae: 12.5494\n",
            "Epoch 65/100\n",
            "2/2 [==============================] - 0s 25ms/step - loss: 10.6320 - mae: 10.6320\n",
            "Epoch 66/100\n",
            "2/2 [==============================] - 0s 9ms/step - loss: 15.4655 - mae: 15.4655\n",
            "Epoch 67/100\n",
            "2/2 [==============================] - 0s 8ms/step - loss: 9.9092 - mae: 9.9092\n",
            "Epoch 68/100\n",
            "2/2 [==============================] - 0s 8ms/step - loss: 8.6824 - mae: 8.6824\n",
            "Epoch 69/100\n",
            "2/2 [==============================] - 0s 7ms/step - loss: 13.3400 - mae: 13.3400\n",
            "Epoch 70/100\n",
            "2/2 [==============================] - 0s 17ms/step - loss: 7.4760 - mae: 7.4760\n",
            "Epoch 71/100\n",
            "2/2 [==============================] - 0s 13ms/step - loss: 12.3588 - mae: 12.3588\n",
            "Epoch 72/100\n",
            "2/2 [==============================] - 0s 8ms/step - loss: 8.4558 - mae: 8.4558\n",
            "Epoch 73/100\n",
            "2/2 [==============================] - 0s 8ms/step - loss: 6.8813 - mae: 6.8813\n",
            "Epoch 74/100\n",
            "2/2 [==============================] - 0s 9ms/step - loss: 11.0559 - mae: 11.0559\n",
            "Epoch 75/100\n",
            "2/2 [==============================] - 0s 15ms/step - loss: 9.4224 - mae: 9.4224\n",
            "Epoch 76/100\n",
            "2/2 [==============================] - 0s 9ms/step - loss: 10.8778 - mae: 10.8778\n",
            "Epoch 77/100\n",
            "2/2 [==============================] - 0s 8ms/step - loss: 14.8200 - mae: 14.8200\n",
            "Epoch 78/100\n",
            "2/2 [==============================] - 0s 9ms/step - loss: 10.8848 - mae: 10.8848\n",
            "Epoch 79/100\n",
            "2/2 [==============================] - 0s 20ms/step - loss: 15.3283 - mae: 15.3283\n",
            "Epoch 80/100\n",
            "2/2 [==============================] - 0s 32ms/step - loss: 11.7792 - mae: 11.7792\n",
            "Epoch 81/100\n",
            "2/2 [==============================] - 0s 16ms/step - loss: 9.2072 - mae: 9.2072\n",
            "Epoch 82/100\n",
            "2/2 [==============================] - 0s 36ms/step - loss: 12.8675 - mae: 12.8675\n",
            "Epoch 83/100\n",
            "2/2 [==============================] - 0s 21ms/step - loss: 10.3268 - mae: 10.3268\n",
            "Epoch 84/100\n",
            "2/2 [==============================] - 0s 24ms/step - loss: 10.5909 - mae: 10.5909\n",
            "Epoch 85/100\n",
            "2/2 [==============================] - 0s 28ms/step - loss: 9.3082 - mae: 9.3082\n",
            "Epoch 86/100\n",
            "2/2 [==============================] - 0s 34ms/step - loss: 9.1627 - mae: 9.1627\n",
            "Epoch 87/100\n",
            "2/2 [==============================] - 0s 21ms/step - loss: 11.8810 - mae: 11.8810\n",
            "Epoch 88/100\n",
            "2/2 [==============================] - 0s 10ms/step - loss: 10.4915 - mae: 10.4915\n",
            "Epoch 89/100\n",
            "2/2 [==============================] - 0s 29ms/step - loss: 6.9825 - mae: 6.9825\n",
            "Epoch 90/100\n",
            "2/2 [==============================] - 0s 39ms/step - loss: 13.8190 - mae: 13.8190\n",
            "Epoch 91/100\n",
            "2/2 [==============================] - 0s 20ms/step - loss: 7.8917 - mae: 7.8917\n",
            "Epoch 92/100\n",
            "2/2 [==============================] - 0s 9ms/step - loss: 7.4644 - mae: 7.4644\n",
            "Epoch 93/100\n",
            "2/2 [==============================] - 0s 16ms/step - loss: 9.1706 - mae: 9.1706\n",
            "Epoch 94/100\n",
            "2/2 [==============================] - 0s 33ms/step - loss: 8.5726 - mae: 8.5726\n",
            "Epoch 95/100\n",
            "2/2 [==============================] - 0s 14ms/step - loss: 11.5181 - mae: 11.5181\n",
            "Epoch 96/100\n",
            "2/2 [==============================] - 0s 23ms/step - loss: 10.2920 - mae: 10.2920\n",
            "Epoch 97/100\n",
            "2/2 [==============================] - 0s 21ms/step - loss: 7.6978 - mae: 7.6978\n",
            "Epoch 98/100\n",
            "2/2 [==============================] - 0s 16ms/step - loss: 8.6324 - mae: 8.6324\n",
            "Epoch 99/100\n",
            "2/2 [==============================] - 0s 15ms/step - loss: 9.4124 - mae: 9.4124\n",
            "Epoch 100/100\n",
            "2/2 [==============================] - 0s 20ms/step - loss: 8.8549 - mae: 8.8549\n"
          ]
        },
        {
          "output_type": "execute_result",
          "data": {
            "text/plain": [
              "<keras.callbacks.History at 0x786d39b3d4e0>"
            ]
          },
          "metadata": {},
          "execution_count": 33
        }
      ]
    },
    {
      "cell_type": "code",
      "source": [
        "\n",
        "# Make and plot predictions for model_1\n",
        "y_preds_1 = model_1.predict(X_test)\n",
        "plot_predictions(predictions=y_preds_1)"
      ],
      "metadata": {
        "colab": {
          "base_uri": "https://localhost:8080/",
          "height": 654
        },
        "id": "jlnrNBMFrDG5",
        "outputId": "aee5dde8-9a53-4f84-e95e-87cf71a0a499"
      },
      "execution_count": null,
      "outputs": [
        {
          "output_type": "stream",
          "name": "stderr",
          "text": [
            "WARNING:tensorflow:5 out of the last 5 calls to <function Model.make_predict_function.<locals>.predict_function at 0x786d39b4d750> triggered tf.function retracing. Tracing is expensive and the excessive number of tracings could be due to (1) creating @tf.function repeatedly in a loop, (2) passing tensors with different shapes, (3) passing Python objects instead of tensors. For (1), please define your @tf.function outside of the loop. For (2), @tf.function has reduce_retracing=True option that can avoid unnecessary retracing. For (3), please refer to https://www.tensorflow.org/guide/function#controlling_retracing and https://www.tensorflow.org/api_docs/python/tf/function for  more details.\n"
          ]
        },
        {
          "output_type": "stream",
          "name": "stdout",
          "text": [
            "1/1 [==============================] - 0s 195ms/step\n"
          ]
        },
        {
          "output_type": "display_data",
          "data": {
            "text/plain": [
              "<Figure size 1000x700 with 1 Axes>"
            ],
            "image/png": "[encoded data removed]"
          },
          "metadata": {}
        }
      ]
    },
    {
      "cell_type": "code",
      "source": [
        "\n",
        "# Calculate model_1 metrics\n",
        "mae_1 = mae(y_test, y_preds_1.squeeze()).numpy()\n",
        "mse_1 = mse(y_test, y_preds_1.squeeze()).numpy()\n",
        "mae_1, mse_1"
      ],
      "metadata": {
        "colab": {
          "base_uri": "https://localhost:8080/"
        },
        "id": "yA6LzkN4rhrE",
        "outputId": "e07dbcb8-e8fd-4143-ab9f-61d53436f82b"
      },
      "execution_count": null,
      "outputs": [
        {
          "output_type": "execute_result",
          "data": {
            "text/plain": [
              "(8.633025, 81.059166)"
            ]
          },
          "metadata": {},
          "execution_count": 35
        }
      ]
    },
    {
      "cell_type": "markdown",
      "source": [
        "Build model_2\n",
        "\n",
        "This time we'll add an extra dense layer (so now our model will have 2 layers) whilst keeping everything else the same.\n"
      ],
      "metadata": {
        "id": "oXcwZN7xrs7E"
      }
    },
    {
      "cell_type": "code",
      "source": [
        "\n",
        "# Set random seed\n",
        "tf.random.set_seed(42)\n",
        "\n",
        "# Replicate model_1 and add an extra layer\n",
        "model_2 = tf.keras.Sequential([\n",
        "  tf.keras.layers.Dense(10),\n",
        "  tf.keras.layers.Dense(1) # add a second layer\n",
        "])\n",
        "\n",
        "# Compile the model\n",
        "model_2.compile(loss=tf.keras.losses.mae,\n",
        "                optimizer=tf.keras.optimizers.SGD(),\n",
        "                metrics=['mae'])\n",
        "\n",
        "# Fit the model\n",
        "model_2.fit(tf.expand_dims(X_train, axis=-1), y_train, epochs=100, verbose=0) # set verbose to 0 for less output\n"
      ],
      "metadata": {
        "colab": {
          "base_uri": "https://localhost:8080/"
        },
        "id": "tO2iF9bmrki4",
        "outputId": "4e8f242f-a2c4-42bc-de07-3f556df93d50"
      },
      "execution_count": null,
      "outputs": [
        {
          "output_type": "execute_result",
          "data": {
            "text/plain": [
              "<keras.callbacks.History at 0x786d39b978b0>"
            ]
          },
          "metadata": {},
          "execution_count": 36
        }
      ]
    },
    {
      "cell_type": "code",
      "source": [
        "y_preds_2 = model_2.predict(X_test)\n",
        "plot_predictions(predictions=y_preds_2)"
      ],
      "metadata": {
        "colab": {
          "base_uri": "https://localhost:8080/",
          "height": 654
        },
        "id": "rdD6P7odvOLf",
        "outputId": "cf099dec-a946-4f13-9770-32642dfa5370"
      },
      "execution_count": null,
      "outputs": [
        {
          "output_type": "stream",
          "name": "stderr",
          "text": [
            "WARNING:tensorflow:6 out of the last 6 calls to <function Model.make_predict_function.<locals>.predict_function at 0x786d39b4ea70> triggered tf.function retracing. Tracing is expensive and the excessive number of tracings could be due to (1) creating @tf.function repeatedly in a loop, (2) passing tensors with different shapes, (3) passing Python objects instead of tensors. For (1), please define your @tf.function outside of the loop. For (2), @tf.function has reduce_retracing=True option that can avoid unnecessary retracing. For (3), please refer to https://www.tensorflow.org/guide/function#controlling_retracing and https://www.tensorflow.org/api_docs/python/tf/function for  more details.\n"
          ]
        },
        {
          "output_type": "stream",
          "name": "stdout",
          "text": [
            "1/1 [==============================] - 0s 104ms/step\n"
          ]
        },
        {
          "output_type": "display_data",
          "data": {
            "text/plain": [
              "<Figure size 1000x700 with 1 Axes>"
            ],
            "image/png": "[encoded data removed]"
          },
          "metadata": {}
        }
      ]
    },
    {
      "cell_type": "code",
      "source": [
        "\n",
        "\n",
        "# Calculate model_2 metrics\n",
        "mae_2 = mae(y_test, y_preds_2.squeeze()).numpy()\n",
        "mse_2 = mse(y_test, y_preds_2.squeeze()).numpy()\n",
        "mae_2, mse_2"
      ],
      "metadata": {
        "colab": {
          "base_uri": "https://localhost:8080/"
        },
        "id": "Yftn0EsVxF9w",
        "outputId": "b23cf890-63f6-4b20-ef31-ef9df8b323f7"
      },
      "execution_count": null,
      "outputs": [
        {
          "output_type": "execute_result",
          "data": {
            "text/plain": [
              "(10.69652, 122.234764)"
            ]
          },
          "metadata": {},
          "execution_count": 38
        }
      ]
    },
    {
      "cell_type": "code",
      "source": [
        "\n",
        "# Set random seed\n",
        "tf.random.set_seed(42)\n",
        "\n",
        "# Replicate model_1 and add an extra layer\n",
        "model_3 = tf.keras.Sequential([\n",
        "  tf.keras.layers.Dense(10),\n",
        "  tf.keras.layers.Dense(1) # add a second layer\n",
        "])\n",
        "\n",
        "# Compile the model\n",
        "model_3.compile(loss=tf.keras.losses.mae,\n",
        "                optimizer=tf.keras.optimizers.SGD(),\n",
        "                metrics=['mae'])\n",
        "\n",
        "# Fit the model\n",
        "model_3.fit(tf.expand_dims(X_train, axis=-1), y_train, epochs=500, verbose=0) # set verbose to 0 for less output"
      ],
      "metadata": {
        "colab": {
          "base_uri": "https://localhost:8080/"
        },
        "id": "OY_VLqkExgGY",
        "outputId": "3bad23a5-d61f-4b02-c2f5-195d93d05cef"
      },
      "execution_count": null,
      "outputs": [
        {
          "output_type": "execute_result",
          "data": {
            "text/plain": [
              "<keras.callbacks.History at 0x786d399a8250>"
            ]
          },
          "metadata": {},
          "execution_count": 39
        }
      ]
    },
    {
      "cell_type": "code",
      "source": [
        "y_preds_3 = model_3.predict(X_test)\n",
        "plot_predictions(predictions=y_preds_3)"
      ],
      "metadata": {
        "colab": {
          "base_uri": "https://localhost:8080/",
          "height": 616
        },
        "id": "5f6kzq9vameg",
        "outputId": "f5925e4a-fe00-48bf-de13-ebb9284b18fa"
      },
      "execution_count": null,
      "outputs": [
        {
          "output_type": "stream",
          "name": "stdout",
          "text": [
            "1/1 [==============================] - 0s 299ms/step\n"
          ]
        },
        {
          "output_type": "display_data",
          "data": {
            "text/plain": [
              "<Figure size 1000x700 with 1 Axes>"
            ],
            "image/png": "[encoded data removed]"
          },
          "metadata": {}
        }
      ]
    },
    {
      "cell_type": "code",
      "source": [
        "\n",
        "# Calculate model_3 metrics\n",
        "mae_3 = mae(y_test, y_preds_3.squeeze()).numpy()\n",
        "mse_3 = mse(y_test, y_preds_3.squeeze()).numpy()\n",
        "mae_3, mse_3\n"
      ],
      "metadata": {
        "colab": {
          "base_uri": "https://localhost:8080/"
        },
        "id": "3Rt9WEyP4Y83",
        "outputId": "693be64f-1839-4a28-a00f-e443a0a9f71a"
      },
      "execution_count": null,
      "outputs": [
        {
          "output_type": "execute_result",
          "data": {
            "text/plain": [
              "(67.656456, 4661.4556)"
            ]
          },
          "metadata": {},
          "execution_count": 41
        }
      ]
    },
    {
      "cell_type": "code",
      "source": [],
      "metadata": {
        "id": "Ds9M5Up1y9wU"
      },
      "execution_count": null,
      "outputs": []
    },
    {
      "cell_type": "markdown",
      "source": [
        "## Comparing results of our experiments"
      ],
      "metadata": {
        "id": "NrGb-9cP0QIx"
      }
    },
    {
      "cell_type": "code",
      "source": [
        "import pandas as pd\n",
        "\n",
        "model_results = [[\"model_1\", mae_1, mse_1],\n",
        "                 [\"model_2\", mae_2, mse_2],\n",
        "                 [\"model_3\", mae_3, mae_3]]\n",
        "\n",
        "all_results = pd.DataFrame(model_results, columns=['model', 'mae', 'mse'])"
      ],
      "metadata": {
        "id": "Bf7-bEv6zSDR"
      },
      "execution_count": null,
      "outputs": []
    },
    {
      "cell_type": "code",
      "source": [
        "\n",
        "import pandas as pd\n",
        "all_results = pd.DataFrame(model_results, columns=[\"model\", \"mae\", \"mse\"])\n",
        "all_results\n"
      ],
      "metadata": {
        "colab": {
          "base_uri": "https://localhost:8080/",
          "height": 143
        },
        "id": "lHtSQRph2vwq",
        "outputId": "7251c90a-ce37-4862-c8fc-1300f0eff6ed"
      },
      "execution_count": null,
      "outputs": [
        {
          "output_type": "execute_result",
          "data": {
            "text/plain": [
              "     model        mae         mse\n",
              "0  model_1   8.633025   81.059166\n",
              "1  model_2  10.696520  122.234764\n",
              "2  model_3  67.656456   67.656456"
            ],
            "text/html": [
              "\n",
              "  <div id=\"df-7a46b794-5b94-47c0-9ebf-d96a09111aa8\" class=\"colab-df-container\">\n",
              "    <div>\n",
              "<style scoped>\n",
              "    .dataframe tbody tr th:only-of-type {\n",
              "        vertical-align: middle;\n",
              "    }\n",
              "\n",
              "    .dataframe tbody tr th {\n",
              "        vertical-align: top;\n",
              "    }\n",
              "\n",
              "    .dataframe thead th {\n",
              "        text-align: right;\n",
              "    }\n",
              "</style>\n",
              "<table border=\"1\" class=\"dataframe\">\n",
              "  <thead>\n",
              "    <tr style=\"text-align: right;\">\n",
              "      <th></th>\n",
              "      <th>model</th>\n",
              "      <th>mae</th>\n",
              "      <th>mse</th>\n",
              "    </tr>\n",
              "  </thead>\n",
              "  <tbody>\n",
              "    <tr>\n",
              "      <th>0</th>\n",
              "      <td>model_1</td>\n",
              "      <td>8.633025</td>\n",
              "      <td>81.059166</td>\n",
              "    </tr>\n",
              "    <tr>\n",
              "      <th>1</th>\n",
              "      <td>model_2</td>\n",
              "      <td>10.696520</td>\n",
              "      <td>122.234764</td>\n",
              "    </tr>\n",
              "    <tr>\n",
              "      <th>2</th>\n",
              "      <td>model_3</td>\n",
              "      <td>67.656456</td>\n",
              "      <td>67.656456</td>\n",
              "    </tr>\n",
              "  </tbody>\n",
              "</table>\n",
              "</div>\n",
              "    <div class=\"colab-df-buttons\">\n",
              "\n",
              "  <div class=\"colab-df-container\">\n",
              "    <button class=\"colab-df-convert\" onclick=\"convertToInteractive('df-7a46b794-5b94-47c0-9ebf-d96a09111aa8')\"\n",
              "            title=\"Convert this dataframe to an interactive table.\"\n",
              "            style=\"display:none;\">\n",
              "\n",
              "  <svg xmlns=\"http://www.w3.org/2000/svg\" height=\"24px\" viewBox=\"0 -960 960 960\">\n",
              "    <path d=\"M120-120v-720h720v720H120Zm60-500h600v-160H180v160Zm220 220h160v-160H400v160Zm0 220h160v-160H400v160ZM180-400h160v-160H180v160Zm440 0h160v-160H620v160ZM180-180h160v-160H180v160Zm440 0h160v-160H620v160Z\"/>\n",
              "  </svg>\n",
              "    </button>\n",
              "\n",
              "  <style>\n",
              "    .colab-df-container {\n",
              "      display:flex;\n",
              "      gap: 12px;\n",
              "    }\n",
              "\n",
              "    .colab-df-convert {\n",
              "      background-color: #E8F0FE;\n",
              "      border: none;\n",
              "      border-radius: 50%;\n",
              "      cursor: pointer;\n",
              "      display: none;\n",
              "      fill: #1967D2;\n",
              "      height: 32px;\n",
              "      padding: 0 0 0 0;\n",
              "      width: 32px;\n",
              "    }\n",
              "\n",
              "    .colab-df-convert:hover {\n",
              "      background-color: #E2EBFA;\n",
              "      box-shadow: 0px 1px 2px rgba(60, 64, 67, 0.3), 0px 1px 3px 1px rgba(60, 64, 67, 0.15);\n",
              "      fill: #174EA6;\n",
              "    }\n",
              "\n",
              "    .colab-df-buttons div {\n",
              "      margin-bottom: 4px;\n",
              "    }\n",
              "\n",
              "    [theme=dark] .colab-df-convert {\n",
              "      background-color: #3B4455;\n",
              "      fill: #D2E3FC;\n",
              "    }\n",
              "\n",
              "    [theme=dark] .colab-df-convert:hover {\n",
              "      background-color: #434B5C;\n",
              "      box-shadow: 0px 1px 3px 1px rgba(0, 0, 0, 0.15);\n",
              "      filter: drop-shadow(0px 1px 2px rgba(0, 0, 0, 0.3));\n",
              "      fill: #FFFFFF;\n",
              "    }\n",
              "  </style>\n",
              "\n",
              "    <script>\n",
              "      const buttonEl =\n",
              "        document.querySelector('#df-7a46b794-5b94-47c0-9ebf-d96a09111aa8 button.colab-df-convert');\n",
              "      buttonEl.style.display =\n",
              "        google.colab.kernel.accessAllowed ? 'block' : 'none';\n",
              "\n",
              "      async function convertToInteractive(key) {\n",
              "        const element = document.querySelector('#df-7a46b794-5b94-47c0-9ebf-d96a09111aa8');\n",
              "        const dataTable =\n",
              "          await google.colab.kernel.invokeFunction('convertToInteractive',\n",
              "                                                    [key], {});\n",
              "        if (!dataTable) return;\n",
              "\n",
              "        const docLinkHtml = 'Like what you see? Visit the ' +\n",
              "          '<a target=\"_blank\" href=https://colab.research.google.com/notebooks/data_table.ipynb>data table notebook</a>'\n",
              "          + ' to learn more about interactive tables.';\n",
              "        element.innerHTML = '';\n",
              "        dataTable['output_type'] = 'display_data';\n",
              "        await google.colab.output.renderOutput(dataTable, element);\n",
              "        const docLink = document.createElement('div');\n",
              "        docLink.innerHTML = docLinkHtml;\n",
              "        element.appendChild(docLink);\n",
              "      }\n",
              "    </script>\n",
              "  </div>\n",
              "\n",
              "\n",
              "<div id=\"df-8bc5aab9-7b1b-49bd-ba7d-93b95dd41036\">\n",
              "  <button class=\"colab-df-quickchart\" onclick=\"quickchart('df-8bc5aab9-7b1b-49bd-ba7d-93b95dd41036')\"\n",
              "            title=\"Suggest charts.\"\n",
              "            style=\"display:none;\">\n",
              "\n",
              "<svg xmlns=\"http://www.w3.org/2000/svg\" height=\"24px\"viewBox=\"0 0 24 24\"\n",
              "     width=\"24px\">\n",
              "    <g>\n",
              "        <path d=\"M19 3H5c-1.1 0-2 .9-2 2v14c0 1.1.9 2 2 2h14c1.1 0 2-.9 2-2V5c0-1.1-.9-2-2-2zM9 17H7v-7h2v7zm4 0h-2V7h2v10zm4 0h-2v-4h2v4z\"/>\n",
              "    </g>\n",
              "</svg>\n",
              "  </button>\n",
              "\n",
              "<style>\n",
              "  .colab-df-quickchart {\n",
              "      --bg-color: #E8F0FE;\n",
              "      --fill-color: #1967D2;\n",
              "      --hover-bg-color: #E2EBFA;\n",
              "      --hover-fill-color: #174EA6;\n",
              "      --disabled-fill-color: #AAA;\n",
              "      --disabled-bg-color: #DDD;\n",
              "  }\n",
              "\n",
              "  [theme=dark] .colab-df-quickchart {\n",
              "      --bg-color: #3B4455;\n",
              "      --fill-color: #D2E3FC;\n",
              "      --hover-bg-color: #434B5C;\n",
              "      --hover-fill-color: #FFFFFF;\n",
              "      --disabled-bg-color: #3B4455;\n",
              "      --disabled-fill-color: #666;\n",
              "  }\n",
              "\n",
              "  .colab-df-quickchart {\n",
              "    background-color: var(--bg-color);\n",
              "    border: none;\n",
              "    border-radius: 50%;\n",
              "    cursor: pointer;\n",
              "    display: none;\n",
              "    fill: var(--fill-color);\n",
              "    height: 32px;\n",
              "    padding: 0;\n",
              "    width: 32px;\n",
              "  }\n",
              "\n",
              "  .colab-df-quickchart:hover {\n",
              "    background-color: var(--hover-bg-color);\n",
              "    box-shadow: 0 1px 2px rgba(60, 64, 67, 0.3), 0 1px 3px 1px rgba(60, 64, 67, 0.15);\n",
              "    fill: var(--button-hover-fill-color);\n",
              "  }\n",
              "\n",
              "  .colab-df-quickchart-complete:disabled,\n",
              "  .colab-df-quickchart-complete:disabled:hover {\n",
              "    background-color: var(--disabled-bg-color);\n",
              "    fill: var(--disabled-fill-color);\n",
              "    box-shadow: none;\n",
              "  }\n",
              "\n",
              "  .colab-df-spinner {\n",
              "    border: 2px solid var(--fill-color);\n",
              "    border-color: transparent;\n",
              "    border-bottom-color: var(--fill-color);\n",
              "    animation:\n",
              "      spin 1s steps(1) infinite;\n",
              "  }\n",
              "\n",
              "  @keyframes spin {\n",
              "    0% {\n",
              "      border-color: transparent;\n",
              "      border-bottom-color: var(--fill-color);\n",
              "      border-left-color: var(--fill-color);\n",
              "    }\n",
              "    20% {\n",
              "      border-color: transparent;\n",
              "      border-left-color: var(--fill-color);\n",
              "      border-top-color: var(--fill-color);\n",
              "    }\n",
              "    30% {\n",
              "      border-color: transparent;\n",
              "      border-left-color: var(--fill-color);\n",
              "      border-top-color: var(--fill-color);\n",
              "      border-right-color: var(--fill-color);\n",
              "    }\n",
              "    40% {\n",
              "      border-color: transparent;\n",
              "      border-right-color: var(--fill-color);\n",
              "      border-top-color: var(--fill-color);\n",
              "    }\n",
              "    60% {\n",
              "      border-color: transparent;\n",
              "      border-right-color: var(--fill-color);\n",
              "    }\n",
              "    80% {\n",
              "      border-color: transparent;\n",
              "      border-right-color: var(--fill-color);\n",
              "      border-bottom-color: var(--fill-color);\n",
              "    }\n",
              "    90% {\n",
              "      border-color: transparent;\n",
              "      border-bottom-color: var(--fill-color);\n",
              "    }\n",
              "  }\n",
              "</style>\n",
              "\n",
              "  <script>\n",
              "    async function quickchart(key) {\n",
              "      const quickchartButtonEl =\n",
              "        document.querySelector('#' + key + ' button');\n",
              "      quickchartButtonEl.disabled = true;  // To prevent multiple clicks.\n",
              "      quickchartButtonEl.classList.add('colab-df-spinner');\n",
              "      try {\n",
              "        const charts = await google.colab.kernel.invokeFunction(\n",
              "            'suggestCharts', [key], {});\n",
              "      } catch (error) {\n",
              "        console.error('Error during call to suggestCharts:', error);\n",
              "      }\n",
              "      quickchartButtonEl.classList.remove('colab-df-spinner');\n",
              "      quickchartButtonEl.classList.add('colab-df-quickchart-complete');\n",
              "    }\n",
              "    (() => {\n",
              "      let quickchartButtonEl =\n",
              "        document.querySelector('#df-8bc5aab9-7b1b-49bd-ba7d-93b95dd41036 button');\n",
              "      quickchartButtonEl.style.display =\n",
              "        google.colab.kernel.accessAllowed ? 'block' : 'none';\n",
              "    })();\n",
              "  </script>\n",
              "</div>\n",
              "    </div>\n",
              "  </div>\n"
            ]
          },
          "metadata": {},
          "execution_count": 43
        }
      ]
    },
    {
      "cell_type": "code",
      "source": [
        "model_2.summary()"
      ],
      "metadata": {
        "colab": {
          "base_uri": "https://localhost:8080/"
        },
        "id": "dRhCVV1L4gzR",
        "outputId": "f774be3d-5d74-4363-ce2f-83e06dab7903"
      },
      "execution_count": null,
      "outputs": [
        {
          "output_type": "stream",
          "name": "stdout",
          "text": [
            "Model: \"sequential_6\"\n",
            "_________________________________________________________________\n",
            " Layer (type)                Output Shape              Param #   \n",
            "=================================================================\n",
            " dense_7 (Dense)             (None, 10)                20        \n",
            "                                                                 \n",
            " dense_8 (Dense)             (None, 1)                 11        \n",
            "                                                                 \n",
            "=================================================================\n",
            "Total params: 31\n",
            "Trainable params: 31\n",
            "Non-trainable params: 0\n",
            "_________________________________________________________________\n"
          ]
        }
      ]
    },
    {
      "cell_type": "markdown",
      "source": [
        "\n",
        "From our experiments, it looks like model_2 performed the best."
      ],
      "metadata": {
        "id": "bSwg7Jxd5I_9"
      }
    },
    {
      "cell_type": "markdown",
      "source": [
        "## Tracking your experiments\n"
      ],
      "metadata": {
        "id": "2ZUe3aAB6sMs"
      }
    },
    {
      "cell_type": "markdown",
      "source": [
        "One really good habit to get into is tracking your modelling experiments to see which perform better than others.\n",
        "\n",
        "We've done a simple version of this above (keeping the results in different variables).\n",
        "\n",
        "📖 Resource: But as you build more models, you'll want to look into using tools such as:\n",
        "\n",
        "* TensorBoard - a component of the TensorFlow library to help track modelling experiments (we'll see this later).\n",
        "* Weights & Biases - a tool for tracking all kinds of machine learning experiments (the good news for Weights & Biases is it plugs into TensorBoard)."
      ],
      "metadata": {
        "id": "eu3gONjD-84b"
      }
    },
    {
      "cell_type": "markdown",
      "source": [
        "## Saving a model\n",
        "\n",
        "You can save a TensorFlow/Keras model using model.save().\n",
        "\n",
        "There are two ways to save a model in TensorFlow:\n",
        "\n",
        "1. The SavedModel format (default).\n",
        "2. The HDF5 format."
      ],
      "metadata": {
        "id": "jArhOjyf_Yzm"
      }
    },
    {
      "cell_type": "code",
      "source": [
        "\n",
        "# Save a model using the SavedModel format\n",
        "model_2.save('best_model_SavedModel_format')"
      ],
      "metadata": {
        "colab": {
          "base_uri": "https://localhost:8080/"
        },
        "id": "pm2DHev25Fka",
        "outputId": "6da3495a-de13-426b-8e03-0fd94e80b302"
      },
      "execution_count": null,
      "outputs": [
        {
          "output_type": "stream",
          "name": "stderr",
          "text": [
            "WARNING:absl:Found untraced functions such as _update_step_xla while saving (showing 1 of 1). These functions will not be directly callable after loading.\n"
          ]
        }
      ]
    },
    {
      "cell_type": "code",
      "source": [
        "\n",
        "# Check it out - outputs a protobuf binary file (.pb) as well as other files\n",
        "!ls best_model_SavedModel_format"
      ],
      "metadata": {
        "colab": {
          "base_uri": "https://localhost:8080/"
        },
        "id": "A8bye-BMg56A",
        "outputId": "40b7be04-7a22-41a2-8796-39f6b0282ce9"
      },
      "execution_count": null,
      "outputs": [
        {
          "output_type": "stream",
          "name": "stdout",
          "text": [
            "assets\tfingerprint.pb\tkeras_metadata.pb  saved_model.pb  variables\n"
          ]
        }
      ]
    },
    {
      "cell_type": "code",
      "source": [
        "\n",
        "\n",
        "\n",
        "# Save a model using the HDF5 format\n",
        "model_2.save(\"best_model_HDF5_format.h5\") # note the addition of '.h5' on the end"
      ],
      "metadata": {
        "id": "ek2ZDfs8g9Zv"
      },
      "execution_count": null,
      "outputs": []
    },
    {
      "cell_type": "code",
      "source": [
        "\n",
        "# Check it out\n",
        "!ls best_model_HDF5_format.h5"
      ],
      "metadata": {
        "colab": {
          "base_uri": "https://localhost:8080/"
        },
        "id": "UfIUEGDthHyy",
        "outputId": "c2caa0b4-f4ab-4c9f-9b10-14dac3d957e7"
      },
      "execution_count": null,
      "outputs": [
        {
          "output_type": "stream",
          "name": "stdout",
          "text": [
            "best_model_HDF5_format.h5\n"
          ]
        }
      ]
    },
    {
      "cell_type": "markdown",
      "source": [
        "## Loading saved model\n",
        "\n",
        "\n",
        "We can load a saved model using the load_model() method."
      ],
      "metadata": {
        "id": "qWJw9me-jDdq"
      }
    },
    {
      "cell_type": "code",
      "source": [
        "\n",
        "# Load a model from the SavedModel format\n",
        "loaded_saved_model = tf.keras.models.load_model(\"best_model_SavedModel_format\")\n",
        "loaded_saved_model.summary()"
      ],
      "metadata": {
        "colab": {
          "base_uri": "https://localhost:8080/"
        },
        "id": "3Sv1B5hthKM5",
        "outputId": "b3e52f79-028a-4e82-dd4e-b8d384f4abd7"
      },
      "execution_count": null,
      "outputs": [
        {
          "output_type": "stream",
          "name": "stdout",
          "text": [
            "Model: \"sequential_6\"\n",
            "_________________________________________________________________\n",
            " Layer (type)                Output Shape              Param #   \n",
            "=================================================================\n",
            " dense_7 (Dense)             (None, 10)                20        \n",
            "                                                                 \n",
            " dense_8 (Dense)             (None, 1)                 11        \n",
            "                                                                 \n",
            "=================================================================\n",
            "Total params: 31\n",
            "Trainable params: 31\n",
            "Non-trainable params: 0\n",
            "_________________________________________________________________\n"
          ]
        }
      ]
    },
    {
      "cell_type": "code",
      "source": [
        "\n",
        "# Compare model_2 with the SavedModel version (should return True)\n",
        "model_2_preds = model_2.predict(X_test)\n",
        "saved_model_preds = loaded_saved_model.predict(X_test)\n",
        "mae(y_test, saved_model_preds.squeeze()).numpy() == mae(y_test, model_2_preds.squeeze()).numpy()"
      ],
      "metadata": {
        "colab": {
          "base_uri": "https://localhost:8080/"
        },
        "id": "mKj9eYS8jX4K",
        "outputId": "482899cd-0cb4-4349-96f4-3ad833522376"
      },
      "execution_count": null,
      "outputs": [
        {
          "output_type": "stream",
          "name": "stdout",
          "text": [
            "1/1 [==============================] - 0s 66ms/step\n",
            "1/1 [==============================] - 0s 191ms/step\n"
          ]
        },
        {
          "output_type": "execute_result",
          "data": {
            "text/plain": [
              "True"
            ]
          },
          "metadata": {},
          "execution_count": 50
        }
      ]
    },
    {
      "cell_type": "code",
      "source": [
        "\n",
        "\n",
        "# Load a model from the HDF5 format\n",
        "loaded_h5_model = tf.keras.models.load_model(\"best_model_HDF5_format.h5\")\n",
        "loaded_h5_model.summary()"
      ],
      "metadata": {
        "colab": {
          "base_uri": "https://localhost:8080/"
        },
        "id": "GYT-nRszjcWK",
        "outputId": "c3db09fb-5dfc-4eb1-f8e8-74150a9ef432"
      },
      "execution_count": null,
      "outputs": [
        {
          "output_type": "stream",
          "name": "stdout",
          "text": [
            "Model: \"sequential_6\"\n",
            "_________________________________________________________________\n",
            " Layer (type)                Output Shape              Param #   \n",
            "=================================================================\n",
            " dense_7 (Dense)             (None, 10)                20        \n",
            "                                                                 \n",
            " dense_8 (Dense)             (None, 1)                 11        \n",
            "                                                                 \n",
            "=================================================================\n",
            "Total params: 31\n",
            "Trainable params: 31\n",
            "Non-trainable params: 0\n",
            "_________________________________________________________________\n"
          ]
        }
      ]
    },
    {
      "cell_type": "code",
      "source": [
        "\n",
        "\n",
        "# Compare model_2 with the loaded HDF5 version (should return True)\n",
        "h5_model_preds = loaded_h5_model.predict(X_test)\n",
        "mae(y_test, h5_model_preds.squeeze()).numpy() == mae(y_test, model_2_preds.squeeze()).numpy()"
      ],
      "metadata": {
        "colab": {
          "base_uri": "https://localhost:8080/"
        },
        "id": "fPQtCmRXkE4j",
        "outputId": "4d1188ea-7cd6-4397-9e81-2aa85271d884"
      },
      "execution_count": null,
      "outputs": [
        {
          "output_type": "stream",
          "name": "stdout",
          "text": [
            "1/1 [==============================] - 0s 138ms/step\n"
          ]
        },
        {
          "output_type": "execute_result",
          "data": {
            "text/plain": [
              "True"
            ]
          },
          "metadata": {},
          "execution_count": 52
        }
      ]
    },
    {
      "cell_type": "markdown",
      "source": [
        "## Downloading a model (from Google Colab)\n",
        "Say you wanted to get your model from Google Colab to your local machine, you can do one of the following things:\n",
        "\n",
        "*  Right click on the file in the files pane and click 'download'.\n",
        "* Use the code below."
      ],
      "metadata": {
        "id": "-AqytCt2lH7h"
      }
    },
    {
      "cell_type": "code",
      "source": [
        "# Download the model (or any file) from Google Colab\n",
        "from google.colab import files\n",
        "files.download(\"best_model_HDF5_format.h5\")"
      ],
      "metadata": {
        "colab": {
          "base_uri": "https://localhost:8080/",
          "height": 17
        },
        "id": "97Zo_8eQlHWa",
        "outputId": "008c349c-70bc-4b1a-8229-603f39fde61e"
      },
      "execution_count": null,
      "outputs": [
        {
          "output_type": "display_data",
          "data": {
            "text/plain": [
              "<IPython.core.display.Javascript object>"
            ],
            "application/javascript": [
              "\n",
              "    async function download(id, filename, size) {\n",
              "      if (!google.colab.kernel.accessAllowed) {\n",
              "        return;\n",
              "      }\n",
              "      const div = document.createElement('div');\n",
              "      const label = document.createElement('label');\n",
              "      label.textContent = `Downloading \"${filename}\": `;\n",
              "      div.appendChild(label);\n",
              "      const progress = document.createElement('progress');\n",
              "      progress.max = size;\n",
              "      div.appendChild(progress);\n",
              "      document.body.appendChild(div);\n",
              "\n",
              "      const buffers = [];\n",
              "      let downloaded = 0;\n",
              "\n",
              "      const channel = await google.colab.kernel.comms.open(id);\n",
              "      // Send a message to notify the kernel that we're ready.\n",
              "      channel.send({})\n",
              "\n",
              "      for await (const message of channel.messages) {\n",
              "        // Send a message to notify the kernel that we're ready.\n",
              "        channel.send({})\n",
              "        if (message.buffers) {\n",
              "          for (const buffer of message.buffers) {\n",
              "            buffers.push(buffer);\n",
              "            downloaded += buffer.byteLength;\n",
              "            progress.value = downloaded;\n",
              "          }\n",
              "        }\n",
              "      }\n",
              "      const blob = new Blob(buffers, {type: 'application/binary'});\n",
              "      const a = document.createElement('a');\n",
              "      a.href = window.URL.createObjectURL(blob);\n",
              "      a.download = filename;\n",
              "      div.appendChild(a);\n",
              "      a.click();\n",
              "      div.remove();\n",
              "    }\n",
              "  "
            ]
          },
          "metadata": {}
        },
        {
          "output_type": "display_data",
          "data": {
            "text/plain": [
              "<IPython.core.display.Javascript object>"
            ],
            "application/javascript": [
              "download(\"download_f2b70e9b-54a9-4362-a2a7-c6a7132b5fea\", \"best_model_HDF5_format.h5\", 21952)"
            ]
          },
          "metadata": {}
        }
      ]
    },
    {
      "cell_type": "markdown",
      "source": [
        "## Larger sample"
      ],
      "metadata": {
        "id": "V04sZSdbn0Ei"
      }
    },
    {
      "cell_type": "code",
      "source": [
        "#import libraries\n",
        "import tensorflow as tf\n",
        "import pandas as pd\n",
        "import matplotlib.pyplot as plt\n"
      ],
      "metadata": {
        "id": "btduwxQRkSUL"
      },
      "execution_count": null,
      "outputs": []
    },
    {
      "cell_type": "code",
      "source": [
        "#readinsurance dataset\n",
        "\n",
        "insurance = pd.read_csv('https://raw.githubusercontent.com/stedy/Machine-Learning-with-R-datasets/master/insurance.csv')\n",
        "\n",
        "insurance"
      ],
      "metadata": {
        "colab": {
          "base_uri": "https://localhost:8080/",
          "height": 424
        },
        "id": "w61dI6SMu2Nz",
        "outputId": "9bf9cf8d-a2b8-4f14-d10f-fb3d84d27183"
      },
      "execution_count": null,
      "outputs": [
        {
          "output_type": "execute_result",
          "data": {
            "text/plain": [
              "      age     sex     bmi  children smoker     region      charges\n",
              "0      19  female  27.900         0    yes  southwest  16884.92400\n",
              "1      18    male  33.770         1     no  southeast   1725.55230\n",
              "2      28    male  33.000         3     no  southeast   4449.46200\n",
              "3      33    male  22.705         0     no  northwest  21984.47061\n",
              "4      32    male  28.880         0     no  northwest   3866.85520\n",
              "...   ...     ...     ...       ...    ...        ...          ...\n",
              "1333   50    male  30.970         3     no  northwest  10600.54830\n",
              "1334   18  female  31.920         0     no  northeast   2205.98080\n",
              "1335   18  female  36.850         0     no  southeast   1629.83350\n",
              "1336   21  female  25.800         0     no  southwest   2007.94500\n",
              "1337   61  female  29.070         0    yes  northwest  29141.36030\n",
              "\n",
              "[1338 rows x 7 columns]"
            ],
            "text/html": [
              "\n",
              "  <div id=\"df-7ffcfbac-aa28-46f7-8c46-db0e7b333847\" class=\"colab-df-container\">\n",
              "    <div>\n",
              "<style scoped>\n",
              "    .dataframe tbody tr th:only-of-type {\n",
              "        vertical-align: middle;\n",
              "    }\n",
              "\n",
              "    .dataframe tbody tr th {\n",
              "        vertical-align: top;\n",
              "    }\n",
              "\n",
              "    .dataframe thead th {\n",
              "        text-align: right;\n",
              "    }\n",
              "</style>\n",
              "<table border=\"1\" class=\"dataframe\">\n",
              "  <thead>\n",
              "    <tr style=\"text-align: right;\">\n",
              "      <th></th>\n",
              "      <th>age</th>\n",
              "      <th>sex</th>\n",
              "      <th>bmi</th>\n",
              "      <th>children</th>\n",
              "      <th>smoker</th>\n",
              "      <th>region</th>\n",
              "      <th>charges</th>\n",
              "    </tr>\n",
              "  </thead>\n",
              "  <tbody>\n",
              "    <tr>\n",
              "      <th>0</th>\n",
              "      <td>19</td>\n",
              "      <td>female</td>\n",
              "      <td>27.900</td>\n",
              "      <td>0</td>\n",
              "      <td>yes</td>\n",
              "      <td>southwest</td>\n",
              "      <td>16884.92400</td>\n",
              "    </tr>\n",
              "    <tr>\n",
              "      <th>1</th>\n",
              "      <td>18</td>\n",
              "      <td>male</td>\n",
              "      <td>33.770</td>\n",
              "      <td>1</td>\n",
              "      <td>no</td>\n",
              "      <td>southeast</td>\n",
              "      <td>1725.55230</td>\n",
              "    </tr>\n",
              "    <tr>\n",
              "      <th>2</th>\n",
              "      <td>28</td>\n",
              "      <td>male</td>\n",
              "      <td>33.000</td>\n",
              "      <td>3</td>\n",
              "      <td>no</td>\n",
              "      <td>southeast</td>\n",
              "      <td>4449.46200</td>\n",
              "    </tr>\n",
              "    <tr>\n",
              "      <th>3</th>\n",
              "      <td>33</td>\n",
              "      <td>male</td>\n",
              "      <td>22.705</td>\n",
              "      <td>0</td>\n",
              "      <td>no</td>\n",
              "      <td>northwest</td>\n",
              "      <td>21984.47061</td>\n",
              "    </tr>\n",
              "    <tr>\n",
              "      <th>4</th>\n",
              "      <td>32</td>\n",
              "      <td>male</td>\n",
              "      <td>28.880</td>\n",
              "      <td>0</td>\n",
              "      <td>no</td>\n",
              "      <td>northwest</td>\n",
              "      <td>3866.85520</td>\n",
              "    </tr>\n",
              "    <tr>\n",
              "      <th>...</th>\n",
              "      <td>...</td>\n",
              "      <td>...</td>\n",
              "      <td>...</td>\n",
              "      <td>...</td>\n",
              "      <td>...</td>\n",
              "      <td>...</td>\n",
              "      <td>...</td>\n",
              "    </tr>\n",
              "    <tr>\n",
              "      <th>1333</th>\n",
              "      <td>50</td>\n",
              "      <td>male</td>\n",
              "      <td>30.970</td>\n",
              "      <td>3</td>\n",
              "      <td>no</td>\n",
              "      <td>northwest</td>\n",
              "      <td>10600.54830</td>\n",
              "    </tr>\n",
              "    <tr>\n",
              "      <th>1334</th>\n",
              "      <td>18</td>\n",
              "      <td>female</td>\n",
              "      <td>31.920</td>\n",
              "      <td>0</td>\n",
              "      <td>no</td>\n",
              "      <td>northeast</td>\n",
              "      <td>2205.98080</td>\n",
              "    </tr>\n",
              "    <tr>\n",
              "      <th>1335</th>\n",
              "      <td>18</td>\n",
              "      <td>female</td>\n",
              "      <td>36.850</td>\n",
              "      <td>0</td>\n",
              "      <td>no</td>\n",
              "      <td>southeast</td>\n",
              "      <td>1629.83350</td>\n",
              "    </tr>\n",
              "    <tr>\n",
              "      <th>1336</th>\n",
              "      <td>21</td>\n",
              "      <td>female</td>\n",
              "      <td>25.800</td>\n",
              "      <td>0</td>\n",
              "      <td>no</td>\n",
              "      <td>southwest</td>\n",
              "      <td>2007.94500</td>\n",
              "    </tr>\n",
              "    <tr>\n",
              "      <th>1337</th>\n",
              "      <td>61</td>\n",
              "      <td>female</td>\n",
              "      <td>29.070</td>\n",
              "      <td>0</td>\n",
              "      <td>yes</td>\n",
              "      <td>northwest</td>\n",
              "      <td>29141.36030</td>\n",
              "    </tr>\n",
              "  </tbody>\n",
              "</table>\n",
              "<p>1338 rows × 7 columns</p>\n",
              "</div>\n",
              "    <div class=\"colab-df-buttons\">\n",
              "\n",
              "  <div class=\"colab-df-container\">\n",
              "    <button class=\"colab-df-convert\" onclick=\"convertToInteractive('df-7ffcfbac-aa28-46f7-8c46-db0e7b333847')\"\n",
              "            title=\"Convert this dataframe to an interactive table.\"\n",
              "            style=\"display:none;\">\n",
              "\n",
              "  <svg xmlns=\"http://www.w3.org/2000/svg\" height=\"24px\" viewBox=\"0 -960 960 960\">\n",
              "    <path d=\"M120-120v-720h720v720H120Zm60-500h600v-160H180v160Zm220 220h160v-160H400v160Zm0 220h160v-160H400v160ZM180-400h160v-160H180v160Zm440 0h160v-160H620v160ZM180-180h160v-160H180v160Zm440 0h160v-160H620v160Z\"/>\n",
              "  </svg>\n",
              "    </button>\n",
              "\n",
              "  <style>\n",
              "    .colab-df-container {\n",
              "      display:flex;\n",
              "      gap: 12px;\n",
              "    }\n",
              "\n",
              "    .colab-df-convert {\n",
              "      background-color: #E8F0FE;\n",
              "      border: none;\n",
              "      border-radius: 50%;\n",
              "      cursor: pointer;\n",
              "      display: none;\n",
              "      fill: #1967D2;\n",
              "      height: 32px;\n",
              "      padding: 0 0 0 0;\n",
              "      width: 32px;\n",
              "    }\n",
              "\n",
              "    .colab-df-convert:hover {\n",
              "      background-color: #E2EBFA;\n",
              "      box-shadow: 0px 1px 2px rgba(60, 64, 67, 0.3), 0px 1px 3px 1px rgba(60, 64, 67, 0.15);\n",
              "      fill: #174EA6;\n",
              "    }\n",
              "\n",
              "    .colab-df-buttons div {\n",
              "      margin-bottom: 4px;\n",
              "    }\n",
              "\n",
              "    [theme=dark] .colab-df-convert {\n",
              "      background-color: #3B4455;\n",
              "      fill: #D2E3FC;\n",
              "    }\n",
              "\n",
              "    [theme=dark] .colab-df-convert:hover {\n",
              "      background-color: #434B5C;\n",
              "      box-shadow: 0px 1px 3px 1px rgba(0, 0, 0, 0.15);\n",
              "      filter: drop-shadow(0px 1px 2px rgba(0, 0, 0, 0.3));\n",
              "      fill: #FFFFFF;\n",
              "    }\n",
              "  </style>\n",
              "\n",
              "    <script>\n",
              "      const buttonEl =\n",
              "        document.querySelector('#df-7ffcfbac-aa28-46f7-8c46-db0e7b333847 button.colab-df-convert');\n",
              "      buttonEl.style.display =\n",
              "        google.colab.kernel.accessAllowed ? 'block' : 'none';\n",
              "\n",
              "      async function convertToInteractive(key) {\n",
              "        const element = document.querySelector('#df-7ffcfbac-aa28-46f7-8c46-db0e7b333847');\n",
              "        const dataTable =\n",
              "          await google.colab.kernel.invokeFunction('convertToInteractive',\n",
              "                                                    [key], {});\n",
              "        if (!dataTable) return;\n",
              "\n",
              "        const docLinkHtml = 'Like what you see? Visit the ' +\n",
              "          '<a target=\"_blank\" href=https://colab.research.google.com/notebooks/data_table.ipynb>data table notebook</a>'\n",
              "          + ' to learn more about interactive tables.';\n",
              "        element.innerHTML = '';\n",
              "        dataTable['output_type'] = 'display_data';\n",
              "        await google.colab.output.renderOutput(dataTable, element);\n",
              "        const docLink = document.createElement('div');\n",
              "        docLink.innerHTML = docLinkHtml;\n",
              "        element.appendChild(docLink);\n",
              "      }\n",
              "    </script>\n",
              "  </div>\n",
              "\n",
              "\n",
              "<div id=\"df-1ad78e9a-12f3-4854-877e-1a81a330c265\">\n",
              "  <button class=\"colab-df-quickchart\" onclick=\"quickchart('df-1ad78e9a-12f3-4854-877e-1a81a330c265')\"\n",
              "            title=\"Suggest charts.\"\n",
              "            style=\"display:none;\">\n",
              "\n",
              "<svg xmlns=\"http://www.w3.org/2000/svg\" height=\"24px\"viewBox=\"0 0 24 24\"\n",
              "     width=\"24px\">\n",
              "    <g>\n",
              "        <path d=\"M19 3H5c-1.1 0-2 .9-2 2v14c0 1.1.9 2 2 2h14c1.1 0 2-.9 2-2V5c0-1.1-.9-2-2-2zM9 17H7v-7h2v7zm4 0h-2V7h2v10zm4 0h-2v-4h2v4z\"/>\n",
              "    </g>\n",
              "</svg>\n",
              "  </button>\n",
              "\n",
              "<style>\n",
              "  .colab-df-quickchart {\n",
              "      --bg-color: #E8F0FE;\n",
              "      --fill-color: #1967D2;\n",
              "      --hover-bg-color: #E2EBFA;\n",
              "      --hover-fill-color: #174EA6;\n",
              "      --disabled-fill-color: #AAA;\n",
              "      --disabled-bg-color: #DDD;\n",
              "  }\n",
              "\n",
              "  [theme=dark] .colab-df-quickchart {\n",
              "      --bg-color: #3B4455;\n",
              "      --fill-color: #D2E3FC;\n",
              "      --hover-bg-color: #434B5C;\n",
              "      --hover-fill-color: #FFFFFF;\n",
              "      --disabled-bg-color: #3B4455;\n",
              "      --disabled-fill-color: #666;\n",
              "  }\n",
              "\n",
              "  .colab-df-quickchart {\n",
              "    background-color: var(--bg-color);\n",
              "    border: none;\n",
              "    border-radius: 50%;\n",
              "    cursor: pointer;\n",
              "    display: none;\n",
              "    fill: var(--fill-color);\n",
              "    height: 32px;\n",
              "    padding: 0;\n",
              "    width: 32px;\n",
              "  }\n",
              "\n",
              "  .colab-df-quickchart:hover {\n",
              "    background-color: var(--hover-bg-color);\n",
              "    box-shadow: 0 1px 2px rgba(60, 64, 67, 0.3), 0 1px 3px 1px rgba(60, 64, 67, 0.15);\n",
              "    fill: var(--button-hover-fill-color);\n",
              "  }\n",
              "\n",
              "  .colab-df-quickchart-complete:disabled,\n",
              "  .colab-df-quickchart-complete:disabled:hover {\n",
              "    background-color: var(--disabled-bg-color);\n",
              "    fill: var(--disabled-fill-color);\n",
              "    box-shadow: none;\n",
              "  }\n",
              "\n",
              "  .colab-df-spinner {\n",
              "    border: 2px solid var(--fill-color);\n",
              "    border-color: transparent;\n",
              "    border-bottom-color: var(--fill-color);\n",
              "    animation:\n",
              "      spin 1s steps(1) infinite;\n",
              "  }\n",
              "\n",
              "  @keyframes spin {\n",
              "    0% {\n",
              "      border-color: transparent;\n",
              "      border-bottom-color: var(--fill-color);\n",
              "      border-left-color: var(--fill-color);\n",
              "    }\n",
              "    20% {\n",
              "      border-color: transparent;\n",
              "      border-left-color: var(--fill-color);\n",
              "      border-top-color: var(--fill-color);\n",
              "    }\n",
              "    30% {\n",
              "      border-color: transparent;\n",
              "      border-left-color: var(--fill-color);\n",
              "      border-top-color: var(--fill-color);\n",
              "      border-right-color: var(--fill-color);\n",
              "    }\n",
              "    40% {\n",
              "      border-color: transparent;\n",
              "      border-right-color: var(--fill-color);\n",
              "      border-top-color: var(--fill-color);\n",
              "    }\n",
              "    60% {\n",
              "      border-color: transparent;\n",
              "      border-right-color: var(--fill-color);\n",
              "    }\n",
              "    80% {\n",
              "      border-color: transparent;\n",
              "      border-right-color: var(--fill-color);\n",
              "      border-bottom-color: var(--fill-color);\n",
              "    }\n",
              "    90% {\n",
              "      border-color: transparent;\n",
              "      border-bottom-color: var(--fill-color);\n",
              "    }\n",
              "  }\n",
              "</style>\n",
              "\n",
              "  <script>\n",
              "    async function quickchart(key) {\n",
              "      const quickchartButtonEl =\n",
              "        document.querySelector('#' + key + ' button');\n",
              "      quickchartButtonEl.disabled = true;  // To prevent multiple clicks.\n",
              "      quickchartButtonEl.classList.add('colab-df-spinner');\n",
              "      try {\n",
              "        const charts = await google.colab.kernel.invokeFunction(\n",
              "            'suggestCharts', [key], {});\n",
              "      } catch (error) {\n",
              "        console.error('Error during call to suggestCharts:', error);\n",
              "      }\n",
              "      quickchartButtonEl.classList.remove('colab-df-spinner');\n",
              "      quickchartButtonEl.classList.add('colab-df-quickchart-complete');\n",
              "    }\n",
              "    (() => {\n",
              "      let quickchartButtonEl =\n",
              "        document.querySelector('#df-1ad78e9a-12f3-4854-877e-1a81a330c265 button');\n",
              "      quickchartButtonEl.style.display =\n",
              "        google.colab.kernel.accessAllowed ? 'block' : 'none';\n",
              "    })();\n",
              "  </script>\n",
              "</div>\n",
              "    </div>\n",
              "  </div>\n"
            ]
          },
          "metadata": {},
          "execution_count": 55
        }
      ]
    },
    {
      "cell_type": "code",
      "source": [
        "\n",
        "# Turn all categories into numbers\n",
        "insurance_one_hot = pd.get_dummies(insurance)\n",
        "insurance_one_hot.head() # view the converted columns"
      ],
      "metadata": {
        "colab": {
          "base_uri": "https://localhost:8080/",
          "height": 206
        },
        "id": "RJAf2ijtveaY",
        "outputId": "6999c283-9eef-4972-e5f9-25bc4e7f8bd4"
      },
      "execution_count": null,
      "outputs": [
        {
          "output_type": "execute_result",
          "data": {
            "text/plain": [
              "   age     bmi  children      charges  sex_female  sex_male  smoker_no  \\\n",
              "0   19  27.900         0  16884.92400           1         0          0   \n",
              "1   18  33.770         1   1725.55230           0         1          1   \n",
              "2   28  33.000         3   4449.46200           0         1          1   \n",
              "3   33  22.705         0  21984.47061           0         1          1   \n",
              "4   32  28.880         0   3866.85520           0         1          1   \n",
              "\n",
              "   smoker_yes  region_northeast  region_northwest  region_southeast  \\\n",
              "0           1                 0                 0                 0   \n",
              "1           0                 0                 0                 1   \n",
              "2           0                 0                 0                 1   \n",
              "3           0                 0                 1                 0   \n",
              "4           0                 0                 1                 0   \n",
              "\n",
              "   region_southwest  \n",
              "0                 1  \n",
              "1                 0  \n",
              "2                 0  \n",
              "3                 0  \n",
              "4                 0  "
            ],
            "text/html": [
              "\n",
              "  <div id=\"df-52ca2bd0-c80c-4a0c-aa90-2f18caf1614e\" class=\"colab-df-container\">\n",
              "    <div>\n",
              "<style scoped>\n",
              "    .dataframe tbody tr th:only-of-type {\n",
              "        vertical-align: middle;\n",
              "    }\n",
              "\n",
              "    .dataframe tbody tr th {\n",
              "        vertical-align: top;\n",
              "    }\n",
              "\n",
              "    .dataframe thead th {\n",
              "        text-align: right;\n",
              "    }\n",
              "</style>\n",
              "<table border=\"1\" class=\"dataframe\">\n",
              "  <thead>\n",
              "    <tr style=\"text-align: right;\">\n",
              "      <th></th>\n",
              "      <th>age</th>\n",
              "      <th>bmi</th>\n",
              "      <th>children</th>\n",
              "      <th>charges</th>\n",
              "      <th>sex_female</th>\n",
              "      <th>sex_male</th>\n",
              "      <th>smoker_no</th>\n",
              "      <th>smoker_yes</th>\n",
              "      <th>region_northeast</th>\n",
              "      <th>region_northwest</th>\n",
              "      <th>region_southeast</th>\n",
              "      <th>region_southwest</th>\n",
              "    </tr>\n",
              "  </thead>\n",
              "  <tbody>\n",
              "    <tr>\n",
              "      <th>0</th>\n",
              "      <td>19</td>\n",
              "      <td>27.900</td>\n",
              "      <td>0</td>\n",
              "      <td>16884.92400</td>\n",
              "      <td>1</td>\n",
              "      <td>0</td>\n",
              "      <td>0</td>\n",
              "      <td>1</td>\n",
              "      <td>0</td>\n",
              "      <td>0</td>\n",
              "      <td>0</td>\n",
              "      <td>1</td>\n",
              "    </tr>\n",
              "    <tr>\n",
              "      <th>1</th>\n",
              "      <td>18</td>\n",
              "      <td>33.770</td>\n",
              "      <td>1</td>\n",
              "      <td>1725.55230</td>\n",
              "      <td>0</td>\n",
              "      <td>1</td>\n",
              "      <td>1</td>\n",
              "      <td>0</td>\n",
              "      <td>0</td>\n",
              "      <td>0</td>\n",
              "      <td>1</td>\n",
              "      <td>0</td>\n",
              "    </tr>\n",
              "    <tr>\n",
              "      <th>2</th>\n",
              "      <td>28</td>\n",
              "      <td>33.000</td>\n",
              "      <td>3</td>\n",
              "      <td>4449.46200</td>\n",
              "      <td>0</td>\n",
              "      <td>1</td>\n",
              "      <td>1</td>\n",
              "      <td>0</td>\n",
              "      <td>0</td>\n",
              "      <td>0</td>\n",
              "      <td>1</td>\n",
              "      <td>0</td>\n",
              "    </tr>\n",
              "    <tr>\n",
              "      <th>3</th>\n",
              "      <td>33</td>\n",
              "      <td>22.705</td>\n",
              "      <td>0</td>\n",
              "      <td>21984.47061</td>\n",
              "      <td>0</td>\n",
              "      <td>1</td>\n",
              "      <td>1</td>\n",
              "      <td>0</td>\n",
              "      <td>0</td>\n",
              "      <td>1</td>\n",
              "      <td>0</td>\n",
              "      <td>0</td>\n",
              "    </tr>\n",
              "    <tr>\n",
              "      <th>4</th>\n",
              "      <td>32</td>\n",
              "      <td>28.880</td>\n",
              "      <td>0</td>\n",
              "      <td>3866.85520</td>\n",
              "      <td>0</td>\n",
              "      <td>1</td>\n",
              "      <td>1</td>\n",
              "      <td>0</td>\n",
              "      <td>0</td>\n",
              "      <td>1</td>\n",
              "      <td>0</td>\n",
              "      <td>0</td>\n",
              "    </tr>\n",
              "  </tbody>\n",
              "</table>\n",
              "</div>\n",
              "    <div class=\"colab-df-buttons\">\n",
              "\n",
              "  <div class=\"colab-df-container\">\n",
              "    <button class=\"colab-df-convert\" onclick=\"convertToInteractive('df-52ca2bd0-c80c-4a0c-aa90-2f18caf1614e')\"\n",
              "            title=\"Convert this dataframe to an interactive table.\"\n",
              "            style=\"display:none;\">\n",
              "\n",
              "  <svg xmlns=\"http://www.w3.org/2000/svg\" height=\"24px\" viewBox=\"0 -960 960 960\">\n",
              "    <path d=\"M120-120v-720h720v720H120Zm60-500h600v-160H180v160Zm220 220h160v-160H400v160Zm0 220h160v-160H400v160ZM180-400h160v-160H180v160Zm440 0h160v-160H620v160ZM180-180h160v-160H180v160Zm440 0h160v-160H620v160Z\"/>\n",
              "  </svg>\n",
              "    </button>\n",
              "\n",
              "  <style>\n",
              "    .colab-df-container {\n",
              "      display:flex;\n",
              "      gap: 12px;\n",
              "    }\n",
              "\n",
              "    .colab-df-convert {\n",
              "      background-color: #E8F0FE;\n",
              "      border: none;\n",
              "      border-radius: 50%;\n",
              "      cursor: pointer;\n",
              "      display: none;\n",
              "      fill: #1967D2;\n",
              "      height: 32px;\n",
              "      padding: 0 0 0 0;\n",
              "      width: 32px;\n",
              "    }\n",
              "\n",
              "    .colab-df-convert:hover {\n",
              "      background-color: #E2EBFA;\n",
              "      box-shadow: 0px 1px 2px rgba(60, 64, 67, 0.3), 0px 1px 3px 1px rgba(60, 64, 67, 0.15);\n",
              "      fill: #174EA6;\n",
              "    }\n",
              "\n",
              "    .colab-df-buttons div {\n",
              "      margin-bottom: 4px;\n",
              "    }\n",
              "\n",
              "    [theme=dark] .colab-df-convert {\n",
              "      background-color: #3B4455;\n",
              "      fill: #D2E3FC;\n",
              "    }\n",
              "\n",
              "    [theme=dark] .colab-df-convert:hover {\n",
              "      background-color: #434B5C;\n",
              "      box-shadow: 0px 1px 3px 1px rgba(0, 0, 0, 0.15);\n",
              "      filter: drop-shadow(0px 1px 2px rgba(0, 0, 0, 0.3));\n",
              "      fill: #FFFFFF;\n",
              "    }\n",
              "  </style>\n",
              "\n",
              "    <script>\n",
              "      const buttonEl =\n",
              "        document.querySelector('#df-52ca2bd0-c80c-4a0c-aa90-2f18caf1614e button.colab-df-convert');\n",
              "      buttonEl.style.display =\n",
              "        google.colab.kernel.accessAllowed ? 'block' : 'none';\n",
              "\n",
              "      async function convertToInteractive(key) {\n",
              "        const element = document.querySelector('#df-52ca2bd0-c80c-4a0c-aa90-2f18caf1614e');\n",
              "        const dataTable =\n",
              "          await google.colab.kernel.invokeFunction('convertToInteractive',\n",
              "                                                    [key], {});\n",
              "        if (!dataTable) return;\n",
              "\n",
              "        const docLinkHtml = 'Like what you see? Visit the ' +\n",
              "          '<a target=\"_blank\" href=https://colab.research.google.com/notebooks/data_table.ipynb>data table notebook</a>'\n",
              "          + ' to learn more about interactive tables.';\n",
              "        element.innerHTML = '';\n",
              "        dataTable['output_type'] = 'display_data';\n",
              "        await google.colab.output.renderOutput(dataTable, element);\n",
              "        const docLink = document.createElement('div');\n",
              "        docLink.innerHTML = docLinkHtml;\n",
              "        element.appendChild(docLink);\n",
              "      }\n",
              "    </script>\n",
              "  </div>\n",
              "\n",
              "\n",
              "<div id=\"df-53146f62-c70b-44c0-b3e7-8f6441c40fa0\">\n",
              "  <button class=\"colab-df-quickchart\" onclick=\"quickchart('df-53146f62-c70b-44c0-b3e7-8f6441c40fa0')\"\n",
              "            title=\"Suggest charts.\"\n",
              "            style=\"display:none;\">\n",
              "\n",
              "<svg xmlns=\"http://www.w3.org/2000/svg\" height=\"24px\"viewBox=\"0 0 24 24\"\n",
              "     width=\"24px\">\n",
              "    <g>\n",
              "        <path d=\"M19 3H5c-1.1 0-2 .9-2 2v14c0 1.1.9 2 2 2h14c1.1 0 2-.9 2-2V5c0-1.1-.9-2-2-2zM9 17H7v-7h2v7zm4 0h-2V7h2v10zm4 0h-2v-4h2v4z\"/>\n",
              "    </g>\n",
              "</svg>\n",
              "  </button>\n",
              "\n",
              "<style>\n",
              "  .colab-df-quickchart {\n",
              "      --bg-color: #E8F0FE;\n",
              "      --fill-color: #1967D2;\n",
              "      --hover-bg-color: #E2EBFA;\n",
              "      --hover-fill-color: #174EA6;\n",
              "      --disabled-fill-color: #AAA;\n",
              "      --disabled-bg-color: #DDD;\n",
              "  }\n",
              "\n",
              "  [theme=dark] .colab-df-quickchart {\n",
              "      --bg-color: #3B4455;\n",
              "      --fill-color: #D2E3FC;\n",
              "      --hover-bg-color: #434B5C;\n",
              "      --hover-fill-color: #FFFFFF;\n",
              "      --disabled-bg-color: #3B4455;\n",
              "      --disabled-fill-color: #666;\n",
              "  }\n",
              "\n",
              "  .colab-df-quickchart {\n",
              "    background-color: var(--bg-color);\n",
              "    border: none;\n",
              "    border-radius: 50%;\n",
              "    cursor: pointer;\n",
              "    display: none;\n",
              "    fill: var(--fill-color);\n",
              "    height: 32px;\n",
              "    padding: 0;\n",
              "    width: 32px;\n",
              "  }\n",
              "\n",
              "  .colab-df-quickchart:hover {\n",
              "    background-color: var(--hover-bg-color);\n",
              "    box-shadow: 0 1px 2px rgba(60, 64, 67, 0.3), 0 1px 3px 1px rgba(60, 64, 67, 0.15);\n",
              "    fill: var(--button-hover-fill-color);\n",
              "  }\n",
              "\n",
              "  .colab-df-quickchart-complete:disabled,\n",
              "  .colab-df-quickchart-complete:disabled:hover {\n",
              "    background-color: var(--disabled-bg-color);\n",
              "    fill: var(--disabled-fill-color);\n",
              "    box-shadow: none;\n",
              "  }\n",
              "\n",
              "  .colab-df-spinner {\n",
              "    border: 2px solid var(--fill-color);\n",
              "    border-color: transparent;\n",
              "    border-bottom-color: var(--fill-color);\n",
              "    animation:\n",
              "      spin 1s steps(1) infinite;\n",
              "  }\n",
              "\n",
              "  @keyframes spin {\n",
              "    0% {\n",
              "      border-color: transparent;\n",
              "      border-bottom-color: var(--fill-color);\n",
              "      border-left-color: var(--fill-color);\n",
              "    }\n",
              "    20% {\n",
              "      border-color: transparent;\n",
              "      border-left-color: var(--fill-color);\n",
              "      border-top-color: var(--fill-color);\n",
              "    }\n",
              "    30% {\n",
              "      border-color: transparent;\n",
              "      border-left-color: var(--fill-color);\n",
              "      border-top-color: var(--fill-color);\n",
              "      border-right-color: var(--fill-color);\n",
              "    }\n",
              "    40% {\n",
              "      border-color: transparent;\n",
              "      border-right-color: var(--fill-color);\n",
              "      border-top-color: var(--fill-color);\n",
              "    }\n",
              "    60% {\n",
              "      border-color: transparent;\n",
              "      border-right-color: var(--fill-color);\n",
              "    }\n",
              "    80% {\n",
              "      border-color: transparent;\n",
              "      border-right-color: var(--fill-color);\n",
              "      border-bottom-color: var(--fill-color);\n",
              "    }\n",
              "    90% {\n",
              "      border-color: transparent;\n",
              "      border-bottom-color: var(--fill-color);\n",
              "    }\n",
              "  }\n",
              "</style>\n",
              "\n",
              "  <script>\n",
              "    async function quickchart(key) {\n",
              "      const quickchartButtonEl =\n",
              "        document.querySelector('#' + key + ' button');\n",
              "      quickchartButtonEl.disabled = true;  // To prevent multiple clicks.\n",
              "      quickchartButtonEl.classList.add('colab-df-spinner');\n",
              "      try {\n",
              "        const charts = await google.colab.kernel.invokeFunction(\n",
              "            'suggestCharts', [key], {});\n",
              "      } catch (error) {\n",
              "        console.error('Error during call to suggestCharts:', error);\n",
              "      }\n",
              "      quickchartButtonEl.classList.remove('colab-df-spinner');\n",
              "      quickchartButtonEl.classList.add('colab-df-quickchart-complete');\n",
              "    }\n",
              "    (() => {\n",
              "      let quickchartButtonEl =\n",
              "        document.querySelector('#df-53146f62-c70b-44c0-b3e7-8f6441c40fa0 button');\n",
              "      quickchartButtonEl.style.display =\n",
              "        google.colab.kernel.accessAllowed ? 'block' : 'none';\n",
              "    })();\n",
              "  </script>\n",
              "</div>\n",
              "    </div>\n",
              "  </div>\n"
            ]
          },
          "metadata": {},
          "execution_count": 56
        }
      ]
    },
    {
      "cell_type": "code",
      "source": [
        "#create X and y values (features and labels)\n",
        "# Create trining and testsets\n",
        "# Built a neural network(like model_2)"
      ],
      "metadata": {
        "id": "4Xc6BxEH1xYj"
      },
      "execution_count": null,
      "outputs": []
    },
    {
      "cell_type": "code",
      "source": [
        "X= insurance_one_hot.drop('charges', axis=1)\n",
        "y= insurance_one_hot['charges']"
      ],
      "metadata": {
        "id": "ed7s7vpF2bjq"
      },
      "execution_count": null,
      "outputs": []
    },
    {
      "cell_type": "code",
      "source": [
        "X.head()"
      ],
      "metadata": {
        "colab": {
          "base_uri": "https://localhost:8080/",
          "height": 206
        },
        "id": "P4pjW0xBDSN_",
        "outputId": "b7082801-bcf5-443e-f6fd-9b9e338e2627"
      },
      "execution_count": null,
      "outputs": [
        {
          "output_type": "execute_result",
          "data": {
            "text/plain": [
              "   age     bmi  children  sex_female  sex_male  smoker_no  smoker_yes  \\\n",
              "0   19  27.900         0           1         0          0           1   \n",
              "1   18  33.770         1           0         1          1           0   \n",
              "2   28  33.000         3           0         1          1           0   \n",
              "3   33  22.705         0           0         1          1           0   \n",
              "4   32  28.880         0           0         1          1           0   \n",
              "\n",
              "   region_northeast  region_northwest  region_southeast  region_southwest  \n",
              "0                 0                 0                 0                 1  \n",
              "1                 0                 0                 1                 0  \n",
              "2                 0                 0                 1                 0  \n",
              "3                 0                 1                 0                 0  \n",
              "4                 0                 1                 0                 0  "
            ],
            "text/html": [
              "\n",
              "  <div id=\"df-c5b41126-d5c7-4f1d-b6b3-2cc4cb9e2ca4\" class=\"colab-df-container\">\n",
              "    <div>\n",
              "<style scoped>\n",
              "    .dataframe tbody tr th:only-of-type {\n",
              "        vertical-align: middle;\n",
              "    }\n",
              "\n",
              "    .dataframe tbody tr th {\n",
              "        vertical-align: top;\n",
              "    }\n",
              "\n",
              "    .dataframe thead th {\n",
              "        text-align: right;\n",
              "    }\n",
              "</style>\n",
              "<table border=\"1\" class=\"dataframe\">\n",
              "  <thead>\n",
              "    <tr style=\"text-align: right;\">\n",
              "      <th></th>\n",
              "      <th>age</th>\n",
              "      <th>bmi</th>\n",
              "      <th>children</th>\n",
              "      <th>sex_female</th>\n",
              "      <th>sex_male</th>\n",
              "      <th>smoker_no</th>\n",
              "      <th>smoker_yes</th>\n",
              "      <th>region_northeast</th>\n",
              "      <th>region_northwest</th>\n",
              "      <th>region_southeast</th>\n",
              "      <th>region_southwest</th>\n",
              "    </tr>\n",
              "  </thead>\n",
              "  <tbody>\n",
              "    <tr>\n",
              "      <th>0</th>\n",
              "      <td>19</td>\n",
              "      <td>27.900</td>\n",
              "      <td>0</td>\n",
              "      <td>1</td>\n",
              "      <td>0</td>\n",
              "      <td>0</td>\n",
              "      <td>1</td>\n",
              "      <td>0</td>\n",
              "      <td>0</td>\n",
              "      <td>0</td>\n",
              "      <td>1</td>\n",
              "    </tr>\n",
              "    <tr>\n",
              "      <th>1</th>\n",
              "      <td>18</td>\n",
              "      <td>33.770</td>\n",
              "      <td>1</td>\n",
              "      <td>0</td>\n",
              "      <td>1</td>\n",
              "      <td>1</td>\n",
              "      <td>0</td>\n",
              "      <td>0</td>\n",
              "      <td>0</td>\n",
              "      <td>1</td>\n",
              "      <td>0</td>\n",
              "    </tr>\n",
              "    <tr>\n",
              "      <th>2</th>\n",
              "      <td>28</td>\n",
              "      <td>33.000</td>\n",
              "      <td>3</td>\n",
              "      <td>0</td>\n",
              "      <td>1</td>\n",
              "      <td>1</td>\n",
              "      <td>0</td>\n",
              "      <td>0</td>\n",
              "      <td>0</td>\n",
              "      <td>1</td>\n",
              "      <td>0</td>\n",
              "    </tr>\n",
              "    <tr>\n",
              "      <th>3</th>\n",
              "      <td>33</td>\n",
              "      <td>22.705</td>\n",
              "      <td>0</td>\n",
              "      <td>0</td>\n",
              "      <td>1</td>\n",
              "      <td>1</td>\n",
              "      <td>0</td>\n",
              "      <td>0</td>\n",
              "      <td>1</td>\n",
              "      <td>0</td>\n",
              "      <td>0</td>\n",
              "    </tr>\n",
              "    <tr>\n",
              "      <th>4</th>\n",
              "      <td>32</td>\n",
              "      <td>28.880</td>\n",
              "      <td>0</td>\n",
              "      <td>0</td>\n",
              "      <td>1</td>\n",
              "      <td>1</td>\n",
              "      <td>0</td>\n",
              "      <td>0</td>\n",
              "      <td>1</td>\n",
              "      <td>0</td>\n",
              "      <td>0</td>\n",
              "    </tr>\n",
              "  </tbody>\n",
              "</table>\n",
              "</div>\n",
              "    <div class=\"colab-df-buttons\">\n",
              "\n",
              "  <div class=\"colab-df-container\">\n",
              "    <button class=\"colab-df-convert\" onclick=\"convertToInteractive('df-c5b41126-d5c7-4f1d-b6b3-2cc4cb9e2ca4')\"\n",
              "            title=\"Convert this dataframe to an interactive table.\"\n",
              "            style=\"display:none;\">\n",
              "\n",
              "  <svg xmlns=\"http://www.w3.org/2000/svg\" height=\"24px\" viewBox=\"0 -960 960 960\">\n",
              "    <path d=\"M120-120v-720h720v720H120Zm60-500h600v-160H180v160Zm220 220h160v-160H400v160Zm0 220h160v-160H400v160ZM180-400h160v-160H180v160Zm440 0h160v-160H620v160ZM180-180h160v-160H180v160Zm440 0h160v-160H620v160Z\"/>\n",
              "  </svg>\n",
              "    </button>\n",
              "\n",
              "  <style>\n",
              "    .colab-df-container {\n",
              "      display:flex;\n",
              "      gap: 12px;\n",
              "    }\n",
              "\n",
              "    .colab-df-convert {\n",
              "      background-color: #E8F0FE;\n",
              "      border: none;\n",
              "      border-radius: 50%;\n",
              "      cursor: pointer;\n",
              "      display: none;\n",
              "      fill: #1967D2;\n",
              "      height: 32px;\n",
              "      padding: 0 0 0 0;\n",
              "      width: 32px;\n",
              "    }\n",
              "\n",
              "    .colab-df-convert:hover {\n",
              "      background-color: #E2EBFA;\n",
              "      box-shadow: 0px 1px 2px rgba(60, 64, 67, 0.3), 0px 1px 3px 1px rgba(60, 64, 67, 0.15);\n",
              "      fill: #174EA6;\n",
              "    }\n",
              "\n",
              "    .colab-df-buttons div {\n",
              "      margin-bottom: 4px;\n",
              "    }\n",
              "\n",
              "    [theme=dark] .colab-df-convert {\n",
              "      background-color: #3B4455;\n",
              "      fill: #D2E3FC;\n",
              "    }\n",
              "\n",
              "    [theme=dark] .colab-df-convert:hover {\n",
              "      background-color: #434B5C;\n",
              "      box-shadow: 0px 1px 3px 1px rgba(0, 0, 0, 0.15);\n",
              "      filter: drop-shadow(0px 1px 2px rgba(0, 0, 0, 0.3));\n",
              "      fill: #FFFFFF;\n",
              "    }\n",
              "  </style>\n",
              "\n",
              "    <script>\n",
              "      const buttonEl =\n",
              "        document.querySelector('#df-c5b41126-d5c7-4f1d-b6b3-2cc4cb9e2ca4 button.colab-df-convert');\n",
              "      buttonEl.style.display =\n",
              "        google.colab.kernel.accessAllowed ? 'block' : 'none';\n",
              "\n",
              "      async function convertToInteractive(key) {\n",
              "        const element = document.querySelector('#df-c5b41126-d5c7-4f1d-b6b3-2cc4cb9e2ca4');\n",
              "        const dataTable =\n",
              "          await google.colab.kernel.invokeFunction('convertToInteractive',\n",
              "                                                    [key], {});\n",
              "        if (!dataTable) return;\n",
              "\n",
              "        const docLinkHtml = 'Like what you see? Visit the ' +\n",
              "          '<a target=\"_blank\" href=https://colab.research.google.com/notebooks/data_table.ipynb>data table notebook</a>'\n",
              "          + ' to learn more about interactive tables.';\n",
              "        element.innerHTML = '';\n",
              "        dataTable['output_type'] = 'display_data';\n",
              "        await google.colab.output.renderOutput(dataTable, element);\n",
              "        const docLink = document.createElement('div');\n",
              "        docLink.innerHTML = docLinkHtml;\n",
              "        element.appendChild(docLink);\n",
              "      }\n",
              "    </script>\n",
              "  </div>\n",
              "\n",
              "\n",
              "<div id=\"df-c68a4bf0-6ab6-42fd-b62e-05ccea3d682d\">\n",
              "  <button class=\"colab-df-quickchart\" onclick=\"quickchart('df-c68a4bf0-6ab6-42fd-b62e-05ccea3d682d')\"\n",
              "            title=\"Suggest charts.\"\n",
              "            style=\"display:none;\">\n",
              "\n",
              "<svg xmlns=\"http://www.w3.org/2000/svg\" height=\"24px\"viewBox=\"0 0 24 24\"\n",
              "     width=\"24px\">\n",
              "    <g>\n",
              "        <path d=\"M19 3H5c-1.1 0-2 .9-2 2v14c0 1.1.9 2 2 2h14c1.1 0 2-.9 2-2V5c0-1.1-.9-2-2-2zM9 17H7v-7h2v7zm4 0h-2V7h2v10zm4 0h-2v-4h2v4z\"/>\n",
              "    </g>\n",
              "</svg>\n",
              "  </button>\n",
              "\n",
              "<style>\n",
              "  .colab-df-quickchart {\n",
              "      --bg-color: #E8F0FE;\n",
              "      --fill-color: #1967D2;\n",
              "      --hover-bg-color: #E2EBFA;\n",
              "      --hover-fill-color: #174EA6;\n",
              "      --disabled-fill-color: #AAA;\n",
              "      --disabled-bg-color: #DDD;\n",
              "  }\n",
              "\n",
              "  [theme=dark] .colab-df-quickchart {\n",
              "      --bg-color: #3B4455;\n",
              "      --fill-color: #D2E3FC;\n",
              "      --hover-bg-color: #434B5C;\n",
              "      --hover-fill-color: #FFFFFF;\n",
              "      --disabled-bg-color: #3B4455;\n",
              "      --disabled-fill-color: #666;\n",
              "  }\n",
              "\n",
              "  .colab-df-quickchart {\n",
              "    background-color: var(--bg-color);\n",
              "    border: none;\n",
              "    border-radius: 50%;\n",
              "    cursor: pointer;\n",
              "    display: none;\n",
              "    fill: var(--fill-color);\n",
              "    height: 32px;\n",
              "    padding: 0;\n",
              "    width: 32px;\n",
              "  }\n",
              "\n",
              "  .colab-df-quickchart:hover {\n",
              "    background-color: var(--hover-bg-color);\n",
              "    box-shadow: 0 1px 2px rgba(60, 64, 67, 0.3), 0 1px 3px 1px rgba(60, 64, 67, 0.15);\n",
              "    fill: var(--button-hover-fill-color);\n",
              "  }\n",
              "\n",
              "  .colab-df-quickchart-complete:disabled,\n",
              "  .colab-df-quickchart-complete:disabled:hover {\n",
              "    background-color: var(--disabled-bg-color);\n",
              "    fill: var(--disabled-fill-color);\n",
              "    box-shadow: none;\n",
              "  }\n",
              "\n",
              "  .colab-df-spinner {\n",
              "    border: 2px solid var(--fill-color);\n",
              "    border-color: transparent;\n",
              "    border-bottom-color: var(--fill-color);\n",
              "    animation:\n",
              "      spin 1s steps(1) infinite;\n",
              "  }\n",
              "\n",
              "  @keyframes spin {\n",
              "    0% {\n",
              "      border-color: transparent;\n",
              "      border-bottom-color: var(--fill-color);\n",
              "      border-left-color: var(--fill-color);\n",
              "    }\n",
              "    20% {\n",
              "      border-color: transparent;\n",
              "      border-left-color: var(--fill-color);\n",
              "      border-top-color: var(--fill-color);\n",
              "    }\n",
              "    30% {\n",
              "      border-color: transparent;\n",
              "      border-left-color: var(--fill-color);\n",
              "      border-top-color: var(--fill-color);\n",
              "      border-right-color: var(--fill-color);\n",
              "    }\n",
              "    40% {\n",
              "      border-color: transparent;\n",
              "      border-right-color: var(--fill-color);\n",
              "      border-top-color: var(--fill-color);\n",
              "    }\n",
              "    60% {\n",
              "      border-color: transparent;\n",
              "      border-right-color: var(--fill-color);\n",
              "    }\n",
              "    80% {\n",
              "      border-color: transparent;\n",
              "      border-right-color: var(--fill-color);\n",
              "      border-bottom-color: var(--fill-color);\n",
              "    }\n",
              "    90% {\n",
              "      border-color: transparent;\n",
              "      border-bottom-color: var(--fill-color);\n",
              "    }\n",
              "  }\n",
              "</style>\n",
              "\n",
              "  <script>\n",
              "    async function quickchart(key) {\n",
              "      const quickchartButtonEl =\n",
              "        document.querySelector('#' + key + ' button');\n",
              "      quickchartButtonEl.disabled = true;  // To prevent multiple clicks.\n",
              "      quickchartButtonEl.classList.add('colab-df-spinner');\n",
              "      try {\n",
              "        const charts = await google.colab.kernel.invokeFunction(\n",
              "            'suggestCharts', [key], {});\n",
              "      } catch (error) {\n",
              "        console.error('Error during call to suggestCharts:', error);\n",
              "      }\n",
              "      quickchartButtonEl.classList.remove('colab-df-spinner');\n",
              "      quickchartButtonEl.classList.add('colab-df-quickchart-complete');\n",
              "    }\n",
              "    (() => {\n",
              "      let quickchartButtonEl =\n",
              "        document.querySelector('#df-c68a4bf0-6ab6-42fd-b62e-05ccea3d682d button');\n",
              "      quickchartButtonEl.style.display =\n",
              "        google.colab.kernel.accessAllowed ? 'block' : 'none';\n",
              "    })();\n",
              "  </script>\n",
              "</div>\n",
              "    </div>\n",
              "  </div>\n"
            ]
          },
          "metadata": {},
          "execution_count": 59
        }
      ]
    },
    {
      "cell_type": "code",
      "source": [
        "y.head()"
      ],
      "metadata": {
        "colab": {
          "base_uri": "https://localhost:8080/"
        },
        "id": "MkXB94T7D0_f",
        "outputId": "0562cce9-9413-45da-c5ee-52c5506135a9"
      },
      "execution_count": null,
      "outputs": [
        {
          "output_type": "execute_result",
          "data": {
            "text/plain": [
              "0    16884.92400\n",
              "1     1725.55230\n",
              "2     4449.46200\n",
              "3    21984.47061\n",
              "4     3866.85520\n",
              "Name: charges, dtype: float64"
            ]
          },
          "metadata": {},
          "execution_count": 60
        }
      ]
    },
    {
      "cell_type": "code",
      "source": [
        "from sklearn.model_selection import train_test_split\n",
        "X_train, X_test, y_train, y_test = train_test_split(X,\n",
        "                                                    y,\n",
        "                                                    test_size=0.2,\n",
        "                                                    random_state=42)\n",
        "len(X), len(X_train), len(X_test)"
      ],
      "metadata": {
        "colab": {
          "base_uri": "https://localhost:8080/"
        },
        "id": "fHP3cWRH201R",
        "outputId": "f5e11bf0-95c4-41b7-cdd2-51bda472c3ef"
      },
      "execution_count": null,
      "outputs": [
        {
          "output_type": "execute_result",
          "data": {
            "text/plain": [
              "(1338, 1070, 268)"
            ]
          },
          "metadata": {},
          "execution_count": 61
        }
      ]
    },
    {
      "cell_type": "code",
      "source": [
        "\n",
        "# Set random seed\n",
        "tf.random.set_seed(42)\n",
        "\n",
        "# Create a new model (same as model_2)\n",
        "insurance_model = tf.keras.Sequential([\n",
        "  tf.keras.layers.Dense(1),\n",
        "  tf.keras.layers.Dense(1)\n",
        "])\n",
        "\n",
        "# Compile the model\n",
        "insurance_model.compile(loss=tf.keras.losses.mae,\n",
        "                        optimizer=tf.keras.optimizers.Adam(),\n",
        "                        metrics=['mae'])\n",
        "\n",
        "# Fit the model\n",
        "insurance_model.fit(X_train, y_train, epochs=500)"
      ],
      "metadata": {
        "colab": {
          "base_uri": "https://localhost:8080/"
        },
        "id": "sxOmses-5CBV",
        "outputId": "447a98e0-03d9-4f3a-e1c0-9aec7fb85950"
      },
      "execution_count": null,
      "outputs": [
        {
          "output_type": "stream",
          "name": "stdout",
          "text": [
            "Epoch 1/500\n",
            "34/34 [==============================] - 1s 2ms/step - loss: 13337.9648 - mae: 13337.9648\n",
            "Epoch 2/500\n",
            "34/34 [==============================] - 0s 2ms/step - loss: 13335.5957 - mae: 13335.5957\n",
            "Epoch 3/500\n",
            "34/34 [==============================] - 0s 2ms/step - loss: 13332.9482 - mae: 13332.9482\n",
            "Epoch 4/500\n",
            "34/34 [==============================] - 0s 2ms/step - loss: 13329.9980 - mae: 13329.9980\n",
            "Epoch 5/500\n",
            "34/34 [==============================] - 0s 2ms/step - loss: 13326.7344 - mae: 13326.7344\n",
            "Epoch 6/500\n",
            "34/34 [==============================] - 0s 2ms/step - loss: 13323.1328 - mae: 13323.1328\n",
            "Epoch 7/500\n",
            "34/34 [==============================] - 0s 2ms/step - loss: 13319.1934 - mae: 13319.1934\n",
            "Epoch 8/500\n",
            "34/34 [==============================] - 0s 2ms/step - loss: 13314.9043 - mae: 13314.9043\n",
            "Epoch 9/500\n",
            "34/34 [==============================] - 0s 2ms/step - loss: 13310.2432 - mae: 13310.2432\n",
            "Epoch 10/500\n",
            "34/34 [==============================] - 0s 2ms/step - loss: 13305.2197 - mae: 13305.2197\n",
            "Epoch 11/500\n",
            "34/34 [==============================] - 0s 2ms/step - loss: 13299.8164 - mae: 13299.8164\n",
            "Epoch 12/500\n",
            "34/34 [==============================] - 0s 2ms/step - loss: 13294.0322 - mae: 13294.0322\n",
            "Epoch 13/500\n",
            "34/34 [==============================] - 0s 2ms/step - loss: 13287.8887 - mae: 13287.8887\n",
            "Epoch 14/500\n",
            "34/34 [==============================] - 0s 2ms/step - loss: 13281.3506 - mae: 13281.3506\n",
            "Epoch 15/500\n",
            "34/34 [==============================] - 0s 2ms/step - loss: 13274.4453 - mae: 13274.4453\n",
            "Epoch 16/500\n",
            "34/34 [==============================] - 0s 2ms/step - loss: 13267.1387 - mae: 13267.1387\n",
            "Epoch 17/500\n",
            "34/34 [==============================] - 0s 2ms/step - loss: 13259.4590 - mae: 13259.4590\n",
            "Epoch 18/500\n",
            "34/34 [==============================] - 0s 3ms/step - loss: 13251.3848 - mae: 13251.3848\n",
            "Epoch 19/500\n",
            "34/34 [==============================] - 0s 3ms/step - loss: 13242.9219 - mae: 13242.9219\n",
            "Epoch 20/500\n",
            "34/34 [==============================] - 0s 3ms/step - loss: 13234.0928 - mae: 13234.0928\n",
            "Epoch 21/500\n",
            "34/34 [==============================] - 0s 3ms/step - loss: 13224.8848 - mae: 13224.8848\n",
            "Epoch 22/500\n",
            "34/34 [==============================] - 0s 3ms/step - loss: 13215.3105 - mae: 13215.3105\n",
            "Epoch 23/500\n",
            "34/34 [==============================] - 0s 3ms/step - loss: 13205.3662 - mae: 13205.3662\n",
            "Epoch 24/500\n",
            "34/34 [==============================] - 0s 4ms/step - loss: 13195.0322 - mae: 13195.0322\n",
            "Epoch 25/500\n",
            "34/34 [==============================] - 0s 3ms/step - loss: 13184.3516 - mae: 13184.3516\n",
            "Epoch 26/500\n",
            "34/34 [==============================] - 0s 3ms/step - loss: 13173.2666 - mae: 13173.2666\n",
            "Epoch 27/500\n",
            "34/34 [==============================] - 0s 3ms/step - loss: 13161.8389 - mae: 13161.8389\n",
            "Epoch 28/500\n",
            "34/34 [==============================] - 0s 3ms/step - loss: 13150.0566 - mae: 13150.0566\n",
            "Epoch 29/500\n",
            "34/34 [==============================] - 0s 3ms/step - loss: 13137.9072 - mae: 13137.9072\n",
            "Epoch 30/500\n",
            "34/34 [==============================] - 0s 3ms/step - loss: 13125.4121 - mae: 13125.4121\n",
            "Epoch 31/500\n",
            "34/34 [==============================] - 0s 3ms/step - loss: 13112.5479 - mae: 13112.5479\n",
            "Epoch 32/500\n",
            "34/34 [==============================] - 0s 2ms/step - loss: 13099.3398 - mae: 13099.3398\n",
            "Epoch 33/500\n",
            "34/34 [==============================] - 0s 3ms/step - loss: 13085.7637 - mae: 13085.7637\n",
            "Epoch 34/500\n",
            "34/34 [==============================] - 0s 3ms/step - loss: 13071.9180 - mae: 13071.9180\n",
            "Epoch 35/500\n",
            "34/34 [==============================] - 0s 2ms/step - loss: 13057.6699 - mae: 13057.6699\n",
            "Epoch 36/500\n",
            "34/34 [==============================] - 0s 2ms/step - loss: 13043.1191 - mae: 13043.1191\n",
            "Epoch 37/500\n",
            "34/34 [==============================] - 0s 3ms/step - loss: 13028.2393 - mae: 13028.2393\n",
            "Epoch 38/500\n",
            "34/34 [==============================] - 0s 3ms/step - loss: 13013.0117 - mae: 13013.0117\n",
            "Epoch 39/500\n",
            "34/34 [==============================] - 0s 3ms/step - loss: 12997.4404 - mae: 12997.4404\n",
            "Epoch 40/500\n",
            "34/34 [==============================] - 0s 3ms/step - loss: 12981.5547 - mae: 12981.5547\n",
            "Epoch 41/500\n",
            "34/34 [==============================] - 0s 3ms/step - loss: 12965.3750 - mae: 12965.3750\n",
            "Epoch 42/500\n",
            "34/34 [==============================] - 0s 3ms/step - loss: 12948.8154 - mae: 12948.8154\n",
            "Epoch 43/500\n",
            "34/34 [==============================] - 0s 4ms/step - loss: 12932.0068 - mae: 12932.0068\n",
            "Epoch 44/500\n",
            "34/34 [==============================] - 0s 3ms/step - loss: 12914.8164 - mae: 12914.8164\n",
            "Epoch 45/500\n",
            "34/34 [==============================] - 0s 3ms/step - loss: 12897.3633 - mae: 12897.3633\n",
            "Epoch 46/500\n",
            "34/34 [==============================] - 0s 3ms/step - loss: 12879.5625 - mae: 12879.5625\n",
            "Epoch 47/500\n",
            "34/34 [==============================] - 0s 4ms/step - loss: 12861.5479 - mae: 12861.5479\n",
            "Epoch 48/500\n",
            "34/34 [==============================] - 0s 2ms/step - loss: 12843.1221 - mae: 12843.1221\n",
            "Epoch 49/500\n",
            "34/34 [==============================] - 0s 2ms/step - loss: 12824.4502 - mae: 12824.4502\n",
            "Epoch 50/500\n",
            "34/34 [==============================] - 0s 2ms/step - loss: 12805.4658 - mae: 12805.4658\n",
            "Epoch 51/500\n",
            "34/34 [==============================] - 0s 2ms/step - loss: 12786.2373 - mae: 12786.2373\n",
            "Epoch 52/500\n",
            "34/34 [==============================] - 0s 2ms/step - loss: 12766.6270 - mae: 12766.6270\n",
            "Epoch 53/500\n",
            "34/34 [==============================] - 0s 2ms/step - loss: 12746.7920 - mae: 12746.7920\n",
            "Epoch 54/500\n",
            "34/34 [==============================] - 0s 2ms/step - loss: 12726.6455 - mae: 12726.6455\n",
            "Epoch 55/500\n",
            "34/34 [==============================] - 0s 2ms/step - loss: 12706.2168 - mae: 12706.2168\n",
            "Epoch 56/500\n",
            "34/34 [==============================] - 0s 2ms/step - loss: 12685.5205 - mae: 12685.5205\n",
            "Epoch 57/500\n",
            "34/34 [==============================] - 0s 2ms/step - loss: 12664.4863 - mae: 12664.4863\n",
            "Epoch 58/500\n",
            "34/34 [==============================] - 0s 2ms/step - loss: 12643.2158 - mae: 12643.2158\n",
            "Epoch 59/500\n",
            "34/34 [==============================] - 0s 2ms/step - loss: 12621.6162 - mae: 12621.6162\n",
            "Epoch 60/500\n",
            "34/34 [==============================] - 0s 2ms/step - loss: 12599.7959 - mae: 12599.7959\n",
            "Epoch 61/500\n",
            "34/34 [==============================] - 0s 2ms/step - loss: 12577.6689 - mae: 12577.6689\n",
            "Epoch 62/500\n",
            "34/34 [==============================] - 0s 2ms/step - loss: 12555.2715 - mae: 12555.2715\n",
            "Epoch 63/500\n",
            "34/34 [==============================] - 0s 2ms/step - loss: 12532.6182 - mae: 12532.6182\n",
            "Epoch 64/500\n",
            "34/34 [==============================] - 0s 2ms/step - loss: 12509.7061 - mae: 12509.7061\n",
            "Epoch 65/500\n",
            "34/34 [==============================] - 0s 2ms/step - loss: 12486.5625 - mae: 12486.5625\n",
            "Epoch 66/500\n",
            "34/34 [==============================] - 0s 2ms/step - loss: 12463.1006 - mae: 12463.1006\n",
            "Epoch 67/500\n",
            "34/34 [==============================] - 0s 2ms/step - loss: 12439.3848 - mae: 12439.3848\n",
            "Epoch 68/500\n",
            "34/34 [==============================] - 0s 2ms/step - loss: 12415.4668 - mae: 12415.4668\n",
            "Epoch 69/500\n",
            "34/34 [==============================] - 0s 2ms/step - loss: 12391.2354 - mae: 12391.2354\n",
            "Epoch 70/500\n",
            "34/34 [==============================] - 0s 2ms/step - loss: 12366.7725 - mae: 12366.7725\n",
            "Epoch 71/500\n",
            "34/34 [==============================] - 0s 2ms/step - loss: 12342.0938 - mae: 12342.0938\n",
            "Epoch 72/500\n",
            "34/34 [==============================] - 0s 2ms/step - loss: 12317.0508 - mae: 12317.0508\n",
            "Epoch 73/500\n",
            "34/34 [==============================] - 0s 2ms/step - loss: 12291.8154 - mae: 12291.8154\n",
            "Epoch 74/500\n",
            "34/34 [==============================] - 0s 2ms/step - loss: 12266.2617 - mae: 12266.2617\n",
            "Epoch 75/500\n",
            "34/34 [==============================] - 0s 2ms/step - loss: 12240.6123 - mae: 12240.6123\n",
            "Epoch 76/500\n",
            "34/34 [==============================] - 0s 2ms/step - loss: 12214.6318 - mae: 12214.6318\n",
            "Epoch 77/500\n",
            "34/34 [==============================] - 0s 2ms/step - loss: 12188.4336 - mae: 12188.4336\n",
            "Epoch 78/500\n",
            "34/34 [==============================] - 0s 2ms/step - loss: 12162.0332 - mae: 12162.0332\n",
            "Epoch 79/500\n",
            "34/34 [==============================] - 0s 2ms/step - loss: 12135.4082 - mae: 12135.4082\n",
            "Epoch 80/500\n",
            "34/34 [==============================] - 0s 2ms/step - loss: 12108.4990 - mae: 12108.4990\n",
            "Epoch 81/500\n",
            "34/34 [==============================] - 0s 2ms/step - loss: 12081.4180 - mae: 12081.4180\n",
            "Epoch 82/500\n",
            "34/34 [==============================] - 0s 2ms/step - loss: 12054.0859 - mae: 12054.0859\n",
            "Epoch 83/500\n",
            "34/34 [==============================] - 0s 2ms/step - loss: 12026.4883 - mae: 12026.4883\n",
            "Epoch 84/500\n",
            "34/34 [==============================] - 0s 2ms/step - loss: 11998.7500 - mae: 11998.7500\n",
            "Epoch 85/500\n",
            "34/34 [==============================] - 0s 2ms/step - loss: 11970.7510 - mae: 11970.7510\n",
            "Epoch 86/500\n",
            "34/34 [==============================] - 0s 2ms/step - loss: 11942.5254 - mae: 11942.5254\n",
            "Epoch 87/500\n",
            "34/34 [==============================] - 0s 2ms/step - loss: 11914.1064 - mae: 11914.1064\n",
            "Epoch 88/500\n",
            "34/34 [==============================] - 0s 2ms/step - loss: 11885.4746 - mae: 11885.4746\n",
            "Epoch 89/500\n",
            "34/34 [==============================] - 0s 2ms/step - loss: 11856.6670 - mae: 11856.6670\n",
            "Epoch 90/500\n",
            "34/34 [==============================] - 0s 2ms/step - loss: 11827.6875 - mae: 11827.6875\n",
            "Epoch 91/500\n",
            "34/34 [==============================] - 0s 2ms/step - loss: 11798.6201 - mae: 11798.6201\n",
            "Epoch 92/500\n",
            "34/34 [==============================] - 0s 2ms/step - loss: 11769.4346 - mae: 11769.4346\n",
            "Epoch 93/500\n",
            "34/34 [==============================] - 0s 2ms/step - loss: 11740.0244 - mae: 11740.0244\n",
            "Epoch 94/500\n",
            "34/34 [==============================] - 0s 2ms/step - loss: 11710.4775 - mae: 11710.4775\n",
            "Epoch 95/500\n",
            "34/34 [==============================] - 0s 2ms/step - loss: 11680.8164 - mae: 11680.8164\n",
            "Epoch 96/500\n",
            "34/34 [==============================] - 0s 2ms/step - loss: 11650.8955 - mae: 11650.8955\n",
            "Epoch 97/500\n",
            "34/34 [==============================] - 0s 2ms/step - loss: 11620.7998 - mae: 11620.7998\n",
            "Epoch 98/500\n",
            "34/34 [==============================] - 0s 2ms/step - loss: 11590.4678 - mae: 11590.4678\n",
            "Epoch 99/500\n",
            "34/34 [==============================] - 0s 2ms/step - loss: 11559.8545 - mae: 11559.8545\n",
            "Epoch 100/500\n",
            "34/34 [==============================] - 0s 2ms/step - loss: 11529.0703 - mae: 11529.0703\n",
            "Epoch 101/500\n",
            "34/34 [==============================] - 0s 2ms/step - loss: 11498.1973 - mae: 11498.1973\n",
            "Epoch 102/500\n",
            "34/34 [==============================] - 0s 2ms/step - loss: 11467.0762 - mae: 11467.0762\n",
            "Epoch 103/500\n",
            "34/34 [==============================] - 0s 2ms/step - loss: 11435.9121 - mae: 11435.9121\n",
            "Epoch 104/500\n",
            "34/34 [==============================] - 0s 2ms/step - loss: 11404.5254 - mae: 11404.5254\n",
            "Epoch 105/500\n",
            "34/34 [==============================] - 0s 2ms/step - loss: 11372.9336 - mae: 11372.9336\n",
            "Epoch 106/500\n",
            "34/34 [==============================] - 0s 2ms/step - loss: 11341.3965 - mae: 11341.3965\n",
            "Epoch 107/500\n",
            "34/34 [==============================] - 0s 2ms/step - loss: 11309.7529 - mae: 11309.7529\n",
            "Epoch 108/500\n",
            "34/34 [==============================] - 0s 2ms/step - loss: 11278.1104 - mae: 11278.1104\n",
            "Epoch 109/500\n",
            "34/34 [==============================] - 0s 2ms/step - loss: 11246.4209 - mae: 11246.4209\n",
            "Epoch 110/500\n",
            "34/34 [==============================] - 0s 2ms/step - loss: 11214.5898 - mae: 11214.5898\n",
            "Epoch 111/500\n",
            "34/34 [==============================] - 0s 2ms/step - loss: 11182.6748 - mae: 11182.6748\n",
            "Epoch 112/500\n",
            "34/34 [==============================] - 0s 2ms/step - loss: 11150.4941 - mae: 11150.4941\n",
            "Epoch 113/500\n",
            "34/34 [==============================] - 0s 2ms/step - loss: 11118.2373 - mae: 11118.2373\n",
            "Epoch 114/500\n",
            "34/34 [==============================] - 0s 2ms/step - loss: 11085.8613 - mae: 11085.8613\n",
            "Epoch 115/500\n",
            "34/34 [==============================] - 0s 2ms/step - loss: 11053.5400 - mae: 11053.5400\n",
            "Epoch 116/500\n",
            "34/34 [==============================] - 0s 2ms/step - loss: 11021.5049 - mae: 11021.5049\n",
            "Epoch 117/500\n",
            "34/34 [==============================] - 0s 2ms/step - loss: 10989.4189 - mae: 10989.4189\n",
            "Epoch 118/500\n",
            "34/34 [==============================] - 0s 2ms/step - loss: 10957.3711 - mae: 10957.3711\n",
            "Epoch 119/500\n",
            "34/34 [==============================] - 0s 3ms/step - loss: 10925.0635 - mae: 10925.0635\n",
            "Epoch 120/500\n",
            "34/34 [==============================] - 0s 2ms/step - loss: 10892.7119 - mae: 10892.7119\n",
            "Epoch 121/500\n",
            "34/34 [==============================] - 0s 2ms/step - loss: 10860.4873 - mae: 10860.4873\n",
            "Epoch 122/500\n",
            "34/34 [==============================] - 0s 2ms/step - loss: 10828.3105 - mae: 10828.3105\n",
            "Epoch 123/500\n",
            "34/34 [==============================] - 0s 2ms/step - loss: 10796.1895 - mae: 10796.1895\n",
            "Epoch 124/500\n",
            "34/34 [==============================] - 0s 2ms/step - loss: 10763.9697 - mae: 10763.9697\n",
            "Epoch 125/500\n",
            "34/34 [==============================] - 0s 2ms/step - loss: 10731.6631 - mae: 10731.6631\n",
            "Epoch 126/500\n",
            "34/34 [==============================] - 0s 2ms/step - loss: 10699.5654 - mae: 10699.5654\n",
            "Epoch 127/500\n",
            "34/34 [==============================] - 0s 2ms/step - loss: 10667.4229 - mae: 10667.4229\n",
            "Epoch 128/500\n",
            "34/34 [==============================] - 0s 2ms/step - loss: 10635.2910 - mae: 10635.2910\n",
            "Epoch 129/500\n",
            "34/34 [==============================] - 0s 2ms/step - loss: 10603.2754 - mae: 10603.2754\n",
            "Epoch 130/500\n",
            "34/34 [==============================] - 0s 2ms/step - loss: 10571.4414 - mae: 10571.4414\n",
            "Epoch 131/500\n",
            "34/34 [==============================] - 0s 2ms/step - loss: 10539.4463 - mae: 10539.4463\n",
            "Epoch 132/500\n",
            "34/34 [==============================] - 0s 2ms/step - loss: 10507.8398 - mae: 10507.8398\n",
            "Epoch 133/500\n",
            "34/34 [==============================] - 0s 2ms/step - loss: 10476.3369 - mae: 10476.3369\n",
            "Epoch 134/500\n",
            "34/34 [==============================] - 0s 2ms/step - loss: 10444.7617 - mae: 10444.7617\n",
            "Epoch 135/500\n",
            "34/34 [==============================] - 0s 2ms/step - loss: 10413.4629 - mae: 10413.4629\n",
            "Epoch 136/500\n",
            "34/34 [==============================] - 0s 2ms/step - loss: 10382.3105 - mae: 10382.3105\n",
            "Epoch 137/500\n",
            "34/34 [==============================] - 0s 2ms/step - loss: 10351.2061 - mae: 10351.2061\n",
            "Epoch 138/500\n",
            "34/34 [==============================] - 0s 2ms/step - loss: 10320.1963 - mae: 10320.1963\n",
            "Epoch 139/500\n",
            "34/34 [==============================] - 0s 2ms/step - loss: 10289.0762 - mae: 10289.0762\n",
            "Epoch 140/500\n",
            "34/34 [==============================] - 0s 2ms/step - loss: 10257.8389 - mae: 10257.8389\n",
            "Epoch 141/500\n",
            "34/34 [==============================] - 0s 2ms/step - loss: 10226.5967 - mae: 10226.5967\n",
            "Epoch 142/500\n",
            "34/34 [==============================] - 0s 2ms/step - loss: 10195.5410 - mae: 10195.5410\n",
            "Epoch 143/500\n",
            "34/34 [==============================] - 0s 2ms/step - loss: 10164.1533 - mae: 10164.1533\n",
            "Epoch 144/500\n",
            "34/34 [==============================] - 0s 2ms/step - loss: 10132.4893 - mae: 10132.4893\n",
            "Epoch 145/500\n",
            "34/34 [==============================] - 0s 2ms/step - loss: 10101.2197 - mae: 10101.2197\n",
            "Epoch 146/500\n",
            "34/34 [==============================] - 0s 2ms/step - loss: 10069.6338 - mae: 10069.6338\n",
            "Epoch 147/500\n",
            "34/34 [==============================] - 0s 2ms/step - loss: 10038.5410 - mae: 10038.5410\n",
            "Epoch 148/500\n",
            "34/34 [==============================] - 0s 2ms/step - loss: 10007.4922 - mae: 10007.4922\n",
            "Epoch 149/500\n",
            "34/34 [==============================] - 0s 2ms/step - loss: 9976.5176 - mae: 9976.5176\n",
            "Epoch 150/500\n",
            "34/34 [==============================] - 0s 2ms/step - loss: 9945.9209 - mae: 9945.9209\n",
            "Epoch 151/500\n",
            "34/34 [==============================] - 0s 2ms/step - loss: 9915.5537 - mae: 9915.5537\n",
            "Epoch 152/500\n",
            "34/34 [==============================] - 0s 2ms/step - loss: 9884.7188 - mae: 9884.7188\n",
            "Epoch 153/500\n",
            "34/34 [==============================] - 0s 2ms/step - loss: 9854.5732 - mae: 9854.5732\n",
            "Epoch 154/500\n",
            "34/34 [==============================] - 0s 2ms/step - loss: 9824.5879 - mae: 9824.5879\n",
            "Epoch 155/500\n",
            "34/34 [==============================] - 0s 2ms/step - loss: 9794.4180 - mae: 9794.4180\n",
            "Epoch 156/500\n",
            "34/34 [==============================] - 0s 2ms/step - loss: 9764.2871 - mae: 9764.2871\n",
            "Epoch 157/500\n",
            "34/34 [==============================] - 0s 2ms/step - loss: 9733.8496 - mae: 9733.8496\n",
            "Epoch 158/500\n",
            "34/34 [==============================] - 0s 2ms/step - loss: 9703.5430 - mae: 9703.5430\n",
            "Epoch 159/500\n",
            "34/34 [==============================] - 0s 2ms/step - loss: 9673.0225 - mae: 9673.0225\n",
            "Epoch 160/500\n",
            "34/34 [==============================] - 0s 2ms/step - loss: 9642.6318 - mae: 9642.6318\n",
            "Epoch 161/500\n",
            "34/34 [==============================] - 0s 2ms/step - loss: 9612.1260 - mae: 9612.1260\n",
            "Epoch 162/500\n",
            "34/34 [==============================] - 0s 2ms/step - loss: 9581.2744 - mae: 9581.2744\n",
            "Epoch 163/500\n",
            "34/34 [==============================] - 0s 2ms/step - loss: 9550.9512 - mae: 9550.9512\n",
            "Epoch 164/500\n",
            "34/34 [==============================] - 0s 2ms/step - loss: 9520.6309 - mae: 9520.6309\n",
            "Epoch 165/500\n",
            "34/34 [==============================] - 0s 2ms/step - loss: 9490.4775 - mae: 9490.4775\n",
            "Epoch 166/500\n",
            "34/34 [==============================] - 0s 2ms/step - loss: 9460.3584 - mae: 9460.3584\n",
            "Epoch 167/500\n",
            "34/34 [==============================] - 0s 2ms/step - loss: 9430.7598 - mae: 9430.7598\n",
            "Epoch 168/500\n",
            "34/34 [==============================] - 0s 2ms/step - loss: 9400.8350 - mae: 9400.8350\n",
            "Epoch 169/500\n",
            "34/34 [==============================] - 0s 2ms/step - loss: 9371.2158 - mae: 9371.2158\n",
            "Epoch 170/500\n",
            "34/34 [==============================] - 0s 2ms/step - loss: 9341.1680 - mae: 9341.1680\n",
            "Epoch 171/500\n",
            "34/34 [==============================] - 0s 2ms/step - loss: 9311.5410 - mae: 9311.5410\n",
            "Epoch 172/500\n",
            "34/34 [==============================] - 0s 2ms/step - loss: 9281.6162 - mae: 9281.6162\n",
            "Epoch 173/500\n",
            "34/34 [==============================] - 0s 2ms/step - loss: 9251.3936 - mae: 9251.3936\n",
            "Epoch 174/500\n",
            "34/34 [==============================] - 0s 2ms/step - loss: 9221.3389 - mae: 9221.3389\n",
            "Epoch 175/500\n",
            "34/34 [==============================] - 0s 2ms/step - loss: 9191.1445 - mae: 9191.1445\n",
            "Epoch 176/500\n",
            "34/34 [==============================] - 0s 2ms/step - loss: 9161.5293 - mae: 9161.5293\n",
            "Epoch 177/500\n",
            "34/34 [==============================] - 0s 3ms/step - loss: 9132.3623 - mae: 9132.3623\n",
            "Epoch 178/500\n",
            "34/34 [==============================] - 0s 3ms/step - loss: 9103.2275 - mae: 9103.2275\n",
            "Epoch 179/500\n",
            "34/34 [==============================] - 0s 3ms/step - loss: 9075.1631 - mae: 9075.1631\n",
            "Epoch 180/500\n",
            "34/34 [==============================] - 0s 3ms/step - loss: 9047.0605 - mae: 9047.0605\n",
            "Epoch 181/500\n",
            "34/34 [==============================] - 0s 3ms/step - loss: 9019.2158 - mae: 9019.2158\n",
            "Epoch 182/500\n",
            "34/34 [==============================] - 0s 3ms/step - loss: 8991.9150 - mae: 8991.9150\n",
            "Epoch 183/500\n",
            "34/34 [==============================] - 0s 3ms/step - loss: 8964.2734 - mae: 8964.2734\n",
            "Epoch 184/500\n",
            "34/34 [==============================] - 0s 2ms/step - loss: 8936.7285 - mae: 8936.7285\n",
            "Epoch 185/500\n",
            "34/34 [==============================] - 0s 3ms/step - loss: 8909.3477 - mae: 8909.3477\n",
            "Epoch 186/500\n",
            "34/34 [==============================] - 0s 3ms/step - loss: 8882.1123 - mae: 8882.1123\n",
            "Epoch 187/500\n",
            "34/34 [==============================] - 0s 2ms/step - loss: 8855.1650 - mae: 8855.1650\n",
            "Epoch 188/500\n",
            "34/34 [==============================] - 0s 3ms/step - loss: 8828.7031 - mae: 8828.7031\n",
            "Epoch 189/500\n",
            "34/34 [==============================] - 0s 3ms/step - loss: 8801.9932 - mae: 8801.9932\n",
            "Epoch 190/500\n",
            "34/34 [==============================] - 0s 3ms/step - loss: 8776.0820 - mae: 8776.0820\n",
            "Epoch 191/500\n",
            "34/34 [==============================] - 0s 3ms/step - loss: 8749.9492 - mae: 8749.9492\n",
            "Epoch 192/500\n",
            "34/34 [==============================] - 0s 3ms/step - loss: 8724.2002 - mae: 8724.2002\n",
            "Epoch 193/500\n",
            "34/34 [==============================] - 0s 3ms/step - loss: 8698.4482 - mae: 8698.4482\n",
            "Epoch 194/500\n",
            "34/34 [==============================] - 0s 3ms/step - loss: 8672.9219 - mae: 8672.9219\n",
            "Epoch 195/500\n",
            "34/34 [==============================] - 0s 3ms/step - loss: 8647.8848 - mae: 8647.8848\n",
            "Epoch 196/500\n",
            "34/34 [==============================] - 0s 3ms/step - loss: 8622.4141 - mae: 8622.4141\n",
            "Epoch 197/500\n",
            "34/34 [==============================] - 0s 3ms/step - loss: 8597.3164 - mae: 8597.3164\n",
            "Epoch 198/500\n",
            "34/34 [==============================] - 0s 3ms/step - loss: 8571.8428 - mae: 8571.8428\n",
            "Epoch 199/500\n",
            "34/34 [==============================] - 0s 3ms/step - loss: 8546.9521 - mae: 8546.9521\n",
            "Epoch 200/500\n",
            "34/34 [==============================] - 0s 2ms/step - loss: 8522.4160 - mae: 8522.4160\n",
            "Epoch 201/500\n",
            "34/34 [==============================] - 0s 2ms/step - loss: 8498.0098 - mae: 8498.0098\n",
            "Epoch 202/500\n",
            "34/34 [==============================] - 0s 2ms/step - loss: 8474.0547 - mae: 8474.0547\n",
            "Epoch 203/500\n",
            "34/34 [==============================] - 0s 2ms/step - loss: 8450.1475 - mae: 8450.1475\n",
            "Epoch 204/500\n",
            "34/34 [==============================] - 0s 4ms/step - loss: 8426.6553 - mae: 8426.6553\n",
            "Epoch 205/500\n",
            "34/34 [==============================] - 0s 3ms/step - loss: 8403.0332 - mae: 8403.0332\n",
            "Epoch 206/500\n",
            "34/34 [==============================] - 0s 3ms/step - loss: 8380.0479 - mae: 8380.0479\n",
            "Epoch 207/500\n",
            "34/34 [==============================] - 0s 2ms/step - loss: 8357.4463 - mae: 8357.4463\n",
            "Epoch 208/500\n",
            "34/34 [==============================] - 0s 2ms/step - loss: 8335.1709 - mae: 8335.1709\n",
            "Epoch 209/500\n",
            "34/34 [==============================] - 0s 2ms/step - loss: 8312.7197 - mae: 8312.7197\n",
            "Epoch 210/500\n",
            "34/34 [==============================] - 0s 2ms/step - loss: 8291.0957 - mae: 8291.0957\n",
            "Epoch 211/500\n",
            "34/34 [==============================] - 0s 2ms/step - loss: 8268.6250 - mae: 8268.6250\n",
            "Epoch 212/500\n",
            "34/34 [==============================] - 0s 2ms/step - loss: 8247.1709 - mae: 8247.1709\n",
            "Epoch 213/500\n",
            "34/34 [==============================] - 0s 2ms/step - loss: 8226.0615 - mae: 8226.0615\n",
            "Epoch 214/500\n",
            "34/34 [==============================] - 0s 2ms/step - loss: 8204.8584 - mae: 8204.8584\n",
            "Epoch 215/500\n",
            "34/34 [==============================] - 0s 2ms/step - loss: 8184.7759 - mae: 8184.7759\n",
            "Epoch 216/500\n",
            "34/34 [==============================] - 0s 2ms/step - loss: 8164.8804 - mae: 8164.8804\n",
            "Epoch 217/500\n",
            "34/34 [==============================] - 0s 2ms/step - loss: 8144.7822 - mae: 8144.7822\n",
            "Epoch 218/500\n",
            "34/34 [==============================] - 0s 2ms/step - loss: 8125.2026 - mae: 8125.2026\n",
            "Epoch 219/500\n",
            "34/34 [==============================] - 0s 2ms/step - loss: 8106.0083 - mae: 8106.0083\n",
            "Epoch 220/500\n",
            "34/34 [==============================] - 0s 2ms/step - loss: 8086.8794 - mae: 8086.8794\n",
            "Epoch 221/500\n",
            "34/34 [==============================] - 0s 2ms/step - loss: 8068.1357 - mae: 8068.1357\n",
            "Epoch 222/500\n",
            "34/34 [==============================] - 0s 2ms/step - loss: 8048.8428 - mae: 8048.8428\n",
            "Epoch 223/500\n",
            "34/34 [==============================] - 0s 2ms/step - loss: 8030.2793 - mae: 8030.2793\n",
            "Epoch 224/500\n",
            "34/34 [==============================] - 0s 2ms/step - loss: 8011.8076 - mae: 8011.8076\n",
            "Epoch 225/500\n",
            "34/34 [==============================] - 0s 2ms/step - loss: 7993.8833 - mae: 7993.8833\n",
            "Epoch 226/500\n",
            "34/34 [==============================] - 0s 2ms/step - loss: 7976.3076 - mae: 7976.3076\n",
            "Epoch 227/500\n",
            "34/34 [==============================] - 0s 2ms/step - loss: 7959.4961 - mae: 7959.4961\n",
            "Epoch 228/500\n",
            "34/34 [==============================] - 0s 2ms/step - loss: 7942.4531 - mae: 7942.4531\n",
            "Epoch 229/500\n",
            "34/34 [==============================] - 0s 2ms/step - loss: 7926.1279 - mae: 7926.1279\n",
            "Epoch 230/500\n",
            "34/34 [==============================] - 0s 2ms/step - loss: 7910.5288 - mae: 7910.5288\n",
            "Epoch 231/500\n",
            "34/34 [==============================] - 0s 2ms/step - loss: 7895.1792 - mae: 7895.1792\n",
            "Epoch 232/500\n",
            "34/34 [==============================] - 0s 2ms/step - loss: 7879.6133 - mae: 7879.6133\n",
            "Epoch 233/500\n",
            "34/34 [==============================] - 0s 2ms/step - loss: 7864.3179 - mae: 7864.3179\n",
            "Epoch 234/500\n",
            "34/34 [==============================] - 0s 2ms/step - loss: 7849.5615 - mae: 7849.5615\n",
            "Epoch 235/500\n",
            "34/34 [==============================] - 0s 2ms/step - loss: 7835.1309 - mae: 7835.1309\n",
            "Epoch 236/500\n",
            "34/34 [==============================] - 0s 2ms/step - loss: 7821.0288 - mae: 7821.0288\n",
            "Epoch 237/500\n",
            "34/34 [==============================] - 0s 2ms/step - loss: 7807.6528 - mae: 7807.6528\n",
            "Epoch 238/500\n",
            "34/34 [==============================] - 0s 2ms/step - loss: 7794.5767 - mae: 7794.5767\n",
            "Epoch 239/500\n",
            "34/34 [==============================] - 0s 2ms/step - loss: 7782.1230 - mae: 7782.1230\n",
            "Epoch 240/500\n",
            "34/34 [==============================] - 0s 2ms/step - loss: 7769.5967 - mae: 7769.5967\n",
            "Epoch 241/500\n",
            "34/34 [==============================] - 0s 2ms/step - loss: 7757.4932 - mae: 7757.4932\n",
            "Epoch 242/500\n",
            "34/34 [==============================] - 0s 2ms/step - loss: 7745.7012 - mae: 7745.7012\n",
            "Epoch 243/500\n",
            "34/34 [==============================] - 0s 2ms/step - loss: 7733.7622 - mae: 7733.7622\n",
            "Epoch 244/500\n",
            "34/34 [==============================] - 0s 2ms/step - loss: 7722.2104 - mae: 7722.2104\n",
            "Epoch 245/500\n",
            "34/34 [==============================] - 0s 2ms/step - loss: 7711.0557 - mae: 7711.0557\n",
            "Epoch 246/500\n",
            "34/34 [==============================] - 0s 2ms/step - loss: 7699.8730 - mae: 7699.8730\n",
            "Epoch 247/500\n",
            "34/34 [==============================] - 0s 2ms/step - loss: 7689.2002 - mae: 7689.2002\n",
            "Epoch 248/500\n",
            "34/34 [==============================] - 0s 2ms/step - loss: 7678.7451 - mae: 7678.7451\n",
            "Epoch 249/500\n",
            "34/34 [==============================] - 0s 3ms/step - loss: 7669.0776 - mae: 7669.0776\n",
            "Epoch 250/500\n",
            "34/34 [==============================] - 0s 2ms/step - loss: 7660.0771 - mae: 7660.0771\n",
            "Epoch 251/500\n",
            "34/34 [==============================] - 0s 2ms/step - loss: 7651.0229 - mae: 7651.0229\n",
            "Epoch 252/500\n",
            "34/34 [==============================] - 0s 2ms/step - loss: 7642.4814 - mae: 7642.4814\n",
            "Epoch 253/500\n",
            "34/34 [==============================] - 0s 2ms/step - loss: 7634.3501 - mae: 7634.3501\n",
            "Epoch 254/500\n",
            "34/34 [==============================] - 0s 2ms/step - loss: 7626.2144 - mae: 7626.2144\n",
            "Epoch 255/500\n",
            "34/34 [==============================] - 0s 2ms/step - loss: 7618.3477 - mae: 7618.3477\n",
            "Epoch 256/500\n",
            "34/34 [==============================] - 0s 2ms/step - loss: 7610.8994 - mae: 7610.8994\n",
            "Epoch 257/500\n",
            "34/34 [==============================] - 0s 2ms/step - loss: 7603.7129 - mae: 7603.7129\n",
            "Epoch 258/500\n",
            "34/34 [==============================] - 0s 2ms/step - loss: 7596.6294 - mae: 7596.6294\n",
            "Epoch 259/500\n",
            "34/34 [==============================] - 0s 2ms/step - loss: 7590.0371 - mae: 7590.0371\n",
            "Epoch 260/500\n",
            "34/34 [==============================] - 0s 2ms/step - loss: 7583.5938 - mae: 7583.5938\n",
            "Epoch 261/500\n",
            "34/34 [==============================] - 0s 2ms/step - loss: 7577.4619 - mae: 7577.4619\n",
            "Epoch 262/500\n",
            "34/34 [==============================] - 0s 2ms/step - loss: 7571.6055 - mae: 7571.6055\n",
            "Epoch 263/500\n",
            "34/34 [==============================] - 0s 2ms/step - loss: 7565.5693 - mae: 7565.5693\n",
            "Epoch 264/500\n",
            "34/34 [==============================] - 0s 3ms/step - loss: 7560.0454 - mae: 7560.0454\n",
            "Epoch 265/500\n",
            "34/34 [==============================] - 0s 2ms/step - loss: 7554.6421 - mae: 7554.6421\n",
            "Epoch 266/500\n",
            "34/34 [==============================] - 0s 2ms/step - loss: 7549.5835 - mae: 7549.5835\n",
            "Epoch 267/500\n",
            "34/34 [==============================] - 0s 2ms/step - loss: 7544.6621 - mae: 7544.6621\n",
            "Epoch 268/500\n",
            "34/34 [==============================] - 0s 2ms/step - loss: 7539.7915 - mae: 7539.7915\n",
            "Epoch 269/500\n",
            "34/34 [==============================] - 0s 2ms/step - loss: 7535.4033 - mae: 7535.4033\n",
            "Epoch 270/500\n",
            "34/34 [==============================] - 0s 2ms/step - loss: 7531.2314 - mae: 7531.2314\n",
            "Epoch 271/500\n",
            "34/34 [==============================] - 0s 2ms/step - loss: 7526.9995 - mae: 7526.9995\n",
            "Epoch 272/500\n",
            "34/34 [==============================] - 0s 2ms/step - loss: 7522.7910 - mae: 7522.7910\n",
            "Epoch 273/500\n",
            "34/34 [==============================] - 0s 2ms/step - loss: 7519.1279 - mae: 7519.1279\n",
            "Epoch 274/500\n",
            "34/34 [==============================] - 0s 2ms/step - loss: 7515.5625 - mae: 7515.5625\n",
            "Epoch 275/500\n",
            "34/34 [==============================] - 0s 2ms/step - loss: 7511.9062 - mae: 7511.9062\n",
            "Epoch 276/500\n",
            "34/34 [==============================] - 0s 2ms/step - loss: 7508.4512 - mae: 7508.4512\n",
            "Epoch 277/500\n",
            "34/34 [==============================] - 0s 2ms/step - loss: 7505.1030 - mae: 7505.1030\n",
            "Epoch 278/500\n",
            "34/34 [==============================] - 0s 2ms/step - loss: 7502.0337 - mae: 7502.0337\n",
            "Epoch 279/500\n",
            "34/34 [==============================] - 0s 2ms/step - loss: 7499.2383 - mae: 7499.2383\n",
            "Epoch 280/500\n",
            "34/34 [==============================] - 0s 2ms/step - loss: 7496.6030 - mae: 7496.6030\n",
            "Epoch 281/500\n",
            "34/34 [==============================] - 0s 3ms/step - loss: 7493.8345 - mae: 7493.8345\n",
            "Epoch 282/500\n",
            "34/34 [==============================] - 0s 2ms/step - loss: 7491.3447 - mae: 7491.3447\n",
            "Epoch 283/500\n",
            "34/34 [==============================] - 0s 2ms/step - loss: 7488.9492 - mae: 7488.9492\n",
            "Epoch 284/500\n",
            "34/34 [==============================] - 0s 2ms/step - loss: 7486.4727 - mae: 7486.4727\n",
            "Epoch 285/500\n",
            "34/34 [==============================] - 0s 2ms/step - loss: 7484.0225 - mae: 7484.0225\n",
            "Epoch 286/500\n",
            "34/34 [==============================] - 0s 2ms/step - loss: 7481.7690 - mae: 7481.7690\n",
            "Epoch 287/500\n",
            "34/34 [==============================] - 0s 2ms/step - loss: 7479.2886 - mae: 7479.2886\n",
            "Epoch 288/500\n",
            "34/34 [==============================] - 0s 2ms/step - loss: 7477.0098 - mae: 7477.0098\n",
            "Epoch 289/500\n",
            "34/34 [==============================] - 0s 2ms/step - loss: 7475.1196 - mae: 7475.1196\n",
            "Epoch 290/500\n",
            "34/34 [==============================] - 0s 2ms/step - loss: 7473.0098 - mae: 7473.0098\n",
            "Epoch 291/500\n",
            "34/34 [==============================] - 0s 2ms/step - loss: 7471.1152 - mae: 7471.1152\n",
            "Epoch 292/500\n",
            "34/34 [==============================] - 0s 2ms/step - loss: 7469.1597 - mae: 7469.1597\n",
            "Epoch 293/500\n",
            "34/34 [==============================] - 0s 3ms/step - loss: 7467.1230 - mae: 7467.1230\n",
            "Epoch 294/500\n",
            "34/34 [==============================] - 0s 2ms/step - loss: 7465.2080 - mae: 7465.2080\n",
            "Epoch 295/500\n",
            "34/34 [==============================] - 0s 2ms/step - loss: 7463.2456 - mae: 7463.2456\n",
            "Epoch 296/500\n",
            "34/34 [==============================] - 0s 2ms/step - loss: 7461.4077 - mae: 7461.4077\n",
            "Epoch 297/500\n",
            "34/34 [==============================] - 0s 2ms/step - loss: 7459.6338 - mae: 7459.6338\n",
            "Epoch 298/500\n",
            "34/34 [==============================] - 0s 2ms/step - loss: 7457.9956 - mae: 7457.9956\n",
            "Epoch 299/500\n",
            "34/34 [==============================] - 0s 2ms/step - loss: 7456.3237 - mae: 7456.3237\n",
            "Epoch 300/500\n",
            "34/34 [==============================] - 0s 2ms/step - loss: 7454.5962 - mae: 7454.5962\n",
            "Epoch 301/500\n",
            "34/34 [==============================] - 0s 2ms/step - loss: 7452.9375 - mae: 7452.9375\n",
            "Epoch 302/500\n",
            "34/34 [==============================] - 0s 2ms/step - loss: 7451.3530 - mae: 7451.3530\n",
            "Epoch 303/500\n",
            "34/34 [==============================] - 0s 2ms/step - loss: 7449.7793 - mae: 7449.7793\n",
            "Epoch 304/500\n",
            "34/34 [==============================] - 0s 2ms/step - loss: 7448.2466 - mae: 7448.2466\n",
            "Epoch 305/500\n",
            "34/34 [==============================] - 0s 2ms/step - loss: 7446.6377 - mae: 7446.6377\n",
            "Epoch 306/500\n",
            "34/34 [==============================] - 0s 2ms/step - loss: 7445.3281 - mae: 7445.3281\n",
            "Epoch 307/500\n",
            "34/34 [==============================] - 0s 2ms/step - loss: 7443.8740 - mae: 7443.8740\n",
            "Epoch 308/500\n",
            "34/34 [==============================] - 0s 2ms/step - loss: 7442.6782 - mae: 7442.6782\n",
            "Epoch 309/500\n",
            "34/34 [==============================] - 0s 2ms/step - loss: 7441.2715 - mae: 7441.2715\n",
            "Epoch 310/500\n",
            "34/34 [==============================] - 0s 2ms/step - loss: 7440.0513 - mae: 7440.0513\n",
            "Epoch 311/500\n",
            "34/34 [==============================] - 0s 2ms/step - loss: 7438.8340 - mae: 7438.8340\n",
            "Epoch 312/500\n",
            "34/34 [==============================] - 0s 2ms/step - loss: 7437.6211 - mae: 7437.6211\n",
            "Epoch 313/500\n",
            "34/34 [==============================] - 0s 2ms/step - loss: 7436.4233 - mae: 7436.4233\n",
            "Epoch 314/500\n",
            "34/34 [==============================] - 0s 2ms/step - loss: 7435.2451 - mae: 7435.2451\n",
            "Epoch 315/500\n",
            "34/34 [==============================] - 0s 2ms/step - loss: 7434.1245 - mae: 7434.1245\n",
            "Epoch 316/500\n",
            "34/34 [==============================] - 0s 2ms/step - loss: 7433.0381 - mae: 7433.0381\n",
            "Epoch 317/500\n",
            "34/34 [==============================] - 0s 2ms/step - loss: 7431.9438 - mae: 7431.9438\n",
            "Epoch 318/500\n",
            "34/34 [==============================] - 0s 2ms/step - loss: 7430.9912 - mae: 7430.9912\n",
            "Epoch 319/500\n",
            "34/34 [==============================] - 0s 2ms/step - loss: 7430.1108 - mae: 7430.1108\n",
            "Epoch 320/500\n",
            "34/34 [==============================] - 0s 2ms/step - loss: 7428.9741 - mae: 7428.9741\n",
            "Epoch 321/500\n",
            "34/34 [==============================] - 0s 3ms/step - loss: 7428.0532 - mae: 7428.0532\n",
            "Epoch 322/500\n",
            "34/34 [==============================] - 0s 2ms/step - loss: 7427.0840 - mae: 7427.0840\n",
            "Epoch 323/500\n",
            "34/34 [==============================] - 0s 2ms/step - loss: 7426.1367 - mae: 7426.1367\n",
            "Epoch 324/500\n",
            "34/34 [==============================] - 0s 2ms/step - loss: 7425.2002 - mae: 7425.2002\n",
            "Epoch 325/500\n",
            "34/34 [==============================] - 0s 2ms/step - loss: 7424.2456 - mae: 7424.2456\n",
            "Epoch 326/500\n",
            "34/34 [==============================] - 0s 2ms/step - loss: 7423.2886 - mae: 7423.2886\n",
            "Epoch 327/500\n",
            "34/34 [==============================] - 0s 2ms/step - loss: 7422.4268 - mae: 7422.4268\n",
            "Epoch 328/500\n",
            "34/34 [==============================] - 0s 2ms/step - loss: 7421.6606 - mae: 7421.6606\n",
            "Epoch 329/500\n",
            "34/34 [==============================] - 0s 2ms/step - loss: 7420.6289 - mae: 7420.6289\n",
            "Epoch 330/500\n",
            "34/34 [==============================] - 0s 2ms/step - loss: 7419.7046 - mae: 7419.7046\n",
            "Epoch 331/500\n",
            "34/34 [==============================] - 0s 2ms/step - loss: 7418.8354 - mae: 7418.8354\n",
            "Epoch 332/500\n",
            "34/34 [==============================] - 0s 2ms/step - loss: 7417.8716 - mae: 7417.8716\n",
            "Epoch 333/500\n",
            "34/34 [==============================] - 0s 2ms/step - loss: 7417.0732 - mae: 7417.0732\n",
            "Epoch 334/500\n",
            "34/34 [==============================] - 0s 2ms/step - loss: 7416.1201 - mae: 7416.1201\n",
            "Epoch 335/500\n",
            "34/34 [==============================] - 0s 3ms/step - loss: 7415.2183 - mae: 7415.2183\n",
            "Epoch 336/500\n",
            "34/34 [==============================] - 0s 2ms/step - loss: 7414.3457 - mae: 7414.3457\n",
            "Epoch 337/500\n",
            "34/34 [==============================] - 0s 3ms/step - loss: 7413.4805 - mae: 7413.4805\n",
            "Epoch 338/500\n",
            "34/34 [==============================] - 0s 3ms/step - loss: 7412.4761 - mae: 7412.4761\n",
            "Epoch 339/500\n",
            "34/34 [==============================] - 0s 3ms/step - loss: 7411.7012 - mae: 7411.7012\n",
            "Epoch 340/500\n",
            "34/34 [==============================] - 0s 3ms/step - loss: 7410.6211 - mae: 7410.6211\n",
            "Epoch 341/500\n",
            "34/34 [==============================] - 0s 3ms/step - loss: 7409.7778 - mae: 7409.7778\n",
            "Epoch 342/500\n",
            "34/34 [==============================] - 0s 2ms/step - loss: 7408.8921 - mae: 7408.8921\n",
            "Epoch 343/500\n",
            "34/34 [==============================] - 0s 3ms/step - loss: 7407.9277 - mae: 7407.9277\n",
            "Epoch 344/500\n",
            "34/34 [==============================] - 0s 3ms/step - loss: 7407.0332 - mae: 7407.0332\n",
            "Epoch 345/500\n",
            "34/34 [==============================] - 0s 3ms/step - loss: 7406.1050 - mae: 7406.1050\n",
            "Epoch 346/500\n",
            "34/34 [==============================] - 0s 2ms/step - loss: 7405.2227 - mae: 7405.2227\n",
            "Epoch 347/500\n",
            "34/34 [==============================] - 0s 2ms/step - loss: 7404.3130 - mae: 7404.3130\n",
            "Epoch 348/500\n",
            "34/34 [==============================] - 0s 2ms/step - loss: 7403.4077 - mae: 7403.4077\n",
            "Epoch 349/500\n",
            "34/34 [==============================] - 0s 2ms/step - loss: 7402.4629 - mae: 7402.4629\n",
            "Epoch 350/500\n",
            "34/34 [==============================] - 0s 3ms/step - loss: 7401.5342 - mae: 7401.5342\n",
            "Epoch 351/500\n",
            "34/34 [==============================] - 0s 3ms/step - loss: 7400.6265 - mae: 7400.6265\n",
            "Epoch 352/500\n",
            "34/34 [==============================] - 0s 3ms/step - loss: 7399.8232 - mae: 7399.8232\n",
            "Epoch 353/500\n",
            "34/34 [==============================] - 0s 3ms/step - loss: 7398.8306 - mae: 7398.8306\n",
            "Epoch 354/500\n",
            "34/34 [==============================] - 0s 3ms/step - loss: 7398.0142 - mae: 7398.0142\n",
            "Epoch 355/500\n",
            "34/34 [==============================] - 0s 3ms/step - loss: 7397.0239 - mae: 7397.0239\n",
            "Epoch 356/500\n",
            "34/34 [==============================] - 0s 2ms/step - loss: 7396.2393 - mae: 7396.2393\n",
            "Epoch 357/500\n",
            "34/34 [==============================] - 0s 2ms/step - loss: 7395.2412 - mae: 7395.2412\n",
            "Epoch 358/500\n",
            "34/34 [==============================] - 0s 2ms/step - loss: 7394.2915 - mae: 7394.2915\n",
            "Epoch 359/500\n",
            "34/34 [==============================] - 0s 2ms/step - loss: 7393.3179 - mae: 7393.3179\n",
            "Epoch 360/500\n",
            "34/34 [==============================] - 0s 2ms/step - loss: 7392.3950 - mae: 7392.3950\n",
            "Epoch 361/500\n",
            "34/34 [==============================] - 0s 3ms/step - loss: 7391.5215 - mae: 7391.5215\n",
            "Epoch 362/500\n",
            "34/34 [==============================] - 0s 3ms/step - loss: 7390.6133 - mae: 7390.6133\n",
            "Epoch 363/500\n",
            "34/34 [==============================] - 0s 3ms/step - loss: 7389.6143 - mae: 7389.6143\n",
            "Epoch 364/500\n",
            "34/34 [==============================] - 0s 3ms/step - loss: 7388.6934 - mae: 7388.6934\n",
            "Epoch 365/500\n",
            "34/34 [==============================] - 0s 3ms/step - loss: 7387.7485 - mae: 7387.7485\n",
            "Epoch 366/500\n",
            "34/34 [==============================] - 0s 2ms/step - loss: 7386.9092 - mae: 7386.9092\n",
            "Epoch 367/500\n",
            "34/34 [==============================] - 0s 3ms/step - loss: 7385.9292 - mae: 7385.9292\n",
            "Epoch 368/500\n",
            "34/34 [==============================] - 0s 2ms/step - loss: 7385.1538 - mae: 7385.1538\n",
            "Epoch 369/500\n",
            "34/34 [==============================] - 0s 3ms/step - loss: 7384.0874 - mae: 7384.0874\n",
            "Epoch 370/500\n",
            "34/34 [==============================] - 0s 3ms/step - loss: 7383.1279 - mae: 7383.1279\n",
            "Epoch 371/500\n",
            "34/34 [==============================] - 0s 2ms/step - loss: 7382.1636 - mae: 7382.1636\n",
            "Epoch 372/500\n",
            "34/34 [==============================] - 0s 3ms/step - loss: 7381.2319 - mae: 7381.2319\n",
            "Epoch 373/500\n",
            "34/34 [==============================] - 0s 2ms/step - loss: 7380.5254 - mae: 7380.5254\n",
            "Epoch 374/500\n",
            "34/34 [==============================] - 0s 2ms/step - loss: 7379.3755 - mae: 7379.3755\n",
            "Epoch 375/500\n",
            "34/34 [==============================] - 0s 2ms/step - loss: 7378.5967 - mae: 7378.5967\n",
            "Epoch 376/500\n",
            "34/34 [==============================] - 0s 4ms/step - loss: 7377.5195 - mae: 7377.5195\n",
            "Epoch 377/500\n",
            "34/34 [==============================] - 0s 4ms/step - loss: 7376.6118 - mae: 7376.6118\n",
            "Epoch 378/500\n",
            "34/34 [==============================] - 0s 2ms/step - loss: 7375.6768 - mae: 7375.6768\n",
            "Epoch 379/500\n",
            "34/34 [==============================] - 0s 2ms/step - loss: 7374.8276 - mae: 7374.8276\n",
            "Epoch 380/500\n",
            "34/34 [==============================] - 0s 2ms/step - loss: 7373.8711 - mae: 7373.8711\n",
            "Epoch 381/500\n",
            "34/34 [==============================] - 0s 2ms/step - loss: 7372.8716 - mae: 7372.8716\n",
            "Epoch 382/500\n",
            "34/34 [==============================] - 0s 2ms/step - loss: 7371.9634 - mae: 7371.9634\n",
            "Epoch 383/500\n",
            "34/34 [==============================] - 0s 2ms/step - loss: 7371.0361 - mae: 7371.0361\n",
            "Epoch 384/500\n",
            "34/34 [==============================] - 0s 2ms/step - loss: 7370.1445 - mae: 7370.1445\n",
            "Epoch 385/500\n",
            "34/34 [==============================] - 0s 2ms/step - loss: 7369.2124 - mae: 7369.2124\n",
            "Epoch 386/500\n",
            "34/34 [==============================] - 0s 2ms/step - loss: 7368.5186 - mae: 7368.5186\n",
            "Epoch 387/500\n",
            "34/34 [==============================] - 0s 2ms/step - loss: 7367.3091 - mae: 7367.3091\n",
            "Epoch 388/500\n",
            "34/34 [==============================] - 0s 2ms/step - loss: 7366.3857 - mae: 7366.3857\n",
            "Epoch 389/500\n",
            "34/34 [==============================] - 0s 2ms/step - loss: 7365.4141 - mae: 7365.4141\n",
            "Epoch 390/500\n",
            "34/34 [==============================] - 0s 2ms/step - loss: 7364.5161 - mae: 7364.5161\n",
            "Epoch 391/500\n",
            "34/34 [==============================] - 0s 2ms/step - loss: 7363.6445 - mae: 7363.6445\n",
            "Epoch 392/500\n",
            "34/34 [==============================] - 0s 2ms/step - loss: 7362.7212 - mae: 7362.7212\n",
            "Epoch 393/500\n",
            "34/34 [==============================] - 0s 2ms/step - loss: 7361.7021 - mae: 7361.7021\n",
            "Epoch 394/500\n",
            "34/34 [==============================] - 0s 2ms/step - loss: 7360.8066 - mae: 7360.8066\n",
            "Epoch 395/500\n",
            "34/34 [==============================] - 0s 3ms/step - loss: 7359.8530 - mae: 7359.8530\n",
            "Epoch 396/500\n",
            "34/34 [==============================] - 0s 2ms/step - loss: 7358.9883 - mae: 7358.9883\n",
            "Epoch 397/500\n",
            "34/34 [==============================] - 0s 2ms/step - loss: 7358.0654 - mae: 7358.0654\n",
            "Epoch 398/500\n",
            "34/34 [==============================] - 0s 2ms/step - loss: 7357.0815 - mae: 7357.0815\n",
            "Epoch 399/500\n",
            "34/34 [==============================] - 0s 2ms/step - loss: 7356.1289 - mae: 7356.1289\n",
            "Epoch 400/500\n",
            "34/34 [==============================] - 0s 2ms/step - loss: 7355.2109 - mae: 7355.2109\n",
            "Epoch 401/500\n",
            "34/34 [==============================] - 0s 2ms/step - loss: 7354.2539 - mae: 7354.2539\n",
            "Epoch 402/500\n",
            "34/34 [==============================] - 0s 2ms/step - loss: 7353.2847 - mae: 7353.2847\n",
            "Epoch 403/500\n",
            "34/34 [==============================] - 0s 2ms/step - loss: 7352.3911 - mae: 7352.3911\n",
            "Epoch 404/500\n",
            "34/34 [==============================] - 0s 2ms/step - loss: 7351.4370 - mae: 7351.4370\n",
            "Epoch 405/500\n",
            "34/34 [==============================] - 0s 2ms/step - loss: 7350.5220 - mae: 7350.5220\n",
            "Epoch 406/500\n",
            "34/34 [==============================] - 0s 3ms/step - loss: 7349.5806 - mae: 7349.5806\n",
            "Epoch 407/500\n",
            "34/34 [==============================] - 0s 2ms/step - loss: 7348.5952 - mae: 7348.5952\n",
            "Epoch 408/500\n",
            "34/34 [==============================] - 0s 2ms/step - loss: 7347.6602 - mae: 7347.6602\n",
            "Epoch 409/500\n",
            "34/34 [==============================] - 0s 2ms/step - loss: 7346.7607 - mae: 7346.7607\n",
            "Epoch 410/500\n",
            "34/34 [==============================] - 0s 2ms/step - loss: 7345.9341 - mae: 7345.9341\n",
            "Epoch 411/500\n",
            "34/34 [==============================] - 0s 2ms/step - loss: 7344.8848 - mae: 7344.8848\n",
            "Epoch 412/500\n",
            "34/34 [==============================] - 0s 2ms/step - loss: 7343.9370 - mae: 7343.9370\n",
            "Epoch 413/500\n",
            "34/34 [==============================] - 0s 2ms/step - loss: 7343.1270 - mae: 7343.1270\n",
            "Epoch 414/500\n",
            "34/34 [==============================] - 0s 2ms/step - loss: 7342.1108 - mae: 7342.1108\n",
            "Epoch 415/500\n",
            "34/34 [==============================] - 0s 2ms/step - loss: 7341.0952 - mae: 7341.0952\n",
            "Epoch 416/500\n",
            "34/34 [==============================] - 0s 2ms/step - loss: 7340.1372 - mae: 7340.1372\n",
            "Epoch 417/500\n",
            "34/34 [==============================] - 0s 2ms/step - loss: 7339.2275 - mae: 7339.2275\n",
            "Epoch 418/500\n",
            "34/34 [==============================] - 0s 2ms/step - loss: 7338.2998 - mae: 7338.2998\n",
            "Epoch 419/500\n",
            "34/34 [==============================] - 0s 2ms/step - loss: 7337.3940 - mae: 7337.3940\n",
            "Epoch 420/500\n",
            "34/34 [==============================] - 0s 2ms/step - loss: 7336.4229 - mae: 7336.4229\n",
            "Epoch 421/500\n",
            "34/34 [==============================] - 0s 2ms/step - loss: 7335.4854 - mae: 7335.4854\n",
            "Epoch 422/500\n",
            "34/34 [==============================] - 0s 2ms/step - loss: 7334.5752 - mae: 7334.5752\n",
            "Epoch 423/500\n",
            "34/34 [==============================] - 0s 2ms/step - loss: 7333.6426 - mae: 7333.6426\n",
            "Epoch 424/500\n",
            "34/34 [==============================] - 0s 2ms/step - loss: 7332.6465 - mae: 7332.6465\n",
            "Epoch 425/500\n",
            "34/34 [==============================] - 0s 2ms/step - loss: 7331.7207 - mae: 7331.7207\n",
            "Epoch 426/500\n",
            "34/34 [==============================] - 0s 2ms/step - loss: 7330.8013 - mae: 7330.8013\n",
            "Epoch 427/500\n",
            "34/34 [==============================] - 0s 2ms/step - loss: 7329.8970 - mae: 7329.8970\n",
            "Epoch 428/500\n",
            "34/34 [==============================] - 0s 2ms/step - loss: 7328.9326 - mae: 7328.9326\n",
            "Epoch 429/500\n",
            "34/34 [==============================] - 0s 2ms/step - loss: 7328.1265 - mae: 7328.1265\n",
            "Epoch 430/500\n",
            "34/34 [==============================] - 0s 2ms/step - loss: 7327.0708 - mae: 7327.0708\n",
            "Epoch 431/500\n",
            "34/34 [==============================] - 0s 2ms/step - loss: 7326.1885 - mae: 7326.1885\n",
            "Epoch 432/500\n",
            "34/34 [==============================] - 0s 2ms/step - loss: 7325.1743 - mae: 7325.1743\n",
            "Epoch 433/500\n",
            "34/34 [==============================] - 0s 2ms/step - loss: 7324.2949 - mae: 7324.2949\n",
            "Epoch 434/500\n",
            "34/34 [==============================] - 0s 2ms/step - loss: 7323.3394 - mae: 7323.3394\n",
            "Epoch 435/500\n",
            "34/34 [==============================] - 0s 2ms/step - loss: 7322.4321 - mae: 7322.4321\n",
            "Epoch 436/500\n",
            "34/34 [==============================] - 0s 2ms/step - loss: 7321.5112 - mae: 7321.5112\n",
            "Epoch 437/500\n",
            "34/34 [==============================] - 0s 2ms/step - loss: 7320.6479 - mae: 7320.6479\n",
            "Epoch 438/500\n",
            "34/34 [==============================] - 0s 2ms/step - loss: 7319.6187 - mae: 7319.6187\n",
            "Epoch 439/500\n",
            "34/34 [==============================] - 0s 2ms/step - loss: 7318.7446 - mae: 7318.7446\n",
            "Epoch 440/500\n",
            "34/34 [==============================] - 0s 2ms/step - loss: 7317.8091 - mae: 7317.8091\n",
            "Epoch 441/500\n",
            "34/34 [==============================] - 0s 2ms/step - loss: 7316.8896 - mae: 7316.8896\n",
            "Epoch 442/500\n",
            "34/34 [==============================] - 0s 2ms/step - loss: 7316.0146 - mae: 7316.0146\n",
            "Epoch 443/500\n",
            "34/34 [==============================] - 0s 2ms/step - loss: 7315.0928 - mae: 7315.0928\n",
            "Epoch 444/500\n",
            "34/34 [==============================] - 0s 2ms/step - loss: 7314.2056 - mae: 7314.2056\n",
            "Epoch 445/500\n",
            "34/34 [==============================] - 0s 2ms/step - loss: 7313.1812 - mae: 7313.1812\n",
            "Epoch 446/500\n",
            "34/34 [==============================] - 0s 2ms/step - loss: 7312.3853 - mae: 7312.3853\n",
            "Epoch 447/500\n",
            "34/34 [==============================] - 0s 2ms/step - loss: 7311.4199 - mae: 7311.4199\n",
            "Epoch 448/500\n",
            "34/34 [==============================] - 0s 2ms/step - loss: 7310.4839 - mae: 7310.4839\n",
            "Epoch 449/500\n",
            "34/34 [==============================] - 0s 2ms/step - loss: 7309.5317 - mae: 7309.5317\n",
            "Epoch 450/500\n",
            "34/34 [==============================] - 0s 3ms/step - loss: 7308.6069 - mae: 7308.6069\n",
            "Epoch 451/500\n",
            "34/34 [==============================] - 0s 2ms/step - loss: 7307.7480 - mae: 7307.7480\n",
            "Epoch 452/500\n",
            "34/34 [==============================] - 0s 2ms/step - loss: 7306.7681 - mae: 7306.7681\n",
            "Epoch 453/500\n",
            "34/34 [==============================] - 0s 2ms/step - loss: 7305.8091 - mae: 7305.8091\n",
            "Epoch 454/500\n",
            "34/34 [==============================] - 0s 2ms/step - loss: 7304.8945 - mae: 7304.8945\n",
            "Epoch 455/500\n",
            "34/34 [==============================] - 0s 2ms/step - loss: 7304.0005 - mae: 7304.0005\n",
            "Epoch 456/500\n",
            "34/34 [==============================] - 0s 2ms/step - loss: 7303.0371 - mae: 7303.0371\n",
            "Epoch 457/500\n",
            "34/34 [==============================] - 0s 2ms/step - loss: 7302.1050 - mae: 7302.1050\n",
            "Epoch 458/500\n",
            "34/34 [==============================] - 0s 2ms/step - loss: 7301.1689 - mae: 7301.1689\n",
            "Epoch 459/500\n",
            "34/34 [==============================] - 0s 2ms/step - loss: 7300.5381 - mae: 7300.5381\n",
            "Epoch 460/500\n",
            "34/34 [==============================] - 0s 2ms/step - loss: 7299.4185 - mae: 7299.4185\n",
            "Epoch 461/500\n",
            "34/34 [==============================] - 0s 2ms/step - loss: 7298.5693 - mae: 7298.5693\n",
            "Epoch 462/500\n",
            "34/34 [==============================] - 0s 2ms/step - loss: 7297.4199 - mae: 7297.4199\n",
            "Epoch 463/500\n",
            "34/34 [==============================] - 0s 2ms/step - loss: 7296.5635 - mae: 7296.5635\n",
            "Epoch 464/500\n",
            "34/34 [==============================] - 0s 2ms/step - loss: 7295.5977 - mae: 7295.5977\n",
            "Epoch 465/500\n",
            "34/34 [==============================] - 0s 2ms/step - loss: 7294.6577 - mae: 7294.6577\n",
            "Epoch 466/500\n",
            "34/34 [==============================] - 0s 2ms/step - loss: 7293.7153 - mae: 7293.7153\n",
            "Epoch 467/500\n",
            "34/34 [==============================] - 0s 2ms/step - loss: 7292.8208 - mae: 7292.8208\n",
            "Epoch 468/500\n",
            "34/34 [==============================] - 0s 2ms/step - loss: 7291.8325 - mae: 7291.8325\n",
            "Epoch 469/500\n",
            "34/34 [==============================] - 0s 2ms/step - loss: 7291.0820 - mae: 7291.0820\n",
            "Epoch 470/500\n",
            "34/34 [==============================] - 0s 2ms/step - loss: 7290.0122 - mae: 7290.0122\n",
            "Epoch 471/500\n",
            "34/34 [==============================] - 0s 2ms/step - loss: 7289.0884 - mae: 7289.0884\n",
            "Epoch 472/500\n",
            "34/34 [==============================] - 0s 2ms/step - loss: 7288.0654 - mae: 7288.0654\n",
            "Epoch 473/500\n",
            "34/34 [==============================] - 0s 2ms/step - loss: 7287.1309 - mae: 7287.1309\n",
            "Epoch 474/500\n",
            "34/34 [==============================] - 0s 2ms/step - loss: 7286.2329 - mae: 7286.2329\n",
            "Epoch 475/500\n",
            "34/34 [==============================] - 0s 2ms/step - loss: 7285.3613 - mae: 7285.3613\n",
            "Epoch 476/500\n",
            "34/34 [==============================] - 0s 2ms/step - loss: 7284.3877 - mae: 7284.3877\n",
            "Epoch 477/500\n",
            "34/34 [==============================] - 0s 2ms/step - loss: 7283.3843 - mae: 7283.3843\n",
            "Epoch 478/500\n",
            "34/34 [==============================] - 0s 2ms/step - loss: 7282.5020 - mae: 7282.5020\n",
            "Epoch 479/500\n",
            "34/34 [==============================] - 0s 2ms/step - loss: 7281.7661 - mae: 7281.7661\n",
            "Epoch 480/500\n",
            "34/34 [==============================] - 0s 2ms/step - loss: 7280.6831 - mae: 7280.6831\n",
            "Epoch 481/500\n",
            "34/34 [==============================] - 0s 2ms/step - loss: 7279.7012 - mae: 7279.7012\n",
            "Epoch 482/500\n",
            "34/34 [==============================] - 0s 2ms/step - loss: 7278.7612 - mae: 7278.7612\n",
            "Epoch 483/500\n",
            "34/34 [==============================] - 0s 2ms/step - loss: 7277.8262 - mae: 7277.8262\n",
            "Epoch 484/500\n",
            "34/34 [==============================] - 0s 2ms/step - loss: 7276.8496 - mae: 7276.8496\n",
            "Epoch 485/500\n",
            "34/34 [==============================] - 0s 2ms/step - loss: 7275.9536 - mae: 7275.9536\n",
            "Epoch 486/500\n",
            "34/34 [==============================] - 0s 2ms/step - loss: 7275.0151 - mae: 7275.0151\n",
            "Epoch 487/500\n",
            "34/34 [==============================] - 0s 2ms/step - loss: 7274.0859 - mae: 7274.0859\n",
            "Epoch 488/500\n",
            "34/34 [==============================] - 0s 3ms/step - loss: 7273.1797 - mae: 7273.1797\n",
            "Epoch 489/500\n",
            "34/34 [==============================] - 0s 2ms/step - loss: 7272.2427 - mae: 7272.2427\n",
            "Epoch 490/500\n",
            "34/34 [==============================] - 0s 3ms/step - loss: 7271.3525 - mae: 7271.3525\n",
            "Epoch 491/500\n",
            "34/34 [==============================] - 0s 2ms/step - loss: 7270.4346 - mae: 7270.4346\n",
            "Epoch 492/500\n",
            "34/34 [==============================] - 0s 3ms/step - loss: 7269.4707 - mae: 7269.4707\n",
            "Epoch 493/500\n",
            "34/34 [==============================] - 0s 2ms/step - loss: 7268.6943 - mae: 7268.6943\n",
            "Epoch 494/500\n",
            "34/34 [==============================] - 0s 2ms/step - loss: 7267.6553 - mae: 7267.6553\n",
            "Epoch 495/500\n",
            "34/34 [==============================] - 0s 2ms/step - loss: 7266.6743 - mae: 7266.6743\n",
            "Epoch 496/500\n",
            "34/34 [==============================] - 0s 4ms/step - loss: 7265.8320 - mae: 7265.8320\n",
            "Epoch 497/500\n",
            "34/34 [==============================] - 0s 3ms/step - loss: 7264.8804 - mae: 7264.8804\n",
            "Epoch 498/500\n",
            "34/34 [==============================] - 0s 4ms/step - loss: 7263.9282 - mae: 7263.9282\n",
            "Epoch 499/500\n",
            "34/34 [==============================] - 0s 3ms/step - loss: 7262.9946 - mae: 7262.9946\n",
            "Epoch 500/500\n",
            "34/34 [==============================] - 0s 4ms/step - loss: 7262.0635 - mae: 7262.0635\n"
          ]
        },
        {
          "output_type": "execute_result",
          "data": {
            "text/plain": [
              "<keras.callbacks.History at 0x786d26b57a00>"
            ]
          },
          "metadata": {},
          "execution_count": 62
        }
      ]
    },
    {
      "cell_type": "code",
      "source": [
        "#check results\n",
        "\n",
        "insurance_model.evaluate(X_test,y_test)"
      ],
      "metadata": {
        "colab": {
          "base_uri": "https://localhost:8080/"
        },
        "id": "lAIE2UNNB3Ij",
        "outputId": "0f211e25-6a27-4648-defc-8e238f0d3b51"
      },
      "execution_count": null,
      "outputs": [
        {
          "output_type": "stream",
          "name": "stdout",
          "text": [
            "9/9 [==============================] - 0s 2ms/step - loss: 7367.6006 - mae: 7367.6006\n"
          ]
        },
        {
          "output_type": "execute_result",
          "data": {
            "text/plain": [
              "[7367.6005859375, 7367.6005859375]"
            ]
          },
          "metadata": {},
          "execution_count": 63
        }
      ]
    },
    {
      "cell_type": "code",
      "source": [
        "y_train.median"
      ],
      "metadata": {
        "colab": {
          "base_uri": "https://localhost:8080/"
        },
        "id": "gu82BJX-F_Nv",
        "outputId": "5a6b7dcf-38ce-444c-eaff-40b187cfbc04"
      },
      "execution_count": null,
      "outputs": [
        {
          "output_type": "execute_result",
          "data": {
            "text/plain": [
              "<bound method NDFrame._add_numeric_operations.<locals>.median of 560      9193.83850\n",
              "1285     8534.67180\n",
              "1142    27117.99378\n",
              "969      8596.82780\n",
              "486     12475.35130\n",
              "           ...     \n",
              "1095     4561.18850\n",
              "1130     8582.30230\n",
              "1294    11931.12525\n",
              "860     46113.51100\n",
              "1126    10214.63600\n",
              "Name: charges, Length: 1070, dtype: float64>"
            ]
          },
          "metadata": {},
          "execution_count": 64
        }
      ]
    },
    {
      "cell_type": "code",
      "source": [
        "# Set random seed\n",
        "tf.random.set_seed(42)\n",
        "\n",
        "# Create a new model (same as model_2)\n",
        "insurance_model_2 = tf.keras.Sequential([\n",
        "  tf.keras.layers.Dense(100),\n",
        "  tf.keras.layers.Dense(10),\n",
        "  tf.keras.layers.Dense(1)\n",
        "])\n",
        "\n",
        "# Compile the model\n",
        "insurance_model_2.compile(loss=tf.keras.losses.mae,\n",
        "                        optimizer=tf.keras.optimizers.Adam(),\n",
        "                        metrics=['mae'])\n",
        "\n",
        "# Fit the model\n",
        "history=insurance_model_2.fit(X_train, y_train, epochs=100, verbose=0)"
      ],
      "metadata": {
        "id": "u1ffXMz4GJel"
      },
      "execution_count": null,
      "outputs": []
    },
    {
      "cell_type": "code",
      "source": [
        "insurance_model_2.evaluate(X_test,y_test)"
      ],
      "metadata": {
        "colab": {
          "base_uri": "https://localhost:8080/"
        },
        "id": "VIOzWWLoG3b5",
        "outputId": "065cedde-6faf-4cff-b236-98b2fa317a37"
      },
      "execution_count": null,
      "outputs": [
        {
          "output_type": "stream",
          "name": "stdout",
          "text": [
            "9/9 [==============================] - 0s 3ms/step - loss: 4736.1758 - mae: 4736.1758\n"
          ]
        },
        {
          "output_type": "execute_result",
          "data": {
            "text/plain": [
              "[4736.17578125, 4736.17578125]"
            ]
          },
          "metadata": {},
          "execution_count": 66
        }
      ]
    },
    {
      "cell_type": "code",
      "source": [
        "# Set random seed\n",
        "tf.random.set_seed(42)\n",
        "\n",
        "# Create a new model (same as model_2)\n",
        "insurance_model_3 = tf.keras.Sequential([\n",
        "  tf.keras.layers.Dense(100),\n",
        "  tf.keras.layers.Dense(10),\n",
        "  tf.keras.layers.Dense(1)\n",
        "])\n",
        "\n",
        "# Compile the model\n",
        "insurance_model_3.compile(loss=tf.keras.losses.mae,\n",
        "                        optimizer = tf.keras.optimizers.RMSprop(),\n",
        "                        metrics=['mae'])\n",
        "\n",
        "# Fit the model\n",
        "history=insurance_model_3.fit(X_train, y_train, epochs=1000, verbose=0)"
      ],
      "metadata": {
        "id": "iw_Ap_L6IfaC"
      },
      "execution_count": null,
      "outputs": []
    },
    {
      "cell_type": "code",
      "source": [
        "\n",
        "# Evaluate our larger model\n",
        "insurance_model_3.evaluate(X_test, y_test)"
      ],
      "metadata": {
        "colab": {
          "base_uri": "https://localhost:8080/"
        },
        "id": "SeCZNWCSI8hf",
        "outputId": "2ec43912-63cf-43ad-ee25-03f4a5e1cca7"
      },
      "execution_count": null,
      "outputs": [
        {
          "output_type": "stream",
          "name": "stdout",
          "text": [
            "9/9 [==============================] - 0s 2ms/step - loss: 3157.7283 - mae: 3157.7283\n"
          ]
        },
        {
          "output_type": "execute_result",
          "data": {
            "text/plain": [
              "[3157.728271484375, 3157.728271484375]"
            ]
          },
          "metadata": {},
          "execution_count": 68
        }
      ]
    },
    {
      "cell_type": "code",
      "source": [
        "pd.DataFrame(history.history).plot()\n",
        "plt.ylabel(\"loss\")\n",
        "plt.xlabel(\"epochs\");\n",
        "\n"
      ],
      "metadata": {
        "colab": {
          "base_uri": "https://localhost:8080/",
          "height": 449
        },
        "id": "__YrIo-UPDze",
        "outputId": "ff9d63ed-d03d-4fc0-e27d-e70ce25247ab"
      },
      "execution_count": null,
      "outputs": [
        {
          "output_type": "display_data",
          "data": {
            "text/plain": [
              "<Figure size 640x480 with 1 Axes>"
            ],
            "image/png": "[encoded data removed]"
          },
          "metadata": {}
        }
      ]
    },
    {
      "cell_type": "markdown",
      "source": [
        "## Preporocesising our data\n"
      ],
      "metadata": {
        "id": "nJG7-t7vUQVg"
      }
    },
    {
      "cell_type": "code",
      "source": [
        "import pandas as pd\n",
        "import matplotlib.pyplot as plt\n",
        "import tensorflow as tf\n",
        "\n"
      ],
      "metadata": {
        "id": "pvVmZvVUQ8pe"
      },
      "execution_count": null,
      "outputs": []
    },
    {
      "cell_type": "code",
      "source": [
        "#readinsurance dataset\n",
        "\n",
        "insurance = pd.read_csv('https://raw.githubusercontent.com/stedy/Machine-Learning-with-R-datasets/master/insurance.csv')\n",
        "\n",
        "insurance.head()"
      ],
      "metadata": {
        "colab": {
          "base_uri": "https://localhost:8080/",
          "height": 206
        },
        "id": "AcYUN0ggUbYW",
        "outputId": "83cbfc7d-6047-4ecd-d0c0-ab8482398057"
      },
      "execution_count": null,
      "outputs": [
        {
          "output_type": "execute_result",
          "data": {
            "text/plain": [
              "   age     sex     bmi  children smoker     region      charges\n",
              "0   19  female  27.900         0    yes  southwest  16884.92400\n",
              "1   18    male  33.770         1     no  southeast   1725.55230\n",
              "2   28    male  33.000         3     no  southeast   4449.46200\n",
              "3   33    male  22.705         0     no  northwest  21984.47061\n",
              "4   32    male  28.880         0     no  northwest   3866.85520"
            ],
            "text/html": [
              "\n",
              "  <div id=\"df-d73a1117-5070-4a29-86c5-3147ec50b73c\" class=\"colab-df-container\">\n",
              "    <div>\n",
              "<style scoped>\n",
              "    .dataframe tbody tr th:only-of-type {\n",
              "        vertical-align: middle;\n",
              "    }\n",
              "\n",
              "    .dataframe tbody tr th {\n",
              "        vertical-align: top;\n",
              "    }\n",
              "\n",
              "    .dataframe thead th {\n",
              "        text-align: right;\n",
              "    }\n",
              "</style>\n",
              "<table border=\"1\" class=\"dataframe\">\n",
              "  <thead>\n",
              "    <tr style=\"text-align: right;\">\n",
              "      <th></th>\n",
              "      <th>age</th>\n",
              "      <th>sex</th>\n",
              "      <th>bmi</th>\n",
              "      <th>children</th>\n",
              "      <th>smoker</th>\n",
              "      <th>region</th>\n",
              "      <th>charges</th>\n",
              "    </tr>\n",
              "  </thead>\n",
              "  <tbody>\n",
              "    <tr>\n",
              "      <th>0</th>\n",
              "      <td>19</td>\n",
              "      <td>female</td>\n",
              "      <td>27.900</td>\n",
              "      <td>0</td>\n",
              "      <td>yes</td>\n",
              "      <td>southwest</td>\n",
              "      <td>16884.92400</td>\n",
              "    </tr>\n",
              "    <tr>\n",
              "      <th>1</th>\n",
              "      <td>18</td>\n",
              "      <td>male</td>\n",
              "      <td>33.770</td>\n",
              "      <td>1</td>\n",
              "      <td>no</td>\n",
              "      <td>southeast</td>\n",
              "      <td>1725.55230</td>\n",
              "    </tr>\n",
              "    <tr>\n",
              "      <th>2</th>\n",
              "      <td>28</td>\n",
              "      <td>male</td>\n",
              "      <td>33.000</td>\n",
              "      <td>3</td>\n",
              "      <td>no</td>\n",
              "      <td>southeast</td>\n",
              "      <td>4449.46200</td>\n",
              "    </tr>\n",
              "    <tr>\n",
              "      <th>3</th>\n",
              "      <td>33</td>\n",
              "      <td>male</td>\n",
              "      <td>22.705</td>\n",
              "      <td>0</td>\n",
              "      <td>no</td>\n",
              "      <td>northwest</td>\n",
              "      <td>21984.47061</td>\n",
              "    </tr>\n",
              "    <tr>\n",
              "      <th>4</th>\n",
              "      <td>32</td>\n",
              "      <td>male</td>\n",
              "      <td>28.880</td>\n",
              "      <td>0</td>\n",
              "      <td>no</td>\n",
              "      <td>northwest</td>\n",
              "      <td>3866.85520</td>\n",
              "    </tr>\n",
              "  </tbody>\n",
              "</table>\n",
              "</div>\n",
              "    <div class=\"colab-df-buttons\">\n",
              "\n",
              "  <div class=\"colab-df-container\">\n",
              "    <button class=\"colab-df-convert\" onclick=\"convertToInteractive('df-d73a1117-5070-4a29-86c5-3147ec50b73c')\"\n",
              "            title=\"Convert this dataframe to an interactive table.\"\n",
              "            style=\"display:none;\">\n",
              "\n",
              "  <svg xmlns=\"http://www.w3.org/2000/svg\" height=\"24px\" viewBox=\"0 -960 960 960\">\n",
              "    <path d=\"M120-120v-720h720v720H120Zm60-500h600v-160H180v160Zm220 220h160v-160H400v160Zm0 220h160v-160H400v160ZM180-400h160v-160H180v160Zm440 0h160v-160H620v160ZM180-180h160v-160H180v160Zm440 0h160v-160H620v160Z\"/>\n",
              "  </svg>\n",
              "    </button>\n",
              "\n",
              "  <style>\n",
              "    .colab-df-container {\n",
              "      display:flex;\n",
              "      gap: 12px;\n",
              "    }\n",
              "\n",
              "    .colab-df-convert {\n",
              "      background-color: #E8F0FE;\n",
              "      border: none;\n",
              "      border-radius: 50%;\n",
              "      cursor: pointer;\n",
              "      display: none;\n",
              "      fill: #1967D2;\n",
              "      height: 32px;\n",
              "      padding: 0 0 0 0;\n",
              "      width: 32px;\n",
              "    }\n",
              "\n",
              "    .colab-df-convert:hover {\n",
              "      background-color: #E2EBFA;\n",
              "      box-shadow: 0px 1px 2px rgba(60, 64, 67, 0.3), 0px 1px 3px 1px rgba(60, 64, 67, 0.15);\n",
              "      fill: #174EA6;\n",
              "    }\n",
              "\n",
              "    .colab-df-buttons div {\n",
              "      margin-bottom: 4px;\n",
              "    }\n",
              "\n",
              "    [theme=dark] .colab-df-convert {\n",
              "      background-color: #3B4455;\n",
              "      fill: #D2E3FC;\n",
              "    }\n",
              "\n",
              "    [theme=dark] .colab-df-convert:hover {\n",
              "      background-color: #434B5C;\n",
              "      box-shadow: 0px 1px 3px 1px rgba(0, 0, 0, 0.15);\n",
              "      filter: drop-shadow(0px 1px 2px rgba(0, 0, 0, 0.3));\n",
              "      fill: #FFFFFF;\n",
              "    }\n",
              "  </style>\n",
              "\n",
              "    <script>\n",
              "      const buttonEl =\n",
              "        document.querySelector('#df-d73a1117-5070-4a29-86c5-3147ec50b73c button.colab-df-convert');\n",
              "      buttonEl.style.display =\n",
              "        google.colab.kernel.accessAllowed ? 'block' : 'none';\n",
              "\n",
              "      async function convertToInteractive(key) {\n",
              "        const element = document.querySelector('#df-d73a1117-5070-4a29-86c5-3147ec50b73c');\n",
              "        const dataTable =\n",
              "          await google.colab.kernel.invokeFunction('convertToInteractive',\n",
              "                                                    [key], {});\n",
              "        if (!dataTable) return;\n",
              "\n",
              "        const docLinkHtml = 'Like what you see? Visit the ' +\n",
              "          '<a target=\"_blank\" href=https://colab.research.google.com/notebooks/data_table.ipynb>data table notebook</a>'\n",
              "          + ' to learn more about interactive tables.';\n",
              "        element.innerHTML = '';\n",
              "        dataTable['output_type'] = 'display_data';\n",
              "        await google.colab.output.renderOutput(dataTable, element);\n",
              "        const docLink = document.createElement('div');\n",
              "        docLink.innerHTML = docLinkHtml;\n",
              "        element.appendChild(docLink);\n",
              "      }\n",
              "    </script>\n",
              "  </div>\n",
              "\n",
              "\n",
              "<div id=\"df-02f390b3-6681-4a63-b3a6-c696b127cbb1\">\n",
              "  <button class=\"colab-df-quickchart\" onclick=\"quickchart('df-02f390b3-6681-4a63-b3a6-c696b127cbb1')\"\n",
              "            title=\"Suggest charts.\"\n",
              "            style=\"display:none;\">\n",
              "\n",
              "<svg xmlns=\"http://www.w3.org/2000/svg\" height=\"24px\"viewBox=\"0 0 24 24\"\n",
              "     width=\"24px\">\n",
              "    <g>\n",
              "        <path d=\"M19 3H5c-1.1 0-2 .9-2 2v14c0 1.1.9 2 2 2h14c1.1 0 2-.9 2-2V5c0-1.1-.9-2-2-2zM9 17H7v-7h2v7zm4 0h-2V7h2v10zm4 0h-2v-4h2v4z\"/>\n",
              "    </g>\n",
              "</svg>\n",
              "  </button>\n",
              "\n",
              "<style>\n",
              "  .colab-df-quickchart {\n",
              "      --bg-color: #E8F0FE;\n",
              "      --fill-color: #1967D2;\n",
              "      --hover-bg-color: #E2EBFA;\n",
              "      --hover-fill-color: #174EA6;\n",
              "      --disabled-fill-color: #AAA;\n",
              "      --disabled-bg-color: #DDD;\n",
              "  }\n",
              "\n",
              "  [theme=dark] .colab-df-quickchart {\n",
              "      --bg-color: #3B4455;\n",
              "      --fill-color: #D2E3FC;\n",
              "      --hover-bg-color: #434B5C;\n",
              "      --hover-fill-color: #FFFFFF;\n",
              "      --disabled-bg-color: #3B4455;\n",
              "      --disabled-fill-color: #666;\n",
              "  }\n",
              "\n",
              "  .colab-df-quickchart {\n",
              "    background-color: var(--bg-color);\n",
              "    border: none;\n",
              "    border-radius: 50%;\n",
              "    cursor: pointer;\n",
              "    display: none;\n",
              "    fill: var(--fill-color);\n",
              "    height: 32px;\n",
              "    padding: 0;\n",
              "    width: 32px;\n",
              "  }\n",
              "\n",
              "  .colab-df-quickchart:hover {\n",
              "    background-color: var(--hover-bg-color);\n",
              "    box-shadow: 0 1px 2px rgba(60, 64, 67, 0.3), 0 1px 3px 1px rgba(60, 64, 67, 0.15);\n",
              "    fill: var(--button-hover-fill-color);\n",
              "  }\n",
              "\n",
              "  .colab-df-quickchart-complete:disabled,\n",
              "  .colab-df-quickchart-complete:disabled:hover {\n",
              "    background-color: var(--disabled-bg-color);\n",
              "    fill: var(--disabled-fill-color);\n",
              "    box-shadow: none;\n",
              "  }\n",
              "\n",
              "  .colab-df-spinner {\n",
              "    border: 2px solid var(--fill-color);\n",
              "    border-color: transparent;\n",
              "    border-bottom-color: var(--fill-color);\n",
              "    animation:\n",
              "      spin 1s steps(1) infinite;\n",
              "  }\n",
              "\n",
              "  @keyframes spin {\n",
              "    0% {\n",
              "      border-color: transparent;\n",
              "      border-bottom-color: var(--fill-color);\n",
              "      border-left-color: var(--fill-color);\n",
              "    }\n",
              "    20% {\n",
              "      border-color: transparent;\n",
              "      border-left-color: var(--fill-color);\n",
              "      border-top-color: var(--fill-color);\n",
              "    }\n",
              "    30% {\n",
              "      border-color: transparent;\n",
              "      border-left-color: var(--fill-color);\n",
              "      border-top-color: var(--fill-color);\n",
              "      border-right-color: var(--fill-color);\n",
              "    }\n",
              "    40% {\n",
              "      border-color: transparent;\n",
              "      border-right-color: var(--fill-color);\n",
              "      border-top-color: var(--fill-color);\n",
              "    }\n",
              "    60% {\n",
              "      border-color: transparent;\n",
              "      border-right-color: var(--fill-color);\n",
              "    }\n",
              "    80% {\n",
              "      border-color: transparent;\n",
              "      border-right-color: var(--fill-color);\n",
              "      border-bottom-color: var(--fill-color);\n",
              "    }\n",
              "    90% {\n",
              "      border-color: transparent;\n",
              "      border-bottom-color: var(--fill-color);\n",
              "    }\n",
              "  }\n",
              "</style>\n",
              "\n",
              "  <script>\n",
              "    async function quickchart(key) {\n",
              "      const quickchartButtonEl =\n",
              "        document.querySelector('#' + key + ' button');\n",
              "      quickchartButtonEl.disabled = true;  // To prevent multiple clicks.\n",
              "      quickchartButtonEl.classList.add('colab-df-spinner');\n",
              "      try {\n",
              "        const charts = await google.colab.kernel.invokeFunction(\n",
              "            'suggestCharts', [key], {});\n",
              "      } catch (error) {\n",
              "        console.error('Error during call to suggestCharts:', error);\n",
              "      }\n",
              "      quickchartButtonEl.classList.remove('colab-df-spinner');\n",
              "      quickchartButtonEl.classList.add('colab-df-quickchart-complete');\n",
              "    }\n",
              "    (() => {\n",
              "      let quickchartButtonEl =\n",
              "        document.querySelector('#df-02f390b3-6681-4a63-b3a6-c696b127cbb1 button');\n",
              "      quickchartButtonEl.style.display =\n",
              "        google.colab.kernel.accessAllowed ? 'block' : 'none';\n",
              "    })();\n",
              "  </script>\n",
              "</div>\n",
              "    </div>\n",
              "  </div>\n"
            ]
          },
          "metadata": {},
          "execution_count": 71
        }
      ]
    },
    {
      "cell_type": "code",
      "source": [
        "from sklearn.compose import make_column_transformer\n",
        "from sklearn.preprocessing import MinMaxScaler, OneHotEncoder\n",
        "from sklearn.model_selection import train_test_split\n",
        "\n",
        "#create a column transformer\n",
        "ct = make_column_transformer(\n",
        "    (MinMaxScaler(), ['age', 'bmi', 'children']), #turn values here to 0 nd 1\n",
        "    (OneHotEncoder(handle_unknown='ignore'),['sex', 'smoker', 'region'])\n",
        ")\n",
        "\n",
        "# Create X & y\n",
        "X = insurance.drop(\"charges\", axis=1)\n",
        "y = insurance[\"charges\"]\n",
        "\n",
        "# Build our train and test sets (use random state to ensure same split as before)\n",
        "X_train, X_test, y_train, y_test = train_test_split(X, y, test_size=0.2, random_state=42)\n",
        "\n",
        "# Fit column transformer on the training data only (doing so on test data would result in data leakage)\n",
        "ct.fit(X_train)\n",
        "\n",
        "# Transform training and test data with normalization (MinMaxScalar) and one hot encoding (OneHotEncoder)\n",
        "X_train_normal = ct.transform(X_train)\n",
        "X_test_normal = ct.transform(X_test)\n",
        "\n",
        "\n"
      ],
      "metadata": {
        "id": "X3LRnH-ZVi4Q"
      },
      "execution_count": null,
      "outputs": []
    },
    {
      "cell_type": "code",
      "source": [
        "\n",
        "# Non-normalized and non-one-hot encoded data example\n",
        "X_train.loc[0]"
      ],
      "metadata": {
        "colab": {
          "base_uri": "https://localhost:8080/"
        },
        "id": "jpNihBiJniYC",
        "outputId": "859b76fd-beb6-40d3-a90c-802df81c14e7"
      },
      "execution_count": null,
      "outputs": [
        {
          "output_type": "execute_result",
          "data": {
            "text/plain": [
              "age                19\n",
              "sex            female\n",
              "bmi              27.9\n",
              "children            0\n",
              "smoker            yes\n",
              "region      southwest\n",
              "Name: 0, dtype: object"
            ]
          },
          "metadata": {},
          "execution_count": 73
        }
      ]
    },
    {
      "cell_type": "code",
      "source": [
        "\n",
        "# Normalized and one-hot encoded example\n",
        "X_train_normal[0]"
      ],
      "metadata": {
        "colab": {
          "base_uri": "https://localhost:8080/"
        },
        "id": "9WJwRRj-oVvG",
        "outputId": "db8b082b-0309-4dd2-b531-e44d9cd958e9"
      },
      "execution_count": null,
      "outputs": [
        {
          "output_type": "execute_result",
          "data": {
            "text/plain": [
              "array([0.60869565, 0.10734463, 0.4       , 1.        , 0.        ,\n",
              "       1.        , 0.        , 0.        , 1.        , 0.        ,\n",
              "       0.        ])"
            ]
          },
          "metadata": {},
          "execution_count": 74
        }
      ]
    },
    {
      "cell_type": "code",
      "source": [
        "\n",
        "# Notice the normalized/one-hot encoded shape is larger because of the extra columns\n",
        "X_train_normal.shape, X_train.shape"
      ],
      "metadata": {
        "colab": {
          "base_uri": "https://localhost:8080/"
        },
        "id": "oZxYQZ98oYcP",
        "outputId": "9b0ebcf1-2192-46dc-dea7-53c494e5eaa1"
      },
      "execution_count": null,
      "outputs": [
        {
          "output_type": "execute_result",
          "data": {
            "text/plain": [
              "((1070, 11), (1070, 6))"
            ]
          },
          "metadata": {},
          "execution_count": 75
        }
      ]
    },
    {
      "cell_type": "code",
      "source": [
        "#build nn to fit on our normalized data\n",
        "# Set random seed\n",
        "tf.random.set_seed(42)\n",
        "\n",
        "# Create a new model (same as model_2)\n",
        "insurance_model_3 = tf.keras.Sequential([\n",
        "  tf.keras.layers.Dense(100),\n",
        "  tf.keras.layers.Dense(10),\n",
        "  tf.keras.layers.Dense(1)\n",
        "])\n",
        "\n",
        "# Compile the model\n",
        "insurance_model_3.compile(loss=tf.keras.losses.mae,\n",
        "                        optimizer = tf.keras.optimizers.RMSprop(),\n",
        "                        metrics=['mae'])\n",
        "\n",
        "# Fit the model\n",
        "history=insurance_model_3.fit(X_train_normal, y_train, epochs=1000, verbose=0)"
      ],
      "metadata": {
        "id": "t3gk4941ocgt"
      },
      "execution_count": null,
      "outputs": []
    },
    {
      "cell_type": "code",
      "source": [
        "# Evaluate our larger model\n",
        "insurance_model_3_loss, insurance_model_3_mae = insurance_model_3.evaluate(X_test_normal, y_test)"
      ],
      "metadata": {
        "colab": {
          "base_uri": "https://localhost:8080/"
        },
        "id": "IQGszfsfpPGJ",
        "outputId": "b87509bd-3cfb-486d-f290-1c57ee617322"
      },
      "execution_count": null,
      "outputs": [
        {
          "output_type": "stream",
          "name": "stdout",
          "text": [
            "9/9 [==============================] - 0s 2ms/step - loss: 3160.7185 - mae: 3160.7185\n"
          ]
        }
      ]
    },
    {
      "cell_type": "code",
      "source": [],
      "metadata": {
        "id": "sseiwB1mq6GX"
      },
      "execution_count": null,
      "outputs": []
    }
  ]
}